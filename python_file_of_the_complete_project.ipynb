{
 "cells": [
  {
   "cell_type": "markdown",
   "id": "b46f37a9",
   "metadata": {},
   "source": [
    "- **Step 1: Dataset Uploading**"
   ]
  },
  {
   "cell_type": "code",
   "execution_count": 11,
   "id": "72d0960b",
   "metadata": {},
   "outputs": [
    {
     "name": "stdout",
     "output_type": "stream",
     "text": [
      "Dataset loaded successfully!\n"
     ]
    }
   ],
   "source": [
    "import pandas as pd\n",
    "\n",
    "# Load the dataset\n",
    "dataset_2009_2010 = df = pd.read_excel('online_retail_II.xlsx', sheet_name='Year 2009-2010')\n",
    "print(\"Dataset loaded successfully!\")\n"
   ]
  },
  {
   "cell_type": "code",
   "execution_count": 10,
   "id": "f28dc661",
   "metadata": {},
   "outputs": [
    {
     "name": "stdout",
     "output_type": "stream",
     "text": [
      "Dataset loaded successfully!\n"
     ]
    }
   ],
   "source": [
    "# Load the dataset\n",
    "dataset_2010_2011 = pd.read_excel('online_retail_II.xlsx', sheet_name='Year 2010-2011')\n",
    "print(\"Dataset loaded successfully!\")"
   ]
  },
  {
   "cell_type": "code",
   "execution_count": 12,
   "id": "68cb1ed3",
   "metadata": {},
   "outputs": [],
   "source": [
    "final_dataset = pd.concat([dataset_2009_2010, dataset_2010_2011], ignore_index=True)"
   ]
  },
  {
   "cell_type": "code",
   "execution_count": 13,
   "id": "682e9a43",
   "metadata": {},
   "outputs": [
    {
     "data": {
      "text/html": [
       "<div>\n",
       "<style scoped>\n",
       "    .dataframe tbody tr th:only-of-type {\n",
       "        vertical-align: middle;\n",
       "    }\n",
       "\n",
       "    .dataframe tbody tr th {\n",
       "        vertical-align: top;\n",
       "    }\n",
       "\n",
       "    .dataframe thead th {\n",
       "        text-align: right;\n",
       "    }\n",
       "</style>\n",
       "<table border=\"1\" class=\"dataframe\">\n",
       "  <thead>\n",
       "    <tr style=\"text-align: right;\">\n",
       "      <th></th>\n",
       "      <th>Invoice</th>\n",
       "      <th>StockCode</th>\n",
       "      <th>Description</th>\n",
       "      <th>Quantity</th>\n",
       "      <th>InvoiceDate</th>\n",
       "      <th>Price</th>\n",
       "      <th>Customer ID</th>\n",
       "      <th>Country</th>\n",
       "    </tr>\n",
       "  </thead>\n",
       "  <tbody>\n",
       "    <tr>\n",
       "      <th>0</th>\n",
       "      <td>489434</td>\n",
       "      <td>85048</td>\n",
       "      <td>15CM CHRISTMAS GLASS BALL 20 LIGHTS</td>\n",
       "      <td>12</td>\n",
       "      <td>2009-12-01 07:45:00</td>\n",
       "      <td>6.95</td>\n",
       "      <td>13085.0</td>\n",
       "      <td>United Kingdom</td>\n",
       "    </tr>\n",
       "    <tr>\n",
       "      <th>1</th>\n",
       "      <td>489434</td>\n",
       "      <td>79323P</td>\n",
       "      <td>PINK CHERRY LIGHTS</td>\n",
       "      <td>12</td>\n",
       "      <td>2009-12-01 07:45:00</td>\n",
       "      <td>6.75</td>\n",
       "      <td>13085.0</td>\n",
       "      <td>United Kingdom</td>\n",
       "    </tr>\n",
       "    <tr>\n",
       "      <th>2</th>\n",
       "      <td>489434</td>\n",
       "      <td>79323W</td>\n",
       "      <td>WHITE CHERRY LIGHTS</td>\n",
       "      <td>12</td>\n",
       "      <td>2009-12-01 07:45:00</td>\n",
       "      <td>6.75</td>\n",
       "      <td>13085.0</td>\n",
       "      <td>United Kingdom</td>\n",
       "    </tr>\n",
       "    <tr>\n",
       "      <th>3</th>\n",
       "      <td>489434</td>\n",
       "      <td>22041</td>\n",
       "      <td>RECORD FRAME 7\" SINGLE SIZE</td>\n",
       "      <td>48</td>\n",
       "      <td>2009-12-01 07:45:00</td>\n",
       "      <td>2.10</td>\n",
       "      <td>13085.0</td>\n",
       "      <td>United Kingdom</td>\n",
       "    </tr>\n",
       "    <tr>\n",
       "      <th>4</th>\n",
       "      <td>489434</td>\n",
       "      <td>21232</td>\n",
       "      <td>STRAWBERRY CERAMIC TRINKET BOX</td>\n",
       "      <td>24</td>\n",
       "      <td>2009-12-01 07:45:00</td>\n",
       "      <td>1.25</td>\n",
       "      <td>13085.0</td>\n",
       "      <td>United Kingdom</td>\n",
       "    </tr>\n",
       "  </tbody>\n",
       "</table>\n",
       "</div>"
      ],
      "text/plain": [
       "  Invoice StockCode                          Description  Quantity  \\\n",
       "0  489434     85048  15CM CHRISTMAS GLASS BALL 20 LIGHTS        12   \n",
       "1  489434    79323P                   PINK CHERRY LIGHTS        12   \n",
       "2  489434    79323W                  WHITE CHERRY LIGHTS        12   \n",
       "3  489434     22041         RECORD FRAME 7\" SINGLE SIZE         48   \n",
       "4  489434     21232       STRAWBERRY CERAMIC TRINKET BOX        24   \n",
       "\n",
       "          InvoiceDate  Price  Customer ID         Country  \n",
       "0 2009-12-01 07:45:00   6.95      13085.0  United Kingdom  \n",
       "1 2009-12-01 07:45:00   6.75      13085.0  United Kingdom  \n",
       "2 2009-12-01 07:45:00   6.75      13085.0  United Kingdom  \n",
       "3 2009-12-01 07:45:00   2.10      13085.0  United Kingdom  \n",
       "4 2009-12-01 07:45:00   1.25      13085.0  United Kingdom  "
      ]
     },
     "execution_count": 13,
     "metadata": {},
     "output_type": "execute_result"
    }
   ],
   "source": [
    "final_dataset.head(5)"
   ]
  },
  {
   "cell_type": "markdown",
   "id": "26c28cc0",
   "metadata": {},
   "source": [
    "- **Step 2: Basic Dataset Information**"
   ]
  },
  {
   "cell_type": "code",
   "execution_count": 16,
   "id": "3dada279",
   "metadata": {},
   "outputs": [
    {
     "name": "stdout",
     "output_type": "stream",
     "text": [
      "Shape: (525461, 8)\n",
      "Columns: ['Invoice', 'StockCode', 'Description', 'Quantity', 'InvoiceDate', 'Price', 'Customer ID', 'Country']\n",
      "Data Types:\n",
      "Invoice                object\n",
      "StockCode              object\n",
      "Description            object\n",
      "Quantity                int64\n",
      "InvoiceDate    datetime64[ns]\n",
      "Price                 float64\n",
      "Customer ID           float64\n",
      "Country                object\n",
      "dtype: object\n"
     ]
    }
   ],
   "source": [
    "# Part 1: Basic structure\n",
    "print(f\"Shape: {dataset_2009_2010.shape}\") ## this will give the shape of the dataset in terms of rows and columns\n",
    "print(f\"Columns: {dataset_2009_2010.columns.tolist()}\") ## this will give all the column names present in the dataset\n",
    "print(f\"Data Types:\\n{dataset_2009_2010.dtypes}\") ## this will give the data types of each column present in the dataset\n"
   ]
  },
  {
   "cell_type": "code",
   "execution_count": 45,
   "id": "18714245",
   "metadata": {},
   "outputs": [
    {
     "data": {
      "text/plain": [
       "(525461, 8)"
      ]
     },
     "execution_count": 45,
     "metadata": {},
     "output_type": "execute_result"
    }
   ],
   "source": [
    "dataset_2009_2010.shape"
   ]
  },
  {
   "cell_type": "code",
   "execution_count": 46,
   "id": "641bb580",
   "metadata": {},
   "outputs": [
    {
     "data": {
      "text/plain": [
       "4203688"
      ]
     },
     "execution_count": 46,
     "metadata": {},
     "output_type": "execute_result"
    }
   ],
   "source": [
    "dataset_2009_2010.size"
   ]
  },
  {
   "cell_type": "code",
   "execution_count": 17,
   "id": "c23a445a",
   "metadata": {},
   "outputs": [
    {
     "name": "stdout",
     "output_type": "stream",
     "text": [
      "Shape: (541910, 8)\n",
      "Columns: ['Invoice', 'StockCode', 'Description', 'Quantity', 'InvoiceDate', 'Price', 'Customer ID', 'Country']\n",
      "Data Types:\n",
      "Invoice                object\n",
      "StockCode              object\n",
      "Description            object\n",
      "Quantity                int64\n",
      "InvoiceDate    datetime64[ns]\n",
      "Price                 float64\n",
      "Customer ID           float64\n",
      "Country                object\n",
      "dtype: object\n"
     ]
    }
   ],
   "source": [
    "# Part 1: Basic structure\n",
    "print(f\"Shape: {dataset_2010_2011.shape}\") ## this will give the shape of the dataset in terms of rows and columns\n",
    "print(f\"Columns: {dataset_2010_2011.columns.tolist()}\") ## this will give all the column names present in the dataset\n",
    "print(f\"Data Types:\\n{dataset_2010_2011.dtypes}\") ## this will give the data types of each column present in the dataset\n"
   ]
  },
  {
   "cell_type": "code",
   "execution_count": 47,
   "id": "1a21cbf8",
   "metadata": {},
   "outputs": [
    {
     "name": "stdout",
     "output_type": "stream",
     "text": [
      "(541910, 8)\n",
      "4335280\n"
     ]
    }
   ],
   "source": [
    "print(dataset_2010_2011.shape)\n",
    "print(dataset_2010_2011.size)"
   ]
  },
  {
   "cell_type": "code",
   "execution_count": 51,
   "id": "f4cd7f7e",
   "metadata": {},
   "outputs": [
    {
     "name": "stdout",
     "output_type": "stream",
     "text": [
      "Shape: (779425, 8)\n",
      "Columns: ['Invoice', 'StockCode', 'Description', 'Quantity', 'InvoiceDate', 'Price', 'Customer ID', 'Country']\n",
      "Data Types:\n",
      "Invoice                object\n",
      "StockCode              object\n",
      "Description            object\n",
      "Quantity                int64\n",
      "InvoiceDate    datetime64[ns]\n",
      "Price                 float64\n",
      "Customer ID           float64\n",
      "Country                object\n",
      "dtype: object\n"
     ]
    }
   ],
   "source": [
    "# Part 1: Basic structure\n",
    "print(f\"Shape: {final_dataset.shape}\") ## this will give the shape of the dataset in terms of rows and columns\n",
    "print(f\"Columns: {final_dataset.columns.tolist()}\") ## this will give all the column names present in the dataset\n",
    "print(f\"Data Types:\\n{final_dataset.dtypes}\") ## this will give the data types of each column present in the dataset\n"
   ]
  },
  {
   "cell_type": "markdown",
   "id": "09cf29fd",
   "metadata": {},
   "source": [
    "- **Now from here i am working on the dataset with name final_dataset**"
   ]
  },
  {
   "cell_type": "code",
   "execution_count": 21,
   "id": "64f382bc",
   "metadata": {},
   "outputs": [
    {
     "name": "stdout",
     "output_type": "stream",
     "text": [
      "No of Missing Values in the dataset is:\n",
      "Invoice             0\n",
      "StockCode           0\n",
      "Description      4382\n",
      "Quantity            0\n",
      "InvoiceDate         0\n",
      "Price               0\n",
      "Customer ID    243007\n",
      "Country             0\n",
      "dtype: int64\n"
     ]
    }
   ],
   "source": [
    "# Part 2: Missing values and duplicates\n",
    "print(\"No of Missing Values in the dataset is:\")\n",
    "print(final_dataset.isnull().sum())\n"
   ]
  },
  {
   "cell_type": "code",
   "execution_count": 22,
   "id": "ba5dcba8",
   "metadata": {},
   "outputs": [
    {
     "name": "stdout",
     "output_type": "stream",
     "text": [
      "\n",
      " No of Duplicate Rows present in the dataset is : 34335\n"
     ]
    }
   ],
   "source": [
    "print(f\"\\n No of Duplicate Rows present in the dataset is : {final_dataset.duplicated().sum()}\")"
   ]
  },
  {
   "cell_type": "code",
   "execution_count": 24,
   "id": "57cad400",
   "metadata": {},
   "outputs": [
    {
     "name": "stdout",
     "output_type": "stream",
     "text": [
      "\n",
      "=== Statistical Summary ===\n",
      "           Quantity         Price\n",
      "count  1.067371e+06  1.067371e+06\n",
      "mean   9.938898e+00  4.649388e+00\n",
      "std    1.727058e+02  1.235531e+02\n",
      "min   -8.099500e+04 -5.359436e+04\n",
      "25%    1.000000e+00  1.250000e+00\n",
      "50%    3.000000e+00  2.100000e+00\n",
      "75%    1.000000e+01  4.150000e+00\n",
      "max    8.099500e+04  3.897000e+04\n"
     ]
    }
   ],
   "source": [
    "# Numerical column statistics\n",
    "print(\"\\n=== Statistical Summary ===\")\n",
    "print(final_dataset[['Quantity', 'Price']].describe())\n"
   ]
  },
  {
   "cell_type": "code",
   "execution_count": 26,
   "id": "c8073ee4",
   "metadata": {},
   "outputs": [
    {
     "name": "stdout",
     "output_type": "stream",
     "text": [
      "\n",
      "=== Unique Value Counts ===\n",
      "Invoice: 53628 unique values\n",
      "StockCode: 5305 unique values\n",
      "Customer ID: 5942 unique values\n",
      "Country: 43 unique values\n"
     ]
    }
   ],
   "source": [
    "# Check unique values in categorical columns\n",
    "print(\"\\n=== Unique Value Counts ===\")\n",
    "for col in ['Invoice', 'StockCode', 'Customer ID', 'Country']:\n",
    "    print(f\"{col}: {final_dataset[col].nunique()} unique values\")\n"
   ]
  },
  {
   "cell_type": "code",
   "execution_count": 27,
   "id": "816d6036",
   "metadata": {},
   "outputs": [
    {
     "name": "stdout",
     "output_type": "stream",
     "text": [
      "\n",
      "=== First 3 Rows ===\n",
      "  Invoice StockCode                          Description  Quantity  \\\n",
      "0  489434     85048  15CM CHRISTMAS GLASS BALL 20 LIGHTS        12   \n",
      "1  489434    79323P                   PINK CHERRY LIGHTS        12   \n",
      "2  489434    79323W                  WHITE CHERRY LIGHTS        12   \n",
      "\n",
      "          InvoiceDate  Price  Customer ID         Country  \n",
      "0 2009-12-01 07:45:00   6.95      13085.0  United Kingdom  \n",
      "1 2009-12-01 07:45:00   6.75      13085.0  United Kingdom  \n",
      "2 2009-12-01 07:45:00   6.75      13085.0  United Kingdom  \n",
      "\n",
      "=== Last 3 Rows ===\n",
      "        Invoice StockCode                      Description  Quantity  \\\n",
      "1067368  581587     23255  CHILDRENS CUTLERY CIRCUS PARADE         4   \n",
      "1067369  581587     22138    BAKING SET 9 PIECE RETROSPOT          3   \n",
      "1067370  581587      POST                          POSTAGE         1   \n",
      "\n",
      "                InvoiceDate  Price  Customer ID Country  \n",
      "1067368 2011-12-09 12:50:00   4.15      12680.0  France  \n",
      "1067369 2011-12-09 12:50:00   4.95      12680.0  France  \n",
      "1067370 2011-12-09 12:50:00  18.00      12680.0  France  \n"
     ]
    }
   ],
   "source": [
    "# Preview first and last few rows\n",
    "print(\"\\n=== First 3 Rows ===\")\n",
    "print(final_dataset.head(3))\n",
    "print(\"\\n=== Last 3 Rows ===\")\n",
    "print(final_dataset.tail(3))\n"
   ]
  },
  {
   "cell_type": "code",
   "execution_count": 28,
   "id": "388f0053",
   "metadata": {},
   "outputs": [
    {
     "name": "stdout",
     "output_type": "stream",
     "text": [
      "\n",
      "=== Top 5 Countries by Transactions ===\n",
      "Country\n",
      "United Kingdom    981330\n",
      "EIRE               17866\n",
      "Germany            17624\n",
      "France             14330\n",
      "Netherlands         5140\n",
      "Name: count, dtype: int64\n"
     ]
    }
   ],
   "source": [
    "# Most common values in key columns\n",
    "print(\"\\n=== Top 5 Countries by Transactions ===\")\n",
    "print(final_dataset['Country'].value_counts().head(5))\n",
    "\n"
   ]
  },
  {
   "cell_type": "code",
   "execution_count": 29,
   "id": "5a861fd9",
   "metadata": {},
   "outputs": [
    {
     "name": "stdout",
     "output_type": "stream",
     "text": [
      "\n",
      "=== Top 5 Products by StockCode ===\n",
      "StockCode\n",
      "85123A    5829\n",
      "22423     4424\n",
      "85099B    4216\n",
      "21212     3318\n",
      "20725     3259\n",
      "Name: count, dtype: int64\n"
     ]
    }
   ],
   "source": [
    "print(\"\\n=== Top 5 Products by StockCode ===\")\n",
    "print(final_dataset['StockCode'].value_counts().head(5))"
   ]
  },
  {
   "cell_type": "code",
   "execution_count": 31,
   "id": "75761def",
   "metadata": {},
   "outputs": [
    {
     "name": "stdout",
     "output_type": "stream",
     "text": [
      "\n",
      "=== Negative or Zero Values ===\n",
      "Negative Quantities: 22950\n",
      "Zero or Negative UnitPrice: 6207\n"
     ]
    }
   ],
   "source": [
    "# Check for negative or zero quantities and unit prices\n",
    "print(\"\\n=== Negative or Zero Values ===\")\n",
    "print(f\"Negative Quantities: {(final_dataset['Quantity'] <= 0).sum()}\")\n",
    "print(f\"Zero or Negative UnitPrice: {(final_dataset['Price'] <= 0).sum()}\")\n"
   ]
  },
  {
   "cell_type": "code",
   "execution_count": 32,
   "id": "bd8f8c74",
   "metadata": {},
   "outputs": [
    {
     "name": "stdout",
     "output_type": "stream",
     "text": [
      "\n",
      "=== Date Range ===\n",
      "Min Date: 2009-12-01 07:45:00\n",
      "Max Date: 2011-12-09 12:50:00\n"
     ]
    }
   ],
   "source": [
    "# Check the date range of transactions\n",
    "print(\"\\n=== Date Range ===\")\n",
    "print(f\"Min Date: {final_dataset['InvoiceDate'].min()}\")\n",
    "print(f\"Max Date: {final_dataset['InvoiceDate'].max()}\")\n"
   ]
  },
  {
   "cell_type": "code",
   "execution_count": 33,
   "id": "e3bce4b2",
   "metadata": {},
   "outputs": [
    {
     "name": "stdout",
     "output_type": "stream",
     "text": [
      "\n",
      "=== CustomerID Data Type ===\n",
      "float64\n"
     ]
    }
   ],
   "source": [
    "# Check if CustomerID is float and convert to string if needed\n",
    "print(\"\\n=== CustomerID Data Type ===\")\n",
    "print(final_dataset['Customer ID'].dtype)\n"
   ]
  },
  {
   "cell_type": "markdown",
   "id": "0adf57e0",
   "metadata": {},
   "source": [
    "- **Step 3: Data Preprocessing & Feature Engineering**"
   ]
  },
  {
   "cell_type": "code",
   "execution_count": 39,
   "id": "ab7a1f2c",
   "metadata": {},
   "outputs": [
    {
     "name": "stdout",
     "output_type": "stream",
     "text": [
      "Shape before dropping missing Customer ID: (779425, 8)\n",
      "Shape after dropping missing CustomerID: (779425, 8)\n"
     ]
    }
   ],
   "source": [
    "# Drop rows with missing CustomerID (critical for the CLV analysis part )\n",
    "print(\"Shape before dropping missing Customer ID:\", final_dataset.shape)\n",
    "final_dataset = final_dataset.dropna(subset=['Customer ID'])\n",
    "print(\"Shape after dropping missing CustomerID:\", final_dataset.shape)\n",
    "\n",
    "# Handle missing Description (optional for CLV, but you can fill with \"Unknown\")\n",
    "final_dataset['Description'] = final_dataset['Description'].fillna(\"Unknown\")\n"
   ]
  },
  {
   "cell_type": "code",
   "execution_count": 37,
   "id": "16ad4ac4",
   "metadata": {},
   "outputs": [
    {
     "name": "stdout",
     "output_type": "stream",
     "text": [
      "Duplicate rows before removal: 26479\n",
      "Duplicate rows after removal: 0\n"
     ]
    }
   ],
   "source": [
    "# Drop duplicate rows\n",
    "print(\"Duplicate rows before removal:\", final_dataset.duplicated().sum())\n",
    "final_dataset = final_dataset.drop_duplicates()\n",
    "print(\"Duplicate rows after removal:\", final_dataset.duplicated().sum())\n"
   ]
  },
  {
   "cell_type": "code",
   "execution_count": 38,
   "id": "4a5fae77",
   "metadata": {},
   "outputs": [
    {
     "name": "stdout",
     "output_type": "stream",
     "text": [
      "Shape before removing invalid values: (797885, 8)\n",
      "Shape after removing invalid values: (779425, 8)\n"
     ]
    }
   ],
   "source": [
    "# Remove rows with zero/negative Quantity or UnitPrice\n",
    "print(\"Shape before removing invalid values:\", final_dataset.shape)\n",
    "final_dataset = final_dataset[(final_dataset['Quantity'] > 0) & (final_dataset['Price'] > 0)]\n",
    "print(\"Shape after removing invalid values:\", final_dataset.shape)\n"
   ]
  },
  {
   "cell_type": "code",
   "execution_count": null,
   "id": "6b54cf8f",
   "metadata": {},
   "outputs": [
    {
     "name": "stdout",
     "output_type": "stream",
     "text": [
      "\n",
      "Post-capping stats:\n",
      "            Quantity          Price\n",
      "count  779425.000000  779425.000000\n",
      "mean        8.285808       2.654312\n",
      "std         8.083299       2.120267\n",
      "min         1.000000       0.001000\n",
      "25%         2.000000       1.250000\n",
      "50%         6.000000       1.950000\n",
      "75%        12.000000       3.750000\n",
      "max        27.000000       7.500000\n"
     ]
    }
   ],
   "source": [
    "# Define columns to cap\n",
    "cols = ['Quantity', 'Price']\n",
    "\n",
    "# Calculate IQR\n",
    "Q1 = final_dataset[cols].quantile(0.25)\n",
    "Q3 = final_dataset[cols].quantile(0.75)\n",
    "IQR = Q3 - Q1\n",
    "\n",
    "# Cap outliers\n",
    "final_dataset[cols] = final_dataset[cols].clip(\n",
    "    lower=Q1 - 1.5 * IQR, ## box plot \n",
    "    upper=Q3 + 1.5 * IQR, \n",
    "    axis=1\n",
    ")\n",
    "\n",
    "# Verify\n",
    "print(\"\\nPost-capping stats:\")\n",
    "print(final_dataset[cols].describe())\n"
   ]
  },
  {
   "cell_type": "code",
   "execution_count": 75,
   "id": "71574179",
   "metadata": {},
   "outputs": [
    {
     "data": {
      "image/png": "[encoded data removed]",
      "text/plain": [
       "<Figure size 800x300 with 1 Axes>"
      ]
     },
     "metadata": {},
     "output_type": "display_data"
    },
    {
     "data": {
      "image/png": "[encoded data removed]",
      "text/plain": [
       "<Figure size 800x300 with 1 Axes>"
      ]
     },
     "metadata": {},
     "output_type": "display_data"
    }
   ],
   "source": [
    "import matplotlib.pyplot as plt\n",
    "\n",
    "for col in ['Quantity', 'Price']:\n",
    "    plt.figure(figsize=(8,3))\n",
    "    plt.boxplot(final_dataset[col])\n",
    "    plt.title(f'Boxplot of {col} after outlier capping')\n",
    "    plt.show()\n"
   ]
  },
  {
   "cell_type": "code",
   "execution_count": 52,
   "id": "b299027f",
   "metadata": {},
   "outputs": [
    {
     "name": "stdout",
     "output_type": "stream",
     "text": [
      "(779425, 8)\n",
      "6235400\n"
     ]
    }
   ],
   "source": [
    "print(final_dataset.shape)\n",
    "print(final_dataset.size)"
   ]
  },
  {
   "cell_type": "code",
   "execution_count": 54,
   "id": "77cd339f",
   "metadata": {},
   "outputs": [
    {
     "name": "stdout",
     "output_type": "stream",
     "text": [
      "\n",
      "CustomerID type: object\n"
     ]
    }
   ],
   "source": [
    "# Convert CustomerID to string (avoids float issues)\n",
    "final_dataset['Customer ID'] = final_dataset['Customer ID'].astype(int).astype(str)\n",
    "print(\"\\nCustomerID type:\", final_dataset['Customer ID'].dtype)\n"
   ]
  },
  {
   "cell_type": "code",
   "execution_count": 55,
   "id": "b70f5bf6",
   "metadata": {},
   "outputs": [],
   "source": [
    "# Create TotalPurchaseAmount\n",
    "final_dataset['TotalPurchaseAmount'] = final_dataset['Quantity'] * final_dataset['Price']\n",
    "\n",
    "# Extract time-based features\n",
    "final_dataset['InvoiceDate'] = pd.to_datetime(final_dataset['InvoiceDate'])\n",
    "final_dataset['InvoiceYear'] = final_dataset['InvoiceDate'].dt.year\n",
    "final_dataset['InvoiceMonth'] = final_dataset['InvoiceDate'].dt.month\n",
    "final_dataset['InvoiceDay'] = final_dataset['InvoiceDate'].dt.day\n"
   ]
  },
  {
   "cell_type": "code",
   "execution_count": 64,
   "id": "3f9aee6d",
   "metadata": {},
   "outputs": [
    {
     "name": "stdout",
     "output_type": "stream",
     "text": [
      "(779425, 12)\n",
      "9353100\n",
      "Index(['Invoice', 'StockCode', 'Description', 'Quantity', 'InvoiceDate',\n",
      "       'Price', 'Customer ID', 'Country', 'TotalPurchaseAmount', 'InvoiceYear',\n",
      "       'InvoiceMonth', 'InvoiceDay'],\n",
      "      dtype='object')\n",
      "Invoice                        object\n",
      "StockCode                      object\n",
      "Description                    object\n",
      "Quantity                        int64\n",
      "InvoiceDate            datetime64[ns]\n",
      "Price                         float64\n",
      "Customer ID                    object\n",
      "Country                        object\n",
      "TotalPurchaseAmount           float64\n",
      "InvoiceYear                     int32\n",
      "InvoiceMonth                    int32\n",
      "InvoiceDay                      int32\n",
      "dtype: object\n",
      "Invoice                0\n",
      "StockCode              0\n",
      "Description            0\n",
      "Quantity               0\n",
      "InvoiceDate            0\n",
      "Price                  0\n",
      "Customer ID            0\n",
      "Country                0\n",
      "TotalPurchaseAmount    0\n",
      "InvoiceYear            0\n",
      "InvoiceMonth           0\n",
      "InvoiceDay             0\n",
      "dtype: int64\n",
      "Duplicates Remaining: 46\n"
     ]
    }
   ],
   "source": [
    "print(final_dataset.shape)\n",
    "print(final_dataset.size)\n",
    "print(final_dataset.columns)\n",
    "print(final_dataset.dtypes)\n",
    "print(final_dataset.isnull().sum())\n",
    "print(f\"Duplicates Remaining: {final_dataset.duplicated().sum()}\")"
   ]
  },
  {
   "cell_type": "code",
   "execution_count": 76,
   "id": "3ec3ba6d",
   "metadata": {},
   "outputs": [
    {
     "name": "stdout",
     "output_type": "stream",
     "text": [
      "Duplicate rows before removal: 46\n",
      "Duplicate rows after removal: 0\n"
     ]
    }
   ],
   "source": [
    "# Drop duplicate rows\n",
    "print(\"Duplicate rows before removal:\", final_dataset.duplicated().sum())\n",
    "final_dataset = final_dataset.drop_duplicates()\n",
    "print(\"Duplicate rows after removal:\", final_dataset.duplicated().sum())"
   ]
  },
  {
   "cell_type": "code",
   "execution_count": 77,
   "id": "66040579",
   "metadata": {},
   "outputs": [
    {
     "name": "stdout",
     "output_type": "stream",
     "text": [
      "Duplicates Remaining: 0\n"
     ]
    }
   ],
   "source": [
    "print(f\"Duplicates Remaining: {final_dataset.duplicated().sum()}\")"
   ]
  },
  {
   "cell_type": "code",
   "execution_count": 74,
   "id": "1084b34a",
   "metadata": {},
   "outputs": [
    {
     "name": "stdout",
     "output_type": "stream",
     "text": [
      "=== Negative Values Count Per Column ===\n",
      "0\n",
      "0\n",
      "0\n",
      "\n",
      "=== Zero Values Count Per Column ===\n",
      "Invoice                0\n",
      "StockCode              0\n",
      "Description            0\n",
      "Quantity               0\n",
      "InvoiceDate            0\n",
      "Price                  0\n",
      "Customer ID            0\n",
      "Country                0\n",
      "TotalPurchaseAmount    0\n",
      "InvoiceYear            0\n",
      "InvoiceMonth           0\n",
      "InvoiceDay             0\n",
      "dtype: int64\n"
     ]
    }
   ],
   "source": [
    "# Count negative values in each column\n",
    "print(\"=== Negative Values Count Per Column ===\")\n",
    "neg_counts = (final_dataset['Quantity']< 0).sum()\n",
    "print(neg_counts)\n",
    "neg_counts_1 = (final_dataset['Price']< 0).sum()\n",
    "print(neg_counts_1)\n",
    "neg_counts_2 = (final_dataset['TotalPurchaseAmount']< 0).sum()\n",
    "print(neg_counts_2)\n",
    "\n",
    "# Count zero values in each column\n",
    "print(\"\\n=== Zero Values Count Per Column ===\")\n",
    "zero_counts = (final_dataset == 0).sum()\n",
    "print(zero_counts)\n"
   ]
  },
  {
   "cell_type": "code",
   "execution_count": 65,
   "id": "fed9ce71",
   "metadata": {},
   "outputs": [
    {
     "name": "stdout",
     "output_type": "stream",
     "text": [
      "\n",
      "=== Engineered Features ===\n",
      "TotalPurchaseAmount sample: [83.4 81.  81. ]\n",
      "Time Features - Year/Month/Day: [[2009, 12, 1]]\n"
     ]
    }
   ],
   "source": [
    "print(\"\\n=== Engineered Features ===\")\n",
    "print(\"TotalPurchaseAmount sample:\", final_dataset['TotalPurchaseAmount'].head(3).values)\n",
    "print(\"Time Features - Year/Month/Day:\", \n",
    "      final_dataset[['InvoiceYear','InvoiceMonth','InvoiceDay']].head(1).values.tolist())"
   ]
  },
  {
   "cell_type": "code",
   "execution_count": 67,
   "id": "4542df49",
   "metadata": {},
   "outputs": [
    {
     "name": "stdout",
     "output_type": "stream",
     "text": [
      "\n",
      "=== Key Categorical Columns ===\n",
      "Unique Customers: 5878\n",
      "Country Distribution:\n",
      " Country\n",
      "United Kingdom    700388\n",
      "Germany            16432\n",
      "EIRE               15565\n",
      "France             13511\n",
      "Netherlands         5085\n",
      "Name: count, dtype: int64\n"
     ]
    }
   ],
   "source": [
    "# 7. Categorical Columns Check\n",
    "print(\"\\n=== Key Categorical Columns ===\")\n",
    "print(\"Unique Customers:\", final_dataset['Customer ID'].nunique())\n",
    "print(\"Country Distribution:\\n\", final_dataset['Country'].value_counts().head(5))"
   ]
  },
  {
   "cell_type": "code",
   "execution_count": 68,
   "id": "7f899551",
   "metadata": {},
   "outputs": [
    {
     "name": "stdout",
     "output_type": "stream",
     "text": [
      "\n",
      "=== Transaction Date Range ===\n",
      "Start Date: 2009-12-01 07:45:00\n",
      "End Date: 2011-12-09 12:50:00\n"
     ]
    }
   ],
   "source": [
    "print(\"\\n=== Transaction Date Range ===\")\n",
    "print(f\"Start Date: {final_dataset['InvoiceDate'].min()}\")\n",
    "print(f\"End Date: {final_dataset['InvoiceDate'].max()}\")"
   ]
  },
  {
   "cell_type": "code",
   "execution_count": 78,
   "id": "297658eb",
   "metadata": {},
   "outputs": [
    {
     "data": {
      "text/html": [
       "<div>\n",
       "<style scoped>\n",
       "    .dataframe tbody tr th:only-of-type {\n",
       "        vertical-align: middle;\n",
       "    }\n",
       "\n",
       "    .dataframe tbody tr th {\n",
       "        vertical-align: top;\n",
       "    }\n",
       "\n",
       "    .dataframe thead th {\n",
       "        text-align: right;\n",
       "    }\n",
       "</style>\n",
       "<table border=\"1\" class=\"dataframe\">\n",
       "  <thead>\n",
       "    <tr style=\"text-align: right;\">\n",
       "      <th></th>\n",
       "      <th>Invoice</th>\n",
       "      <th>StockCode</th>\n",
       "      <th>Description</th>\n",
       "      <th>Quantity</th>\n",
       "      <th>InvoiceDate</th>\n",
       "      <th>Price</th>\n",
       "      <th>Customer ID</th>\n",
       "      <th>Country</th>\n",
       "      <th>TotalPurchaseAmount</th>\n",
       "      <th>InvoiceYear</th>\n",
       "      <th>InvoiceMonth</th>\n",
       "      <th>InvoiceDay</th>\n",
       "    </tr>\n",
       "  </thead>\n",
       "  <tbody>\n",
       "    <tr>\n",
       "      <th>0</th>\n",
       "      <td>489434</td>\n",
       "      <td>85048</td>\n",
       "      <td>15CM CHRISTMAS GLASS BALL 20 LIGHTS</td>\n",
       "      <td>12</td>\n",
       "      <td>2009-12-01 07:45:00</td>\n",
       "      <td>6.95</td>\n",
       "      <td>13085</td>\n",
       "      <td>United Kingdom</td>\n",
       "      <td>83.4</td>\n",
       "      <td>2009</td>\n",
       "      <td>12</td>\n",
       "      <td>1</td>\n",
       "    </tr>\n",
       "    <tr>\n",
       "      <th>1</th>\n",
       "      <td>489434</td>\n",
       "      <td>79323P</td>\n",
       "      <td>PINK CHERRY LIGHTS</td>\n",
       "      <td>12</td>\n",
       "      <td>2009-12-01 07:45:00</td>\n",
       "      <td>6.75</td>\n",
       "      <td>13085</td>\n",
       "      <td>United Kingdom</td>\n",
       "      <td>81.0</td>\n",
       "      <td>2009</td>\n",
       "      <td>12</td>\n",
       "      <td>1</td>\n",
       "    </tr>\n",
       "    <tr>\n",
       "      <th>2</th>\n",
       "      <td>489434</td>\n",
       "      <td>79323W</td>\n",
       "      <td>WHITE CHERRY LIGHTS</td>\n",
       "      <td>12</td>\n",
       "      <td>2009-12-01 07:45:00</td>\n",
       "      <td>6.75</td>\n",
       "      <td>13085</td>\n",
       "      <td>United Kingdom</td>\n",
       "      <td>81.0</td>\n",
       "      <td>2009</td>\n",
       "      <td>12</td>\n",
       "      <td>1</td>\n",
       "    </tr>\n",
       "    <tr>\n",
       "      <th>3</th>\n",
       "      <td>489434</td>\n",
       "      <td>22041</td>\n",
       "      <td>RECORD FRAME 7\" SINGLE SIZE</td>\n",
       "      <td>27</td>\n",
       "      <td>2009-12-01 07:45:00</td>\n",
       "      <td>2.10</td>\n",
       "      <td>13085</td>\n",
       "      <td>United Kingdom</td>\n",
       "      <td>56.7</td>\n",
       "      <td>2009</td>\n",
       "      <td>12</td>\n",
       "      <td>1</td>\n",
       "    </tr>\n",
       "    <tr>\n",
       "      <th>4</th>\n",
       "      <td>489434</td>\n",
       "      <td>21232</td>\n",
       "      <td>STRAWBERRY CERAMIC TRINKET BOX</td>\n",
       "      <td>24</td>\n",
       "      <td>2009-12-01 07:45:00</td>\n",
       "      <td>1.25</td>\n",
       "      <td>13085</td>\n",
       "      <td>United Kingdom</td>\n",
       "      <td>30.0</td>\n",
       "      <td>2009</td>\n",
       "      <td>12</td>\n",
       "      <td>1</td>\n",
       "    </tr>\n",
       "  </tbody>\n",
       "</table>\n",
       "</div>"
      ],
      "text/plain": [
       "  Invoice StockCode                          Description  Quantity  \\\n",
       "0  489434     85048  15CM CHRISTMAS GLASS BALL 20 LIGHTS        12   \n",
       "1  489434    79323P                   PINK CHERRY LIGHTS        12   \n",
       "2  489434    79323W                  WHITE CHERRY LIGHTS        12   \n",
       "3  489434     22041         RECORD FRAME 7\" SINGLE SIZE         27   \n",
       "4  489434     21232       STRAWBERRY CERAMIC TRINKET BOX        24   \n",
       "\n",
       "          InvoiceDate  Price Customer ID         Country  TotalPurchaseAmount  \\\n",
       "0 2009-12-01 07:45:00   6.95       13085  United Kingdom                 83.4   \n",
       "1 2009-12-01 07:45:00   6.75       13085  United Kingdom                 81.0   \n",
       "2 2009-12-01 07:45:00   6.75       13085  United Kingdom                 81.0   \n",
       "3 2009-12-01 07:45:00   2.10       13085  United Kingdom                 56.7   \n",
       "4 2009-12-01 07:45:00   1.25       13085  United Kingdom                 30.0   \n",
       "\n",
       "   InvoiceYear  InvoiceMonth  InvoiceDay  \n",
       "0         2009            12           1  \n",
       "1         2009            12           1  \n",
       "2         2009            12           1  \n",
       "3         2009            12           1  \n",
       "4         2009            12           1  "
      ]
     },
     "execution_count": 78,
     "metadata": {},
     "output_type": "execute_result"
    }
   ],
   "source": [
    "final_dataset.head(5)"
   ]
  },
  {
   "cell_type": "code",
   "execution_count": 80,
   "id": "db9dc136",
   "metadata": {},
   "outputs": [
    {
     "name": "stdout",
     "output_type": "stream",
     "text": [
      "(779379, 12)\n",
      "9352548\n",
      "Index(['Invoice', 'StockCode', 'Description', 'Quantity', 'InvoiceDate',\n",
      "       'Price', 'Customer ID', 'Country', 'TotalPurchaseAmount', 'InvoiceYear',\n",
      "       'InvoiceMonth', 'InvoiceDay'],\n",
      "      dtype='object')\n",
      "Invoice                        object\n",
      "StockCode                      object\n",
      "Description                    object\n",
      "Quantity                        int64\n",
      "InvoiceDate            datetime64[ns]\n",
      "Price                         float64\n",
      "Customer ID                    object\n",
      "Country                        object\n",
      "TotalPurchaseAmount           float64\n",
      "InvoiceYear                     int32\n",
      "InvoiceMonth                    int32\n",
      "InvoiceDay                      int32\n",
      "dtype: object\n",
      "Invoice                0\n",
      "StockCode              0\n",
      "Description            0\n",
      "Quantity               0\n",
      "InvoiceDate            0\n",
      "Price                  0\n",
      "Customer ID            0\n",
      "Country                0\n",
      "TotalPurchaseAmount    0\n",
      "InvoiceYear            0\n",
      "InvoiceMonth           0\n",
      "InvoiceDay             0\n",
      "dtype: int64\n",
      "Duplicates Remaining: 0\n"
     ]
    }
   ],
   "source": [
    "print(final_dataset.shape)\n",
    "print(final_dataset.size)\n",
    "print(final_dataset.columns)\n",
    "print(final_dataset.dtypes)\n",
    "print(final_dataset.isnull().sum())\n",
    "print(f\"Duplicates Remaining: {final_dataset.duplicated().sum()}\")"
   ]
  },
  {
   "cell_type": "code",
   "execution_count": 81,
   "id": "9a3be2e5",
   "metadata": {},
   "outputs": [
    {
     "name": "stdout",
     "output_type": "stream",
     "text": [
      "Invoice                        object\n",
      "StockCode                      object\n",
      "Description                    object\n",
      "Quantity                        int64\n",
      "InvoiceDate            datetime64[ns]\n",
      "Price                         float64\n",
      "Customer ID                    object\n",
      "Country                        object\n",
      "TotalPurchaseAmount           float64\n",
      "InvoiceYear                     int32\n",
      "InvoiceMonth                    int32\n",
      "InvoiceDay                      int32\n",
      "dtype: object\n"
     ]
    }
   ],
   "source": [
    "print(final_dataset.dtypes)\n"
   ]
  },
  {
   "cell_type": "code",
   "execution_count": 83,
   "id": "04aeeaeb",
   "metadata": {},
   "outputs": [
    {
     "name": "stdout",
     "output_type": "stream",
     "text": [
      "36969 unique invoices out of 779379 rows\n"
     ]
    }
   ],
   "source": [
    "print(final_dataset['Invoice'].nunique(), \"unique invoices out of\", len(final_dataset), \"rows\")\n",
    "\n"
   ]
  },
  {
   "cell_type": "code",
   "execution_count": 84,
   "id": "78912b49",
   "metadata": {},
   "outputs": [],
   "source": [
    "final_dataset = final_dataset.reset_index(drop=True)\n"
   ]
  },
  {
   "cell_type": "code",
   "execution_count": 85,
   "id": "42be79e8",
   "metadata": {},
   "outputs": [
    {
     "data": {
      "text/html": [
       "<div>\n",
       "<style scoped>\n",
       "    .dataframe tbody tr th:only-of-type {\n",
       "        vertical-align: middle;\n",
       "    }\n",
       "\n",
       "    .dataframe tbody tr th {\n",
       "        vertical-align: top;\n",
       "    }\n",
       "\n",
       "    .dataframe thead th {\n",
       "        text-align: right;\n",
       "    }\n",
       "</style>\n",
       "<table border=\"1\" class=\"dataframe\">\n",
       "  <thead>\n",
       "    <tr style=\"text-align: right;\">\n",
       "      <th></th>\n",
       "      <th>Invoice</th>\n",
       "      <th>StockCode</th>\n",
       "      <th>Description</th>\n",
       "      <th>Quantity</th>\n",
       "      <th>InvoiceDate</th>\n",
       "      <th>Price</th>\n",
       "      <th>Customer ID</th>\n",
       "      <th>Country</th>\n",
       "      <th>TotalPurchaseAmount</th>\n",
       "      <th>InvoiceYear</th>\n",
       "      <th>InvoiceMonth</th>\n",
       "      <th>InvoiceDay</th>\n",
       "    </tr>\n",
       "  </thead>\n",
       "  <tbody>\n",
       "    <tr>\n",
       "      <th>0</th>\n",
       "      <td>489434</td>\n",
       "      <td>85048</td>\n",
       "      <td>15CM CHRISTMAS GLASS BALL 20 LIGHTS</td>\n",
       "      <td>12</td>\n",
       "      <td>2009-12-01 07:45:00</td>\n",
       "      <td>6.95</td>\n",
       "      <td>13085</td>\n",
       "      <td>United Kingdom</td>\n",
       "      <td>83.4</td>\n",
       "      <td>2009</td>\n",
       "      <td>12</td>\n",
       "      <td>1</td>\n",
       "    </tr>\n",
       "    <tr>\n",
       "      <th>1</th>\n",
       "      <td>489434</td>\n",
       "      <td>79323P</td>\n",
       "      <td>PINK CHERRY LIGHTS</td>\n",
       "      <td>12</td>\n",
       "      <td>2009-12-01 07:45:00</td>\n",
       "      <td>6.75</td>\n",
       "      <td>13085</td>\n",
       "      <td>United Kingdom</td>\n",
       "      <td>81.0</td>\n",
       "      <td>2009</td>\n",
       "      <td>12</td>\n",
       "      <td>1</td>\n",
       "    </tr>\n",
       "    <tr>\n",
       "      <th>2</th>\n",
       "      <td>489434</td>\n",
       "      <td>79323W</td>\n",
       "      <td>WHITE CHERRY LIGHTS</td>\n",
       "      <td>12</td>\n",
       "      <td>2009-12-01 07:45:00</td>\n",
       "      <td>6.75</td>\n",
       "      <td>13085</td>\n",
       "      <td>United Kingdom</td>\n",
       "      <td>81.0</td>\n",
       "      <td>2009</td>\n",
       "      <td>12</td>\n",
       "      <td>1</td>\n",
       "    </tr>\n",
       "    <tr>\n",
       "      <th>3</th>\n",
       "      <td>489434</td>\n",
       "      <td>22041</td>\n",
       "      <td>RECORD FRAME 7\" SINGLE SIZE</td>\n",
       "      <td>27</td>\n",
       "      <td>2009-12-01 07:45:00</td>\n",
       "      <td>2.10</td>\n",
       "      <td>13085</td>\n",
       "      <td>United Kingdom</td>\n",
       "      <td>56.7</td>\n",
       "      <td>2009</td>\n",
       "      <td>12</td>\n",
       "      <td>1</td>\n",
       "    </tr>\n",
       "    <tr>\n",
       "      <th>4</th>\n",
       "      <td>489434</td>\n",
       "      <td>21232</td>\n",
       "      <td>STRAWBERRY CERAMIC TRINKET BOX</td>\n",
       "      <td>24</td>\n",
       "      <td>2009-12-01 07:45:00</td>\n",
       "      <td>1.25</td>\n",
       "      <td>13085</td>\n",
       "      <td>United Kingdom</td>\n",
       "      <td>30.0</td>\n",
       "      <td>2009</td>\n",
       "      <td>12</td>\n",
       "      <td>1</td>\n",
       "    </tr>\n",
       "    <tr>\n",
       "      <th>5</th>\n",
       "      <td>489434</td>\n",
       "      <td>22064</td>\n",
       "      <td>PINK DOUGHNUT TRINKET POT</td>\n",
       "      <td>24</td>\n",
       "      <td>2009-12-01 07:45:00</td>\n",
       "      <td>1.65</td>\n",
       "      <td>13085</td>\n",
       "      <td>United Kingdom</td>\n",
       "      <td>39.6</td>\n",
       "      <td>2009</td>\n",
       "      <td>12</td>\n",
       "      <td>1</td>\n",
       "    </tr>\n",
       "    <tr>\n",
       "      <th>6</th>\n",
       "      <td>489434</td>\n",
       "      <td>21871</td>\n",
       "      <td>SAVE THE PLANET MUG</td>\n",
       "      <td>24</td>\n",
       "      <td>2009-12-01 07:45:00</td>\n",
       "      <td>1.25</td>\n",
       "      <td>13085</td>\n",
       "      <td>United Kingdom</td>\n",
       "      <td>30.0</td>\n",
       "      <td>2009</td>\n",
       "      <td>12</td>\n",
       "      <td>1</td>\n",
       "    </tr>\n",
       "    <tr>\n",
       "      <th>7</th>\n",
       "      <td>489434</td>\n",
       "      <td>21523</td>\n",
       "      <td>FANCY FONT HOME SWEET HOME DOORMAT</td>\n",
       "      <td>10</td>\n",
       "      <td>2009-12-01 07:45:00</td>\n",
       "      <td>5.95</td>\n",
       "      <td>13085</td>\n",
       "      <td>United Kingdom</td>\n",
       "      <td>59.5</td>\n",
       "      <td>2009</td>\n",
       "      <td>12</td>\n",
       "      <td>1</td>\n",
       "    </tr>\n",
       "    <tr>\n",
       "      <th>8</th>\n",
       "      <td>489435</td>\n",
       "      <td>22350</td>\n",
       "      <td>CAT BOWL</td>\n",
       "      <td>12</td>\n",
       "      <td>2009-12-01 07:46:00</td>\n",
       "      <td>2.55</td>\n",
       "      <td>13085</td>\n",
       "      <td>United Kingdom</td>\n",
       "      <td>30.6</td>\n",
       "      <td>2009</td>\n",
       "      <td>12</td>\n",
       "      <td>1</td>\n",
       "    </tr>\n",
       "    <tr>\n",
       "      <th>9</th>\n",
       "      <td>489435</td>\n",
       "      <td>22349</td>\n",
       "      <td>DOG BOWL , CHASING BALL DESIGN</td>\n",
       "      <td>12</td>\n",
       "      <td>2009-12-01 07:46:00</td>\n",
       "      <td>3.75</td>\n",
       "      <td>13085</td>\n",
       "      <td>United Kingdom</td>\n",
       "      <td>45.0</td>\n",
       "      <td>2009</td>\n",
       "      <td>12</td>\n",
       "      <td>1</td>\n",
       "    </tr>\n",
       "  </tbody>\n",
       "</table>\n",
       "</div>"
      ],
      "text/plain": [
       "  Invoice StockCode                          Description  Quantity  \\\n",
       "0  489434     85048  15CM CHRISTMAS GLASS BALL 20 LIGHTS        12   \n",
       "1  489434    79323P                   PINK CHERRY LIGHTS        12   \n",
       "2  489434    79323W                  WHITE CHERRY LIGHTS        12   \n",
       "3  489434     22041         RECORD FRAME 7\" SINGLE SIZE         27   \n",
       "4  489434     21232       STRAWBERRY CERAMIC TRINKET BOX        24   \n",
       "5  489434     22064           PINK DOUGHNUT TRINKET POT         24   \n",
       "6  489434     21871                  SAVE THE PLANET MUG        24   \n",
       "7  489434     21523   FANCY FONT HOME SWEET HOME DOORMAT        10   \n",
       "8  489435     22350                            CAT BOWL         12   \n",
       "9  489435     22349       DOG BOWL , CHASING BALL DESIGN        12   \n",
       "\n",
       "          InvoiceDate  Price Customer ID         Country  TotalPurchaseAmount  \\\n",
       "0 2009-12-01 07:45:00   6.95       13085  United Kingdom                 83.4   \n",
       "1 2009-12-01 07:45:00   6.75       13085  United Kingdom                 81.0   \n",
       "2 2009-12-01 07:45:00   6.75       13085  United Kingdom                 81.0   \n",
       "3 2009-12-01 07:45:00   2.10       13085  United Kingdom                 56.7   \n",
       "4 2009-12-01 07:45:00   1.25       13085  United Kingdom                 30.0   \n",
       "5 2009-12-01 07:45:00   1.65       13085  United Kingdom                 39.6   \n",
       "6 2009-12-01 07:45:00   1.25       13085  United Kingdom                 30.0   \n",
       "7 2009-12-01 07:45:00   5.95       13085  United Kingdom                 59.5   \n",
       "8 2009-12-01 07:46:00   2.55       13085  United Kingdom                 30.6   \n",
       "9 2009-12-01 07:46:00   3.75       13085  United Kingdom                 45.0   \n",
       "\n",
       "   InvoiceYear  InvoiceMonth  InvoiceDay  \n",
       "0         2009            12           1  \n",
       "1         2009            12           1  \n",
       "2         2009            12           1  \n",
       "3         2009            12           1  \n",
       "4         2009            12           1  \n",
       "5         2009            12           1  \n",
       "6         2009            12           1  \n",
       "7         2009            12           1  \n",
       "8         2009            12           1  \n",
       "9         2009            12           1  "
      ]
     },
     "execution_count": 85,
     "metadata": {},
     "output_type": "execute_result"
    }
   ],
   "source": [
    "final_dataset.head(10)"
   ]
  }
 ],
 "metadata": {
  "kernelspec": {
   "display_name": "base",
   "language": "python",
   "name": "python3"
  },
  "language_info": {
   "codemirror_mode": {
    "name": "ipython",
    "version": 3
   },
   "file_extension": ".py",
   "mimetype": "text/x-python",
   "name": "python",
   "nbconvert_exporter": "python",
   "pygments_lexer": "ipython3",
   "version": "3.11.5"
  }
 },
 "nbformat": 4,
 "nbformat_minor": 5
}
