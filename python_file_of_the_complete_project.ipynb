{
 "cells": [
  {
   "cell_type": "markdown",
   "id": "b46f37a9",
   "metadata": {},
   "source": [
    "- **Step 1: Dataset Uploading**"
   ]
  },
  {
   "cell_type": "markdown",
   "id": "8783c59c",
   "metadata": {},
   "source": [
    "This code loads your **2009-2010 online retail data from an Excel sheet into a pandas DataFrame for analysis.**"
   ]
  },
  {
   "cell_type": "code",
   "execution_count": 3,
   "id": "72d0960b",
   "metadata": {},
   "outputs": [
    {
     "name": "stdout",
     "output_type": "stream",
     "text": [
      "Dataset loaded successfully!\n"
     ]
    }
   ],
   "source": [
    "import pandas as pd\n",
    "\n",
    "# Load the dataset\n",
    "dataset_2009_2010 = df = pd.read_excel('online_retail_II.xlsx', sheet_name='Year 2009-2010')\n",
    "print(\"Dataset loaded successfully!\")\n"
   ]
  },
  {
   "cell_type": "markdown",
   "id": "03e90d3e",
   "metadata": {},
   "source": [
    "This code loads the **2010-2011 sheet from the Excel file into a DataFrame named dataset_2010_2011.**\n",
    "***It then prints a message to confirm successful loading.***"
   ]
  },
  {
   "cell_type": "code",
   "execution_count": 4,
   "id": "f28dc661",
   "metadata": {},
   "outputs": [
    {
     "name": "stdout",
     "output_type": "stream",
     "text": [
      "Dataset loaded successfully!\n"
     ]
    }
   ],
   "source": [
    "# Load the dataset\n",
    "dataset_2010_2011 = pd.read_excel('online_retail_II.xlsx', sheet_name='Year 2010-2011')\n",
    "print(\"Dataset loaded successfully!\")"
   ]
  },
  {
   "cell_type": "markdown",
   "id": "b3c925ee",
   "metadata": {},
   "source": [
    "This code **combines the 2009-2010 and 2010-2011 datasets** into one DataFrame called **final_dataset.**"
   ]
  },
  {
   "cell_type": "code",
   "execution_count": 5,
   "id": "68cb1ed3",
   "metadata": {},
   "outputs": [],
   "source": [
    "final_dataset = pd.concat([dataset_2009_2010, dataset_2010_2011], ignore_index=True)"
   ]
  },
  {
   "cell_type": "markdown",
   "id": "4cbe4ec4",
   "metadata": {},
   "source": [
    "This code displays the **first 5 rows of final_dataset** to give you a quick preview of your combined data."
   ]
  },
  {
   "cell_type": "code",
   "execution_count": 6,
   "id": "682e9a43",
   "metadata": {},
   "outputs": [
    {
     "data": {
      "text/html": [
       "<div>\n",
       "<style scoped>\n",
       "    .dataframe tbody tr th:only-of-type {\n",
       "        vertical-align: middle;\n",
       "    }\n",
       "\n",
       "    .dataframe tbody tr th {\n",
       "        vertical-align: top;\n",
       "    }\n",
       "\n",
       "    .dataframe thead th {\n",
       "        text-align: right;\n",
       "    }\n",
       "</style>\n",
       "<table border=\"1\" class=\"dataframe\">\n",
       "  <thead>\n",
       "    <tr style=\"text-align: right;\">\n",
       "      <th></th>\n",
       "      <th>Invoice</th>\n",
       "      <th>StockCode</th>\n",
       "      <th>Description</th>\n",
       "      <th>Quantity</th>\n",
       "      <th>InvoiceDate</th>\n",
       "      <th>Price</th>\n",
       "      <th>Customer ID</th>\n",
       "      <th>Country</th>\n",
       "    </tr>\n",
       "  </thead>\n",
       "  <tbody>\n",
       "    <tr>\n",
       "      <th>0</th>\n",
       "      <td>489434</td>\n",
       "      <td>85048</td>\n",
       "      <td>15CM CHRISTMAS GLASS BALL 20 LIGHTS</td>\n",
       "      <td>12</td>\n",
       "      <td>2009-12-01 07:45:00</td>\n",
       "      <td>6.95</td>\n",
       "      <td>13085.0</td>\n",
       "      <td>United Kingdom</td>\n",
       "    </tr>\n",
       "    <tr>\n",
       "      <th>1</th>\n",
       "      <td>489434</td>\n",
       "      <td>79323P</td>\n",
       "      <td>PINK CHERRY LIGHTS</td>\n",
       "      <td>12</td>\n",
       "      <td>2009-12-01 07:45:00</td>\n",
       "      <td>6.75</td>\n",
       "      <td>13085.0</td>\n",
       "      <td>United Kingdom</td>\n",
       "    </tr>\n",
       "    <tr>\n",
       "      <th>2</th>\n",
       "      <td>489434</td>\n",
       "      <td>79323W</td>\n",
       "      <td>WHITE CHERRY LIGHTS</td>\n",
       "      <td>12</td>\n",
       "      <td>2009-12-01 07:45:00</td>\n",
       "      <td>6.75</td>\n",
       "      <td>13085.0</td>\n",
       "      <td>United Kingdom</td>\n",
       "    </tr>\n",
       "    <tr>\n",
       "      <th>3</th>\n",
       "      <td>489434</td>\n",
       "      <td>22041</td>\n",
       "      <td>RECORD FRAME 7\" SINGLE SIZE</td>\n",
       "      <td>48</td>\n",
       "      <td>2009-12-01 07:45:00</td>\n",
       "      <td>2.10</td>\n",
       "      <td>13085.0</td>\n",
       "      <td>United Kingdom</td>\n",
       "    </tr>\n",
       "    <tr>\n",
       "      <th>4</th>\n",
       "      <td>489434</td>\n",
       "      <td>21232</td>\n",
       "      <td>STRAWBERRY CERAMIC TRINKET BOX</td>\n",
       "      <td>24</td>\n",
       "      <td>2009-12-01 07:45:00</td>\n",
       "      <td>1.25</td>\n",
       "      <td>13085.0</td>\n",
       "      <td>United Kingdom</td>\n",
       "    </tr>\n",
       "  </tbody>\n",
       "</table>\n",
       "</div>"
      ],
      "text/plain": [
       "  Invoice StockCode                          Description  Quantity  \\\n",
       "0  489434     85048  15CM CHRISTMAS GLASS BALL 20 LIGHTS        12   \n",
       "1  489434    79323P                   PINK CHERRY LIGHTS        12   \n",
       "2  489434    79323W                  WHITE CHERRY LIGHTS        12   \n",
       "3  489434     22041         RECORD FRAME 7\" SINGLE SIZE         48   \n",
       "4  489434     21232       STRAWBERRY CERAMIC TRINKET BOX        24   \n",
       "\n",
       "          InvoiceDate  Price  Customer ID         Country  \n",
       "0 2009-12-01 07:45:00   6.95      13085.0  United Kingdom  \n",
       "1 2009-12-01 07:45:00   6.75      13085.0  United Kingdom  \n",
       "2 2009-12-01 07:45:00   6.75      13085.0  United Kingdom  \n",
       "3 2009-12-01 07:45:00   2.10      13085.0  United Kingdom  \n",
       "4 2009-12-01 07:45:00   1.25      13085.0  United Kingdom  "
      ]
     },
     "execution_count": 6,
     "metadata": {},
     "output_type": "execute_result"
    }
   ],
   "source": [
    "final_dataset.head(5)"
   ]
  },
  {
   "cell_type": "markdown",
   "id": "26c28cc0",
   "metadata": {},
   "source": [
    "- **Step 2: Basic Dataset Information**"
   ]
  },
  {
   "cell_type": "markdown",
   "id": "be3ffcaf",
   "metadata": {},
   "source": [
    "This code prints the **number of rows and columns, the list of column names, and the data types of each column in dataset_2009_2010.**"
   ]
  },
  {
   "cell_type": "code",
   "execution_count": 7,
   "id": "3dada279",
   "metadata": {},
   "outputs": [
    {
     "name": "stdout",
     "output_type": "stream",
     "text": [
      "Shape: (525461, 8)\n",
      "Columns: ['Invoice', 'StockCode', 'Description', 'Quantity', 'InvoiceDate', 'Price', 'Customer ID', 'Country']\n",
      "Data Types:\n",
      "Invoice                object\n",
      "StockCode              object\n",
      "Description            object\n",
      "Quantity                int64\n",
      "InvoiceDate    datetime64[ns]\n",
      "Price                 float64\n",
      "Customer ID           float64\n",
      "Country                object\n",
      "dtype: object\n"
     ]
    }
   ],
   "source": [
    "# Part 1: Basic structure\n",
    "print(f\"Shape: {dataset_2009_2010.shape}\") ## this will give the shape of the dataset in terms of rows and columns\n",
    "print(f\"Columns: {dataset_2009_2010.columns.tolist()}\") ## this will give all the column names present in the dataset\n",
    "print(f\"Data Types:\\n{dataset_2009_2010.dtypes}\") ## this will give the data types of each column present in the dataset\n"
   ]
  },
  {
   "cell_type": "markdown",
   "id": "4a5d538b",
   "metadata": {},
   "source": [
    "**This will tell you the number of rows and columns in a dataset.**"
   ]
  },
  {
   "cell_type": "code",
   "execution_count": 8,
   "id": "18714245",
   "metadata": {},
   "outputs": [
    {
     "data": {
      "text/plain": [
       "(525461, 8)"
      ]
     },
     "execution_count": 8,
     "metadata": {},
     "output_type": "execute_result"
    }
   ],
   "source": [
    "dataset_2009_2010.shape"
   ]
  },
  {
   "cell_type": "markdown",
   "id": "69ab52ff",
   "metadata": {},
   "source": [
    "**This will tell you the size of the dataset**"
   ]
  },
  {
   "cell_type": "code",
   "execution_count": 9,
   "id": "641bb580",
   "metadata": {},
   "outputs": [
    {
     "data": {
      "text/plain": [
       "4203688"
      ]
     },
     "execution_count": 9,
     "metadata": {},
     "output_type": "execute_result"
    }
   ],
   "source": [
    "dataset_2009_2010.size"
   ]
  },
  {
   "cell_type": "markdown",
   "id": "152fa3d6",
   "metadata": {},
   "source": [
    "This code prints the **number of rows and columns, the list of column names, and the data types of each column in dataset_2010_2011.**"
   ]
  },
  {
   "cell_type": "code",
   "execution_count": 10,
   "id": "c23a445a",
   "metadata": {},
   "outputs": [
    {
     "name": "stdout",
     "output_type": "stream",
     "text": [
      "Shape: (541910, 8)\n",
      "Columns: ['Invoice', 'StockCode', 'Description', 'Quantity', 'InvoiceDate', 'Price', 'Customer ID', 'Country']\n",
      "Data Types:\n",
      "Invoice                object\n",
      "StockCode              object\n",
      "Description            object\n",
      "Quantity                int64\n",
      "InvoiceDate    datetime64[ns]\n",
      "Price                 float64\n",
      "Customer ID           float64\n",
      "Country                object\n",
      "dtype: object\n"
     ]
    }
   ],
   "source": [
    "# Part 1: Basic structure\n",
    "print(f\"Shape: {dataset_2010_2011.shape}\") ## this will give the shape of the dataset in terms of rows and columns\n",
    "print(f\"Columns: {dataset_2010_2011.columns.tolist()}\") ## this will give all the column names present in the dataset\n",
    "print(f\"Data Types:\\n{dataset_2010_2011.dtypes}\") ## this will give the data types of each column present in the dataset\n"
   ]
  },
  {
   "cell_type": "markdown",
   "id": "0f8b4078",
   "metadata": {},
   "source": [
    "**This will tells you the shape and size of the data set.** "
   ]
  },
  {
   "cell_type": "code",
   "execution_count": 11,
   "id": "1a21cbf8",
   "metadata": {},
   "outputs": [
    {
     "name": "stdout",
     "output_type": "stream",
     "text": [
      "(541910, 8)\n",
      "4335280\n"
     ]
    }
   ],
   "source": [
    "print(dataset_2010_2011.shape)\n",
    "print(dataset_2010_2011.size)"
   ]
  },
  {
   "cell_type": "markdown",
   "id": "4af378cc",
   "metadata": {},
   "source": [
    "**This code displays the total number of rows and columns, lists all column names, and shows the data type for each column in your combined dataset (final_dataset).**"
   ]
  },
  {
   "cell_type": "code",
   "execution_count": 12,
   "id": "f4cd7f7e",
   "metadata": {},
   "outputs": [
    {
     "name": "stdout",
     "output_type": "stream",
     "text": [
      "Shape: (1067371, 8)\n",
      "Columns: ['Invoice', 'StockCode', 'Description', 'Quantity', 'InvoiceDate', 'Price', 'Customer ID', 'Country']\n",
      "Data Types:\n",
      "Invoice                object\n",
      "StockCode              object\n",
      "Description            object\n",
      "Quantity                int64\n",
      "InvoiceDate    datetime64[ns]\n",
      "Price                 float64\n",
      "Customer ID           float64\n",
      "Country                object\n",
      "dtype: object\n"
     ]
    }
   ],
   "source": [
    "# Part 1: Basic structure\n",
    "print(f\"Shape: {final_dataset.shape}\") ## this will give the shape of the dataset in terms of rows and columns\n",
    "print(f\"Columns: {final_dataset.columns.tolist()}\") ## this will give all the column names present in the dataset\n",
    "print(f\"Data Types:\\n{final_dataset.dtypes}\") ## this will give the data types of each column present in the dataset\n"
   ]
  },
  {
   "cell_type": "markdown",
   "id": "09cf29fd",
   "metadata": {},
   "source": [
    "- **Now from here i am working on the dataset with name final_dataset**"
   ]
  },
  {
   "cell_type": "markdown",
   "id": "d8ca4c2e",
   "metadata": {},
   "source": [
    "**This code prints the number of missing (null) values in each column of final_dataset.**"
   ]
  },
  {
   "cell_type": "code",
   "execution_count": 13,
   "id": "64f382bc",
   "metadata": {},
   "outputs": [
    {
     "name": "stdout",
     "output_type": "stream",
     "text": [
      "No of Missing Values in the dataset is:\n",
      "Invoice             0\n",
      "StockCode           0\n",
      "Description      4382\n",
      "Quantity            0\n",
      "InvoiceDate         0\n",
      "Price               0\n",
      "Customer ID    243007\n",
      "Country             0\n",
      "dtype: int64\n"
     ]
    }
   ],
   "source": [
    "# Part 2: Missing values and duplicates\n",
    "print(\"No of Missing Values in the dataset is:\")\n",
    "print(final_dataset.isnull().sum())\n"
   ]
  },
  {
   "cell_type": "markdown",
   "id": "ad973fa2",
   "metadata": {},
   "source": [
    "**This code prints the total number of duplicate rows present in final_dataset.**"
   ]
  },
  {
   "cell_type": "code",
   "execution_count": 14,
   "id": "ba5dcba8",
   "metadata": {},
   "outputs": [
    {
     "name": "stdout",
     "output_type": "stream",
     "text": [
      "\n",
      " No of Duplicate Rows present in the dataset is : 34335\n"
     ]
    }
   ],
   "source": [
    "print(f\"\\n No of Duplicate Rows present in the dataset is : {final_dataset.duplicated().sum()}\")"
   ]
  },
  {
   "cell_type": "markdown",
   "id": "62239bee",
   "metadata": {},
   "source": [
    "**This code shows summary statistics (count, mean, std, min, max, quartiles) for the Quantity and Price columns in final_dataset.**"
   ]
  },
  {
   "cell_type": "code",
   "execution_count": 15,
   "id": "57cad400",
   "metadata": {},
   "outputs": [
    {
     "name": "stdout",
     "output_type": "stream",
     "text": [
      "\n",
      "=== Statistical Summary ===\n",
      "           Quantity         Price\n",
      "count  1.067371e+06  1.067371e+06\n",
      "mean   9.938898e+00  4.649388e+00\n",
      "std    1.727058e+02  1.235531e+02\n",
      "min   -8.099500e+04 -5.359436e+04\n",
      "25%    1.000000e+00  1.250000e+00\n",
      "50%    3.000000e+00  2.100000e+00\n",
      "75%    1.000000e+01  4.150000e+00\n",
      "max    8.099500e+04  3.897000e+04\n"
     ]
    }
   ],
   "source": [
    "# Numerical column statistics\n",
    "print(\"\\n=== Statistical Summary ===\")\n",
    "print(final_dataset[['Quantity', 'Price']].describe())\n"
   ]
  },
  {
   "cell_type": "markdown",
   "id": "9a74baf0",
   "metadata": {},
   "source": [
    "**This code prints the number of unique values in the Invoice, StockCode, Customer ID, and Country columns.**"
   ]
  },
  {
   "cell_type": "code",
   "execution_count": 16,
   "id": "c8073ee4",
   "metadata": {},
   "outputs": [
    {
     "name": "stdout",
     "output_type": "stream",
     "text": [
      "\n",
      "==Unique Value Counts==\n",
      "Invoice: 53628 unique values\n",
      "StockCode: 5305 unique values\n",
      "Customer ID: 5942 unique values\n",
      "Country: 43 unique values\n"
     ]
    }
   ],
   "source": [
    "# Check unique values in categorical columns\n",
    "print(\"\\n==Unique Value Counts==\")\n",
    "for col in ['Invoice', 'StockCode', 'Customer ID', 'Country']:\n",
    "    print(f\"{col}: {final_dataset[col].nunique()} unique values\")\n"
   ]
  },
  {
   "cell_type": "markdown",
   "id": "ff22ee94",
   "metadata": {},
   "source": [
    "**This code displays the first 3 and last 3 rows of final_dataset.**"
   ]
  },
  {
   "cell_type": "code",
   "execution_count": 17,
   "id": "816d6036",
   "metadata": {},
   "outputs": [
    {
     "name": "stdout",
     "output_type": "stream",
     "text": [
      "\n",
      "=== First 3 Rows ===\n",
      "  Invoice StockCode                          Description  Quantity  \\\n",
      "0  489434     85048  15CM CHRISTMAS GLASS BALL 20 LIGHTS        12   \n",
      "1  489434    79323P                   PINK CHERRY LIGHTS        12   \n",
      "2  489434    79323W                  WHITE CHERRY LIGHTS        12   \n",
      "\n",
      "          InvoiceDate  Price  Customer ID         Country  \n",
      "0 2009-12-01 07:45:00   6.95      13085.0  United Kingdom  \n",
      "1 2009-12-01 07:45:00   6.75      13085.0  United Kingdom  \n",
      "2 2009-12-01 07:45:00   6.75      13085.0  United Kingdom  \n",
      "\n",
      "=== Last 3 Rows ===\n",
      "        Invoice StockCode                      Description  Quantity  \\\n",
      "1067368  581587     23255  CHILDRENS CUTLERY CIRCUS PARADE         4   \n",
      "1067369  581587     22138    BAKING SET 9 PIECE RETROSPOT          3   \n",
      "1067370  581587      POST                          POSTAGE         1   \n",
      "\n",
      "                InvoiceDate  Price  Customer ID Country  \n",
      "1067368 2011-12-09 12:50:00   4.15      12680.0  France  \n",
      "1067369 2011-12-09 12:50:00   4.95      12680.0  France  \n",
      "1067370 2011-12-09 12:50:00  18.00      12680.0  France  \n"
     ]
    }
   ],
   "source": [
    "# Preview first and last few rows\n",
    "print(\"\\n=== First 3 Rows ===\")\n",
    "print(final_dataset.head(3))\n",
    "print(\"\\n=== Last 3 Rows ===\")\n",
    "print(final_dataset.tail(3))\n"
   ]
  },
  {
   "cell_type": "markdown",
   "id": "466a2c30",
   "metadata": {},
   "source": [
    "**This code prints the top 5 countries with the highest number of transactions in your dataset.**"
   ]
  },
  {
   "cell_type": "code",
   "execution_count": 18,
   "id": "388f0053",
   "metadata": {},
   "outputs": [
    {
     "name": "stdout",
     "output_type": "stream",
     "text": [
      "\n",
      "=== Top 5 Countries by Transactions ===\n",
      "Country\n",
      "United Kingdom    981330\n",
      "EIRE               17866\n",
      "Germany            17624\n",
      "France             14330\n",
      "Netherlands         5140\n",
      "Name: count, dtype: int64\n"
     ]
    }
   ],
   "source": [
    "# Most common values in key columns\n",
    "print(\"\\n=== Top 5 Countries by Transactions ===\")\n",
    "print(final_dataset['Country'].value_counts().head(5))\n",
    "\n"
   ]
  },
  {
   "cell_type": "markdown",
   "id": "a0c3816c",
   "metadata": {},
   "source": [
    "**This code displays the top 5 most frequently sold products based on their StockCode.**"
   ]
  },
  {
   "cell_type": "code",
   "execution_count": 19,
   "id": "5a861fd9",
   "metadata": {},
   "outputs": [
    {
     "name": "stdout",
     "output_type": "stream",
     "text": [
      "\n",
      "=== Top 5 Products by StockCode ===\n",
      "StockCode\n",
      "85123A    5829\n",
      "22423     4424\n",
      "85099B    4216\n",
      "21212     3318\n",
      "20725     3259\n",
      "Name: count, dtype: int64\n"
     ]
    }
   ],
   "source": [
    "print(\"\\n=== Top 5 Products by StockCode ===\")\n",
    "print(final_dataset['StockCode'].value_counts().head(5))"
   ]
  },
  {
   "cell_type": "markdown",
   "id": "00d01be5",
   "metadata": {},
   "source": [
    "**This code counts how many rows have zero or negative values in the Quantity and Price columns of final_dataset.**"
   ]
  },
  {
   "cell_type": "code",
   "execution_count": 20,
   "id": "75761def",
   "metadata": {},
   "outputs": [
    {
     "name": "stdout",
     "output_type": "stream",
     "text": [
      "\n",
      "=== Negative or Zero Values ===\n",
      "Negative Quantities: 22950\n",
      "Zero or Negative UnitPrice: 6207\n"
     ]
    }
   ],
   "source": [
    "# Check for negative or zero quantities and unit prices\n",
    "print(\"\\n=== Negative or Zero Values ===\")\n",
    "print(f\"Negative Quantities: {(final_dataset['Quantity'] <= 0).sum()}\")\n",
    "print(f\"Zero or Negative UnitPrice: {(final_dataset['Price'] <= 0).sum()}\")\n"
   ]
  },
  {
   "cell_type": "markdown",
   "id": "afb9167f",
   "metadata": {},
   "source": [
    "**This code prints the earliest and latest dates in the InvoiceDate column of your dataset.**"
   ]
  },
  {
   "cell_type": "code",
   "execution_count": 21,
   "id": "bd8f8c74",
   "metadata": {},
   "outputs": [
    {
     "name": "stdout",
     "output_type": "stream",
     "text": [
      "\n",
      "=== Date Range ===\n",
      "Min Date: 2009-12-01 07:45:00\n",
      "Max Date: 2011-12-09 12:50:00\n"
     ]
    }
   ],
   "source": [
    "# Check the date range of transactions\n",
    "print(\"\\n=== Date Range ===\")\n",
    "print(f\"Min Date: {final_dataset['InvoiceDate'].min()}\")\n",
    "print(f\"Max Date: {final_dataset['InvoiceDate'].max()}\")\n"
   ]
  },
  {
   "cell_type": "markdown",
   "id": "e3ece581",
   "metadata": {},
   "source": [
    "**This code displays the data type of the Customer ID column.\n",
    "It helps you verify if you need to convert Customer ID from float to string for consistent processing.**"
   ]
  },
  {
   "cell_type": "code",
   "execution_count": 22,
   "id": "e3bce4b2",
   "metadata": {},
   "outputs": [
    {
     "name": "stdout",
     "output_type": "stream",
     "text": [
      "\n",
      "=== CustomerID Data Type ===\n",
      "float64\n"
     ]
    }
   ],
   "source": [
    "# Check if CustomerID is float and convert to string if needed\n",
    "print(\"\\n=== CustomerID Data Type ===\")\n",
    "print(final_dataset['Customer ID'].dtype)\n"
   ]
  },
  {
   "cell_type": "markdown",
   "id": "0adf57e0",
   "metadata": {},
   "source": [
    "- **Step 3: Data Preprocessing & Feature Engineering**"
   ]
  },
  {
   "cell_type": "markdown",
   "id": "a0d4a7d7",
   "metadata": {},
   "source": [
    "**This code removes rows with missing Customer ID (essential for CLV analysis) and fills missing Description values with \"Unknown.\"\n",
    "It ensures your dataset has complete customer information and no blank product descriptions.**"
   ]
  },
  {
   "cell_type": "code",
   "execution_count": 23,
   "id": "ab7a1f2c",
   "metadata": {},
   "outputs": [
    {
     "name": "stdout",
     "output_type": "stream",
     "text": [
      "Shape before dropping missing Customer ID: (1067371, 8)\n",
      "Shape after dropping missing CustomerID: (824364, 8)\n"
     ]
    }
   ],
   "source": [
    "# Drop rows with missing CustomerID (critical for the CLV analysis part )\n",
    "print(\"Shape before dropping missing Customer ID:\", final_dataset.shape)\n",
    "final_dataset = final_dataset.dropna(subset=['Customer ID'])\n",
    "print(\"Shape after dropping missing CustomerID:\", final_dataset.shape)\n",
    "\n",
    "# Handle missing Description (optional for CLV, but you can fill with \"Unknown\")\n",
    "final_dataset['Description'] = final_dataset['Description'].fillna(\"Unknown\")\n"
   ]
  },
  {
   "cell_type": "markdown",
   "id": "6fbdc49d",
   "metadata": {},
   "source": [
    "**This code removes all duplicate rows from final_dataset and prints the number of duplicates before and after removal.\n",
    "It ensures your dataset contains only unique records for accurate analysis.**"
   ]
  },
  {
   "cell_type": "code",
   "execution_count": 24,
   "id": "16ad4ac4",
   "metadata": {},
   "outputs": [
    {
     "name": "stdout",
     "output_type": "stream",
     "text": [
      "Duplicate rows before removal: 26479\n",
      "Duplicate rows after removal: 0\n"
     ]
    }
   ],
   "source": [
    "# Drop duplicate rows\n",
    "print(\"Duplicate rows before removal:\", final_dataset.duplicated().sum())\n",
    "final_dataset = final_dataset.drop_duplicates()\n",
    "print(\"Duplicate rows after removal:\", final_dataset.duplicated().sum())\n"
   ]
  },
  {
   "cell_type": "markdown",
   "id": "0fd55027",
   "metadata": {},
   "source": [
    "- **This code removes all rows where Quantity or Price are zero or negative, printing the dataset’s shape before and after the removal.**\n",
    "- **It ensures only valid sales transactions remain for your analysis.**"
   ]
  },
  {
   "cell_type": "code",
   "execution_count": 25,
   "id": "4a5fae77",
   "metadata": {},
   "outputs": [
    {
     "name": "stdout",
     "output_type": "stream",
     "text": [
      "Shape before removing invalid values: (797885, 8)\n",
      "Shape after removing invalid values: (779425, 8)\n"
     ]
    }
   ],
   "source": [
    "# Remove rows with zero/negative Quantity or UnitPrice\n",
    "print(\"Shape before removing invalid values:\", final_dataset.shape)\n",
    "final_dataset = final_dataset[(final_dataset['Quantity'] > 0) & (final_dataset['Price'] > 0)]\n",
    "print(\"Shape after removing invalid values:\", final_dataset.shape)\n"
   ]
  },
  {
   "cell_type": "code",
   "execution_count": 26,
   "id": "4c9f09a7",
   "metadata": {},
   "outputs": [
    {
     "data": {
      "image/png": "[encoded data removed]",
      "text/plain": [
       "<Figure size 800x300 with 1 Axes>"
      ]
     },
     "metadata": {},
     "output_type": "display_data"
    },
    {
     "data": {
      "image/png": "[encoded data removed]",
      "text/plain": [
       "<Figure size 800x300 with 1 Axes>"
      ]
     },
     "metadata": {},
     "output_type": "display_data"
    }
   ],
   "source": [
    "import matplotlib.pyplot as plt\n",
    "\n",
    "for col in ['Quantity', 'Price']:\n",
    "    plt.figure(figsize=(8,3))\n",
    "    plt.boxplot(final_dataset[col])\n",
    "    plt.title(f'Boxplot of {col} after outlier capping')\n",
    "    plt.show()"
   ]
  },
  {
   "cell_type": "markdown",
   "id": "1036745b",
   "metadata": {},
   "source": [
    "- **This code uses the IQR method to cap extreme values in Quantity and Price columns, replacing outliers with the nearest valid boundary (1.5×IQR)**\n",
    "- **This ensures extreme values don’t skew your CLV model while retaining data integrity.**\n",
    "\n"
   ]
  },
  {
   "cell_type": "code",
   "execution_count": 27,
   "id": "6b54cf8f",
   "metadata": {},
   "outputs": [
    {
     "name": "stdout",
     "output_type": "stream",
     "text": [
      "\n",
      "Post-capping stats:\n",
      "            Quantity          Price\n",
      "count  779425.000000  779425.000000\n",
      "mean        8.285808       2.654312\n",
      "std         8.083299       2.120267\n",
      "min         1.000000       0.001000\n",
      "25%         2.000000       1.250000\n",
      "50%         6.000000       1.950000\n",
      "75%        12.000000       3.750000\n",
      "max        27.000000       7.500000\n"
     ]
    }
   ],
   "source": [
    "# Define columns to cap\n",
    "cols = ['Quantity', 'Price']\n",
    "\n",
    "# Calculate IQR\n",
    "Q1 = final_dataset[cols].quantile(0.25)\n",
    "Q3 = final_dataset[cols].quantile(0.75)\n",
    "IQR = Q3 - Q1\n",
    "\n",
    "# Cap outliers\n",
    "final_dataset[cols] = final_dataset[cols].clip(\n",
    "    lower=Q1 - 1.5 * IQR, ## box plot \n",
    "    upper=Q3 + 1.5 * IQR, \n",
    "    axis=1\n",
    ")\n",
    "\n",
    "# Verify\n",
    "print(\"\\nPost-capping stats:\")\n",
    "print(final_dataset[cols].describe())\n"
   ]
  },
  {
   "cell_type": "markdown",
   "id": "d6b93778",
   "metadata": {},
   "source": [
    "- **This code creates boxplots for the Quantity and Price columns after outlier capping.**\n",
    "- **It visually confirms that extreme values have been handled and the data distribution is now reasonable.**"
   ]
  },
  {
   "cell_type": "code",
   "execution_count": 28,
   "id": "71574179",
   "metadata": {},
   "outputs": [
    {
     "data": {
      "image/png": "[encoded data removed]",
      "text/plain": [
       "<Figure size 800x300 with 1 Axes>"
      ]
     },
     "metadata": {},
     "output_type": "display_data"
    },
    {
     "data": {
      "image/png": "[encoded data removed]",
      "text/plain": [
       "<Figure size 800x300 with 1 Axes>"
      ]
     },
     "metadata": {},
     "output_type": "display_data"
    }
   ],
   "source": [
    "import matplotlib.pyplot as plt\n",
    "\n",
    "for col in ['Quantity', 'Price']:\n",
    "    plt.figure(figsize=(8,3))\n",
    "    plt.boxplot(final_dataset[col])\n",
    "    plt.title(f'Boxplot of {col} after outlier capping')\n",
    "    plt.show()\n"
   ]
  },
  {
   "cell_type": "code",
   "execution_count": 29,
   "id": "b299027f",
   "metadata": {},
   "outputs": [
    {
     "name": "stdout",
     "output_type": "stream",
     "text": [
      "(779425, 8)\n",
      "6235400\n"
     ]
    }
   ],
   "source": [
    "print(final_dataset.shape)\n",
    "print(final_dataset.size)"
   ]
  },
  {
   "cell_type": "markdown",
   "id": "9c3af2eb",
   "metadata": {},
   "source": [
    "- This code converts the Customer ID column to string type (from float), ensuring consistent and accurate customer identification.\n",
    "- It then prints the new data type to confirm the conversion was successful."
   ]
  },
  {
   "cell_type": "code",
   "execution_count": 30,
   "id": "77cd339f",
   "metadata": {},
   "outputs": [
    {
     "name": "stdout",
     "output_type": "stream",
     "text": [
      "\n",
      "CustomerID type: object\n"
     ]
    }
   ],
   "source": [
    "# Convert CustomerID to string (avoids float issues)\n",
    "final_dataset['Customer ID'] = final_dataset['Customer ID'].astype(int).astype(str)\n",
    "print(\"\\nCustomerID type:\", final_dataset['Customer ID'].dtype)\n"
   ]
  },
  {
   "cell_type": "markdown",
   "id": "aabaa997",
   "metadata": {},
   "source": [
    "- This code creates a new column **TotalPurchaseAmount** by multiplying Quantity and Price, and extracts **year**, **month**, and **day** from InvoiceDate for time-based analysis.\n",
    "- These features are essential for understanding purchase patterns and building CLV models."
   ]
  },
  {
   "cell_type": "code",
   "execution_count": 31,
   "id": "b70f5bf6",
   "metadata": {},
   "outputs": [],
   "source": [
    "# Create TotalPurchaseAmount\n",
    "final_dataset['TotalPurchaseAmount'] = final_dataset['Quantity'] * final_dataset['Price']\n",
    "\n",
    "# Extract time-based features\n",
    "final_dataset['InvoiceDate'] = pd.to_datetime(final_dataset['InvoiceDate'])\n",
    "final_dataset['InvoiceYear'] = final_dataset['InvoiceDate'].dt.year\n",
    "final_dataset['InvoiceMonth'] = final_dataset['InvoiceDate'].dt.month\n",
    "final_dataset['InvoiceDay'] = final_dataset['InvoiceDate'].dt.day\n"
   ]
  },
  {
   "cell_type": "code",
   "execution_count": 32,
   "id": "3f9aee6d",
   "metadata": {},
   "outputs": [
    {
     "name": "stdout",
     "output_type": "stream",
     "text": [
      "(779425, 12)\n",
      "9353100\n",
      "Index(['Invoice', 'StockCode', 'Description', 'Quantity', 'InvoiceDate',\n",
      "       'Price', 'Customer ID', 'Country', 'TotalPurchaseAmount', 'InvoiceYear',\n",
      "       'InvoiceMonth', 'InvoiceDay'],\n",
      "      dtype='object')\n",
      "Invoice                        object\n",
      "StockCode                      object\n",
      "Description                    object\n",
      "Quantity                        int64\n",
      "InvoiceDate            datetime64[ns]\n",
      "Price                         float64\n",
      "Customer ID                    object\n",
      "Country                        object\n",
      "TotalPurchaseAmount           float64\n",
      "InvoiceYear                     int32\n",
      "InvoiceMonth                    int32\n",
      "InvoiceDay                      int32\n",
      "dtype: object\n",
      "Invoice                0\n",
      "StockCode              0\n",
      "Description            0\n",
      "Quantity               0\n",
      "InvoiceDate            0\n",
      "Price                  0\n",
      "Customer ID            0\n",
      "Country                0\n",
      "TotalPurchaseAmount    0\n",
      "InvoiceYear            0\n",
      "InvoiceMonth           0\n",
      "InvoiceDay             0\n",
      "dtype: int64\n",
      "Duplicates Remaining: 46\n"
     ]
    }
   ],
   "source": [
    "print(final_dataset.shape)\n",
    "print(final_dataset.size)\n",
    "print(final_dataset.columns)\n",
    "print(final_dataset.dtypes)\n",
    "print(final_dataset.isnull().sum())\n",
    "print(f\"Duplicates Remaining: {final_dataset.duplicated().sum()}\")"
   ]
  },
  {
   "cell_type": "code",
   "execution_count": 33,
   "id": "3ec3ba6d",
   "metadata": {},
   "outputs": [
    {
     "name": "stdout",
     "output_type": "stream",
     "text": [
      "Duplicate rows before removal: 46\n",
      "Duplicate rows after removal: 0\n"
     ]
    }
   ],
   "source": [
    "# Drop duplicate rows\n",
    "print(\"Duplicate rows before removal:\", final_dataset.duplicated().sum())\n",
    "final_dataset = final_dataset.drop_duplicates()\n",
    "print(\"Duplicate rows after removal:\", final_dataset.duplicated().sum())"
   ]
  },
  {
   "cell_type": "code",
   "execution_count": 34,
   "id": "66040579",
   "metadata": {},
   "outputs": [
    {
     "name": "stdout",
     "output_type": "stream",
     "text": [
      "Duplicates Remaining: 0\n"
     ]
    }
   ],
   "source": [
    "print(f\"Duplicates Remaining: {final_dataset.duplicated().sum()}\")"
   ]
  },
  {
   "cell_type": "code",
   "execution_count": 35,
   "id": "1084b34a",
   "metadata": {},
   "outputs": [
    {
     "name": "stdout",
     "output_type": "stream",
     "text": [
      "=== Negative Values Count Per Column ===\n",
      "0\n",
      "0\n",
      "0\n",
      "\n",
      "=== Zero Values Count Per Column ===\n",
      "Invoice                0\n",
      "StockCode              0\n",
      "Description            0\n",
      "Quantity               0\n",
      "InvoiceDate            0\n",
      "Price                  0\n",
      "Customer ID            0\n",
      "Country                0\n",
      "TotalPurchaseAmount    0\n",
      "InvoiceYear            0\n",
      "InvoiceMonth           0\n",
      "InvoiceDay             0\n",
      "dtype: int64\n"
     ]
    }
   ],
   "source": [
    "# Count negative values in each column\n",
    "print(\"=== Negative Values Count Per Column ===\")\n",
    "neg_counts = (final_dataset['Quantity']< 0).sum()\n",
    "print(neg_counts)\n",
    "neg_counts_1 = (final_dataset['Price']< 0).sum()\n",
    "print(neg_counts_1)\n",
    "neg_counts_2 = (final_dataset['TotalPurchaseAmount']< 0).sum()\n",
    "print(neg_counts_2)\n",
    "\n",
    "# Count zero values in each column\n",
    "print(\"\\n=== Zero Values Count Per Column ===\")\n",
    "zero_counts = (final_dataset == 0).sum()\n",
    "print(zero_counts)\n"
   ]
  },
  {
   "cell_type": "markdown",
   "id": "d32eff18",
   "metadata": {},
   "source": [
    "- This code displays sample values from the new TotalPurchaseAmount column and shows the extracted year, month, and day for the first row."
   ]
  },
  {
   "cell_type": "markdown",
   "id": "4e5aaa85",
   "metadata": {},
   "source": [
    "- It helps you quickly verify that your feature engineering steps were applied correctly."
   ]
  },
  {
   "cell_type": "code",
   "execution_count": 36,
   "id": "fed9ce71",
   "metadata": {},
   "outputs": [
    {
     "name": "stdout",
     "output_type": "stream",
     "text": [
      "\n",
      "=== Engineered Features ===\n",
      "TotalPurchaseAmount sample: [83.4 81.  81. ]\n",
      "Time Features - Year/Month/Day: [[2009, 12, 1]]\n"
     ]
    }
   ],
   "source": [
    "print(\"\\n=== Engineered Features ===\")\n",
    "print(\"TotalPurchaseAmount sample:\", final_dataset['TotalPurchaseAmount'].head(3).values)\n",
    "print(\"Time Features - Year/Month/Day:\", \n",
    "      final_dataset[['InvoiceYear','InvoiceMonth','InvoiceDay']].head(1).values.tolist())"
   ]
  },
  {
   "cell_type": "code",
   "execution_count": 37,
   "id": "4542df49",
   "metadata": {},
   "outputs": [
    {
     "name": "stdout",
     "output_type": "stream",
     "text": [
      "\n",
      "=== Key Categorical Columns ===\n",
      "Unique Customers: 5878\n",
      "Country Distribution:\n",
      " Country\n",
      "United Kingdom    700350\n",
      "Germany            16430\n",
      "EIRE               15565\n",
      "France             13511\n",
      "Netherlands         5085\n",
      "Name: count, dtype: int64\n"
     ]
    }
   ],
   "source": [
    "# 7. Categorical Columns Check\n",
    "print(\"\\n=== Key Categorical Columns ===\")\n",
    "print(\"Unique Customers:\", final_dataset['Customer ID'].nunique())\n",
    "print(\"Country Distribution:\\n\", final_dataset['Country'].value_counts().head(5))"
   ]
  },
  {
   "cell_type": "code",
   "execution_count": 38,
   "id": "7f899551",
   "metadata": {},
   "outputs": [
    {
     "name": "stdout",
     "output_type": "stream",
     "text": [
      "\n",
      "=== Transaction Date Range ===\n",
      "Start Date: 2009-12-01 07:45:00\n",
      "End Date: 2011-12-09 12:50:00\n"
     ]
    }
   ],
   "source": [
    "print(\"\\n=== Transaction Date Range ===\")\n",
    "print(f\"Start Date: {final_dataset['InvoiceDate'].min()}\")\n",
    "print(f\"End Date: {final_dataset['InvoiceDate'].max()}\")"
   ]
  },
  {
   "cell_type": "code",
   "execution_count": 39,
   "id": "297658eb",
   "metadata": {},
   "outputs": [
    {
     "data": {
      "text/html": [
       "<div>\n",
       "<style scoped>\n",
       "    .dataframe tbody tr th:only-of-type {\n",
       "        vertical-align: middle;\n",
       "    }\n",
       "\n",
       "    .dataframe tbody tr th {\n",
       "        vertical-align: top;\n",
       "    }\n",
       "\n",
       "    .dataframe thead th {\n",
       "        text-align: right;\n",
       "    }\n",
       "</style>\n",
       "<table border=\"1\" class=\"dataframe\">\n",
       "  <thead>\n",
       "    <tr style=\"text-align: right;\">\n",
       "      <th></th>\n",
       "      <th>Invoice</th>\n",
       "      <th>StockCode</th>\n",
       "      <th>Description</th>\n",
       "      <th>Quantity</th>\n",
       "      <th>InvoiceDate</th>\n",
       "      <th>Price</th>\n",
       "      <th>Customer ID</th>\n",
       "      <th>Country</th>\n",
       "      <th>TotalPurchaseAmount</th>\n",
       "      <th>InvoiceYear</th>\n",
       "      <th>InvoiceMonth</th>\n",
       "      <th>InvoiceDay</th>\n",
       "    </tr>\n",
       "  </thead>\n",
       "  <tbody>\n",
       "    <tr>\n",
       "      <th>0</th>\n",
       "      <td>489434</td>\n",
       "      <td>85048</td>\n",
       "      <td>15CM CHRISTMAS GLASS BALL 20 LIGHTS</td>\n",
       "      <td>12</td>\n",
       "      <td>2009-12-01 07:45:00</td>\n",
       "      <td>6.95</td>\n",
       "      <td>13085</td>\n",
       "      <td>United Kingdom</td>\n",
       "      <td>83.4</td>\n",
       "      <td>2009</td>\n",
       "      <td>12</td>\n",
       "      <td>1</td>\n",
       "    </tr>\n",
       "    <tr>\n",
       "      <th>1</th>\n",
       "      <td>489434</td>\n",
       "      <td>79323P</td>\n",
       "      <td>PINK CHERRY LIGHTS</td>\n",
       "      <td>12</td>\n",
       "      <td>2009-12-01 07:45:00</td>\n",
       "      <td>6.75</td>\n",
       "      <td>13085</td>\n",
       "      <td>United Kingdom</td>\n",
       "      <td>81.0</td>\n",
       "      <td>2009</td>\n",
       "      <td>12</td>\n",
       "      <td>1</td>\n",
       "    </tr>\n",
       "    <tr>\n",
       "      <th>2</th>\n",
       "      <td>489434</td>\n",
       "      <td>79323W</td>\n",
       "      <td>WHITE CHERRY LIGHTS</td>\n",
       "      <td>12</td>\n",
       "      <td>2009-12-01 07:45:00</td>\n",
       "      <td>6.75</td>\n",
       "      <td>13085</td>\n",
       "      <td>United Kingdom</td>\n",
       "      <td>81.0</td>\n",
       "      <td>2009</td>\n",
       "      <td>12</td>\n",
       "      <td>1</td>\n",
       "    </tr>\n",
       "    <tr>\n",
       "      <th>3</th>\n",
       "      <td>489434</td>\n",
       "      <td>22041</td>\n",
       "      <td>RECORD FRAME 7\" SINGLE SIZE</td>\n",
       "      <td>27</td>\n",
       "      <td>2009-12-01 07:45:00</td>\n",
       "      <td>2.10</td>\n",
       "      <td>13085</td>\n",
       "      <td>United Kingdom</td>\n",
       "      <td>56.7</td>\n",
       "      <td>2009</td>\n",
       "      <td>12</td>\n",
       "      <td>1</td>\n",
       "    </tr>\n",
       "    <tr>\n",
       "      <th>4</th>\n",
       "      <td>489434</td>\n",
       "      <td>21232</td>\n",
       "      <td>STRAWBERRY CERAMIC TRINKET BOX</td>\n",
       "      <td>24</td>\n",
       "      <td>2009-12-01 07:45:00</td>\n",
       "      <td>1.25</td>\n",
       "      <td>13085</td>\n",
       "      <td>United Kingdom</td>\n",
       "      <td>30.0</td>\n",
       "      <td>2009</td>\n",
       "      <td>12</td>\n",
       "      <td>1</td>\n",
       "    </tr>\n",
       "  </tbody>\n",
       "</table>\n",
       "</div>"
      ],
      "text/plain": [
       "  Invoice StockCode                          Description  Quantity  \\\n",
       "0  489434     85048  15CM CHRISTMAS GLASS BALL 20 LIGHTS        12   \n",
       "1  489434    79323P                   PINK CHERRY LIGHTS        12   \n",
       "2  489434    79323W                  WHITE CHERRY LIGHTS        12   \n",
       "3  489434     22041         RECORD FRAME 7\" SINGLE SIZE         27   \n",
       "4  489434     21232       STRAWBERRY CERAMIC TRINKET BOX        24   \n",
       "\n",
       "          InvoiceDate  Price Customer ID         Country  TotalPurchaseAmount  \\\n",
       "0 2009-12-01 07:45:00   6.95       13085  United Kingdom                 83.4   \n",
       "1 2009-12-01 07:45:00   6.75       13085  United Kingdom                 81.0   \n",
       "2 2009-12-01 07:45:00   6.75       13085  United Kingdom                 81.0   \n",
       "3 2009-12-01 07:45:00   2.10       13085  United Kingdom                 56.7   \n",
       "4 2009-12-01 07:45:00   1.25       13085  United Kingdom                 30.0   \n",
       "\n",
       "   InvoiceYear  InvoiceMonth  InvoiceDay  \n",
       "0         2009            12           1  \n",
       "1         2009            12           1  \n",
       "2         2009            12           1  \n",
       "3         2009            12           1  \n",
       "4         2009            12           1  "
      ]
     },
     "execution_count": 39,
     "metadata": {},
     "output_type": "execute_result"
    }
   ],
   "source": [
    "final_dataset.head(5)"
   ]
  },
  {
   "cell_type": "code",
   "execution_count": 40,
   "id": "db9dc136",
   "metadata": {},
   "outputs": [
    {
     "name": "stdout",
     "output_type": "stream",
     "text": [
      "(779379, 12)\n",
      "9352548\n",
      "Index(['Invoice', 'StockCode', 'Description', 'Quantity', 'InvoiceDate',\n",
      "       'Price', 'Customer ID', 'Country', 'TotalPurchaseAmount', 'InvoiceYear',\n",
      "       'InvoiceMonth', 'InvoiceDay'],\n",
      "      dtype='object')\n",
      "Invoice                        object\n",
      "StockCode                      object\n",
      "Description                    object\n",
      "Quantity                        int64\n",
      "InvoiceDate            datetime64[ns]\n",
      "Price                         float64\n",
      "Customer ID                    object\n",
      "Country                        object\n",
      "TotalPurchaseAmount           float64\n",
      "InvoiceYear                     int32\n",
      "InvoiceMonth                    int32\n",
      "InvoiceDay                      int32\n",
      "dtype: object\n",
      "Invoice                0\n",
      "StockCode              0\n",
      "Description            0\n",
      "Quantity               0\n",
      "InvoiceDate            0\n",
      "Price                  0\n",
      "Customer ID            0\n",
      "Country                0\n",
      "TotalPurchaseAmount    0\n",
      "InvoiceYear            0\n",
      "InvoiceMonth           0\n",
      "InvoiceDay             0\n",
      "dtype: int64\n",
      "Duplicates Remaining: 0\n"
     ]
    }
   ],
   "source": [
    "print(final_dataset.shape)\n",
    "print(final_dataset.size)\n",
    "print(final_dataset.columns)\n",
    "print(final_dataset.dtypes)\n",
    "print(final_dataset.isnull().sum())\n",
    "print(f\"Duplicates Remaining: {final_dataset.duplicated().sum()}\")"
   ]
  },
  {
   "cell_type": "code",
   "execution_count": 41,
   "id": "9a3be2e5",
   "metadata": {},
   "outputs": [
    {
     "name": "stdout",
     "output_type": "stream",
     "text": [
      "Invoice                        object\n",
      "StockCode                      object\n",
      "Description                    object\n",
      "Quantity                        int64\n",
      "InvoiceDate            datetime64[ns]\n",
      "Price                         float64\n",
      "Customer ID                    object\n",
      "Country                        object\n",
      "TotalPurchaseAmount           float64\n",
      "InvoiceYear                     int32\n",
      "InvoiceMonth                    int32\n",
      "InvoiceDay                      int32\n",
      "dtype: object\n"
     ]
    }
   ],
   "source": [
    "print(final_dataset.dtypes)\n"
   ]
  },
  {
   "cell_type": "code",
   "execution_count": 42,
   "id": "04aeeaeb",
   "metadata": {},
   "outputs": [
    {
     "name": "stdout",
     "output_type": "stream",
     "text": [
      "36969 unique invoices out of 779379 rows\n"
     ]
    }
   ],
   "source": [
    "print(final_dataset['Invoice'].nunique(), \"unique invoices out of\", len(final_dataset), \"rows\")\n",
    "\n"
   ]
  },
  {
   "cell_type": "code",
   "execution_count": 43,
   "id": "78912b49",
   "metadata": {},
   "outputs": [],
   "source": [
    "final_dataset = final_dataset.reset_index(drop=True)\n"
   ]
  },
  {
   "cell_type": "code",
   "execution_count": 44,
   "id": "42be79e8",
   "metadata": {},
   "outputs": [
    {
     "data": {
      "text/html": [
       "<div>\n",
       "<style scoped>\n",
       "    .dataframe tbody tr th:only-of-type {\n",
       "        vertical-align: middle;\n",
       "    }\n",
       "\n",
       "    .dataframe tbody tr th {\n",
       "        vertical-align: top;\n",
       "    }\n",
       "\n",
       "    .dataframe thead th {\n",
       "        text-align: right;\n",
       "    }\n",
       "</style>\n",
       "<table border=\"1\" class=\"dataframe\">\n",
       "  <thead>\n",
       "    <tr style=\"text-align: right;\">\n",
       "      <th></th>\n",
       "      <th>Invoice</th>\n",
       "      <th>StockCode</th>\n",
       "      <th>Description</th>\n",
       "      <th>Quantity</th>\n",
       "      <th>InvoiceDate</th>\n",
       "      <th>Price</th>\n",
       "      <th>Customer ID</th>\n",
       "      <th>Country</th>\n",
       "      <th>TotalPurchaseAmount</th>\n",
       "      <th>InvoiceYear</th>\n",
       "      <th>InvoiceMonth</th>\n",
       "      <th>InvoiceDay</th>\n",
       "    </tr>\n",
       "  </thead>\n",
       "  <tbody>\n",
       "    <tr>\n",
       "      <th>0</th>\n",
       "      <td>489434</td>\n",
       "      <td>85048</td>\n",
       "      <td>15CM CHRISTMAS GLASS BALL 20 LIGHTS</td>\n",
       "      <td>12</td>\n",
       "      <td>2009-12-01 07:45:00</td>\n",
       "      <td>6.95</td>\n",
       "      <td>13085</td>\n",
       "      <td>United Kingdom</td>\n",
       "      <td>83.4</td>\n",
       "      <td>2009</td>\n",
       "      <td>12</td>\n",
       "      <td>1</td>\n",
       "    </tr>\n",
       "    <tr>\n",
       "      <th>1</th>\n",
       "      <td>489434</td>\n",
       "      <td>79323P</td>\n",
       "      <td>PINK CHERRY LIGHTS</td>\n",
       "      <td>12</td>\n",
       "      <td>2009-12-01 07:45:00</td>\n",
       "      <td>6.75</td>\n",
       "      <td>13085</td>\n",
       "      <td>United Kingdom</td>\n",
       "      <td>81.0</td>\n",
       "      <td>2009</td>\n",
       "      <td>12</td>\n",
       "      <td>1</td>\n",
       "    </tr>\n",
       "    <tr>\n",
       "      <th>2</th>\n",
       "      <td>489434</td>\n",
       "      <td>79323W</td>\n",
       "      <td>WHITE CHERRY LIGHTS</td>\n",
       "      <td>12</td>\n",
       "      <td>2009-12-01 07:45:00</td>\n",
       "      <td>6.75</td>\n",
       "      <td>13085</td>\n",
       "      <td>United Kingdom</td>\n",
       "      <td>81.0</td>\n",
       "      <td>2009</td>\n",
       "      <td>12</td>\n",
       "      <td>1</td>\n",
       "    </tr>\n",
       "    <tr>\n",
       "      <th>3</th>\n",
       "      <td>489434</td>\n",
       "      <td>22041</td>\n",
       "      <td>RECORD FRAME 7\" SINGLE SIZE</td>\n",
       "      <td>27</td>\n",
       "      <td>2009-12-01 07:45:00</td>\n",
       "      <td>2.10</td>\n",
       "      <td>13085</td>\n",
       "      <td>United Kingdom</td>\n",
       "      <td>56.7</td>\n",
       "      <td>2009</td>\n",
       "      <td>12</td>\n",
       "      <td>1</td>\n",
       "    </tr>\n",
       "    <tr>\n",
       "      <th>4</th>\n",
       "      <td>489434</td>\n",
       "      <td>21232</td>\n",
       "      <td>STRAWBERRY CERAMIC TRINKET BOX</td>\n",
       "      <td>24</td>\n",
       "      <td>2009-12-01 07:45:00</td>\n",
       "      <td>1.25</td>\n",
       "      <td>13085</td>\n",
       "      <td>United Kingdom</td>\n",
       "      <td>30.0</td>\n",
       "      <td>2009</td>\n",
       "      <td>12</td>\n",
       "      <td>1</td>\n",
       "    </tr>\n",
       "    <tr>\n",
       "      <th>5</th>\n",
       "      <td>489434</td>\n",
       "      <td>22064</td>\n",
       "      <td>PINK DOUGHNUT TRINKET POT</td>\n",
       "      <td>24</td>\n",
       "      <td>2009-12-01 07:45:00</td>\n",
       "      <td>1.65</td>\n",
       "      <td>13085</td>\n",
       "      <td>United Kingdom</td>\n",
       "      <td>39.6</td>\n",
       "      <td>2009</td>\n",
       "      <td>12</td>\n",
       "      <td>1</td>\n",
       "    </tr>\n",
       "    <tr>\n",
       "      <th>6</th>\n",
       "      <td>489434</td>\n",
       "      <td>21871</td>\n",
       "      <td>SAVE THE PLANET MUG</td>\n",
       "      <td>24</td>\n",
       "      <td>2009-12-01 07:45:00</td>\n",
       "      <td>1.25</td>\n",
       "      <td>13085</td>\n",
       "      <td>United Kingdom</td>\n",
       "      <td>30.0</td>\n",
       "      <td>2009</td>\n",
       "      <td>12</td>\n",
       "      <td>1</td>\n",
       "    </tr>\n",
       "    <tr>\n",
       "      <th>7</th>\n",
       "      <td>489434</td>\n",
       "      <td>21523</td>\n",
       "      <td>FANCY FONT HOME SWEET HOME DOORMAT</td>\n",
       "      <td>10</td>\n",
       "      <td>2009-12-01 07:45:00</td>\n",
       "      <td>5.95</td>\n",
       "      <td>13085</td>\n",
       "      <td>United Kingdom</td>\n",
       "      <td>59.5</td>\n",
       "      <td>2009</td>\n",
       "      <td>12</td>\n",
       "      <td>1</td>\n",
       "    </tr>\n",
       "    <tr>\n",
       "      <th>8</th>\n",
       "      <td>489435</td>\n",
       "      <td>22350</td>\n",
       "      <td>CAT BOWL</td>\n",
       "      <td>12</td>\n",
       "      <td>2009-12-01 07:46:00</td>\n",
       "      <td>2.55</td>\n",
       "      <td>13085</td>\n",
       "      <td>United Kingdom</td>\n",
       "      <td>30.6</td>\n",
       "      <td>2009</td>\n",
       "      <td>12</td>\n",
       "      <td>1</td>\n",
       "    </tr>\n",
       "    <tr>\n",
       "      <th>9</th>\n",
       "      <td>489435</td>\n",
       "      <td>22349</td>\n",
       "      <td>DOG BOWL , CHASING BALL DESIGN</td>\n",
       "      <td>12</td>\n",
       "      <td>2009-12-01 07:46:00</td>\n",
       "      <td>3.75</td>\n",
       "      <td>13085</td>\n",
       "      <td>United Kingdom</td>\n",
       "      <td>45.0</td>\n",
       "      <td>2009</td>\n",
       "      <td>12</td>\n",
       "      <td>1</td>\n",
       "    </tr>\n",
       "  </tbody>\n",
       "</table>\n",
       "</div>"
      ],
      "text/plain": [
       "  Invoice StockCode                          Description  Quantity  \\\n",
       "0  489434     85048  15CM CHRISTMAS GLASS BALL 20 LIGHTS        12   \n",
       "1  489434    79323P                   PINK CHERRY LIGHTS        12   \n",
       "2  489434    79323W                  WHITE CHERRY LIGHTS        12   \n",
       "3  489434     22041         RECORD FRAME 7\" SINGLE SIZE         27   \n",
       "4  489434     21232       STRAWBERRY CERAMIC TRINKET BOX        24   \n",
       "5  489434     22064           PINK DOUGHNUT TRINKET POT         24   \n",
       "6  489434     21871                  SAVE THE PLANET MUG        24   \n",
       "7  489434     21523   FANCY FONT HOME SWEET HOME DOORMAT        10   \n",
       "8  489435     22350                            CAT BOWL         12   \n",
       "9  489435     22349       DOG BOWL , CHASING BALL DESIGN        12   \n",
       "\n",
       "          InvoiceDate  Price Customer ID         Country  TotalPurchaseAmount  \\\n",
       "0 2009-12-01 07:45:00   6.95       13085  United Kingdom                 83.4   \n",
       "1 2009-12-01 07:45:00   6.75       13085  United Kingdom                 81.0   \n",
       "2 2009-12-01 07:45:00   6.75       13085  United Kingdom                 81.0   \n",
       "3 2009-12-01 07:45:00   2.10       13085  United Kingdom                 56.7   \n",
       "4 2009-12-01 07:45:00   1.25       13085  United Kingdom                 30.0   \n",
       "5 2009-12-01 07:45:00   1.65       13085  United Kingdom                 39.6   \n",
       "6 2009-12-01 07:45:00   1.25       13085  United Kingdom                 30.0   \n",
       "7 2009-12-01 07:45:00   5.95       13085  United Kingdom                 59.5   \n",
       "8 2009-12-01 07:46:00   2.55       13085  United Kingdom                 30.6   \n",
       "9 2009-12-01 07:46:00   3.75       13085  United Kingdom                 45.0   \n",
       "\n",
       "   InvoiceYear  InvoiceMonth  InvoiceDay  \n",
       "0         2009            12           1  \n",
       "1         2009            12           1  \n",
       "2         2009            12           1  \n",
       "3         2009            12           1  \n",
       "4         2009            12           1  \n",
       "5         2009            12           1  \n",
       "6         2009            12           1  \n",
       "7         2009            12           1  \n",
       "8         2009            12           1  \n",
       "9         2009            12           1  "
      ]
     },
     "execution_count": 44,
     "metadata": {},
     "output_type": "execute_result"
    }
   ],
   "source": [
    "final_dataset.head(10)"
   ]
  },
  {
   "cell_type": "markdown",
   "id": "98864e40",
   "metadata": {},
   "source": [
    "**Step 4: Exploratory Data Analysis (EDA)**"
   ]
  },
  {
   "cell_type": "code",
   "execution_count": 45,
   "id": "719c7b0b",
   "metadata": {},
   "outputs": [
    {
     "data": {
      "text/html": [
       "<div>\n",
       "<style scoped>\n",
       "    .dataframe tbody tr th:only-of-type {\n",
       "        vertical-align: middle;\n",
       "    }\n",
       "\n",
       "    .dataframe tbody tr th {\n",
       "        vertical-align: top;\n",
       "    }\n",
       "\n",
       "    .dataframe thead th {\n",
       "        text-align: right;\n",
       "    }\n",
       "</style>\n",
       "<table border=\"1\" class=\"dataframe\">\n",
       "  <thead>\n",
       "    <tr style=\"text-align: right;\">\n",
       "      <th></th>\n",
       "      <th>Invoice</th>\n",
       "      <th>StockCode</th>\n",
       "      <th>Description</th>\n",
       "      <th>Quantity</th>\n",
       "      <th>InvoiceDate</th>\n",
       "      <th>Price</th>\n",
       "      <th>Customer ID</th>\n",
       "      <th>Country</th>\n",
       "      <th>TotalPurchaseAmount</th>\n",
       "      <th>InvoiceYear</th>\n",
       "      <th>InvoiceMonth</th>\n",
       "      <th>InvoiceDay</th>\n",
       "    </tr>\n",
       "  </thead>\n",
       "  <tbody>\n",
       "    <tr>\n",
       "      <th>0</th>\n",
       "      <td>489434</td>\n",
       "      <td>85048</td>\n",
       "      <td>15CM CHRISTMAS GLASS BALL 20 LIGHTS</td>\n",
       "      <td>12</td>\n",
       "      <td>2009-12-01 07:45:00</td>\n",
       "      <td>6.95</td>\n",
       "      <td>13085</td>\n",
       "      <td>United Kingdom</td>\n",
       "      <td>83.4</td>\n",
       "      <td>2009</td>\n",
       "      <td>12</td>\n",
       "      <td>1</td>\n",
       "    </tr>\n",
       "    <tr>\n",
       "      <th>1</th>\n",
       "      <td>489434</td>\n",
       "      <td>79323P</td>\n",
       "      <td>PINK CHERRY LIGHTS</td>\n",
       "      <td>12</td>\n",
       "      <td>2009-12-01 07:45:00</td>\n",
       "      <td>6.75</td>\n",
       "      <td>13085</td>\n",
       "      <td>United Kingdom</td>\n",
       "      <td>81.0</td>\n",
       "      <td>2009</td>\n",
       "      <td>12</td>\n",
       "      <td>1</td>\n",
       "    </tr>\n",
       "    <tr>\n",
       "      <th>2</th>\n",
       "      <td>489434</td>\n",
       "      <td>79323W</td>\n",
       "      <td>WHITE CHERRY LIGHTS</td>\n",
       "      <td>12</td>\n",
       "      <td>2009-12-01 07:45:00</td>\n",
       "      <td>6.75</td>\n",
       "      <td>13085</td>\n",
       "      <td>United Kingdom</td>\n",
       "      <td>81.0</td>\n",
       "      <td>2009</td>\n",
       "      <td>12</td>\n",
       "      <td>1</td>\n",
       "    </tr>\n",
       "    <tr>\n",
       "      <th>3</th>\n",
       "      <td>489434</td>\n",
       "      <td>22041</td>\n",
       "      <td>RECORD FRAME 7\" SINGLE SIZE</td>\n",
       "      <td>27</td>\n",
       "      <td>2009-12-01 07:45:00</td>\n",
       "      <td>2.10</td>\n",
       "      <td>13085</td>\n",
       "      <td>United Kingdom</td>\n",
       "      <td>56.7</td>\n",
       "      <td>2009</td>\n",
       "      <td>12</td>\n",
       "      <td>1</td>\n",
       "    </tr>\n",
       "    <tr>\n",
       "      <th>4</th>\n",
       "      <td>489434</td>\n",
       "      <td>21232</td>\n",
       "      <td>STRAWBERRY CERAMIC TRINKET BOX</td>\n",
       "      <td>24</td>\n",
       "      <td>2009-12-01 07:45:00</td>\n",
       "      <td>1.25</td>\n",
       "      <td>13085</td>\n",
       "      <td>United Kingdom</td>\n",
       "      <td>30.0</td>\n",
       "      <td>2009</td>\n",
       "      <td>12</td>\n",
       "      <td>1</td>\n",
       "    </tr>\n",
       "    <tr>\n",
       "      <th>5</th>\n",
       "      <td>489434</td>\n",
       "      <td>22064</td>\n",
       "      <td>PINK DOUGHNUT TRINKET POT</td>\n",
       "      <td>24</td>\n",
       "      <td>2009-12-01 07:45:00</td>\n",
       "      <td>1.65</td>\n",
       "      <td>13085</td>\n",
       "      <td>United Kingdom</td>\n",
       "      <td>39.6</td>\n",
       "      <td>2009</td>\n",
       "      <td>12</td>\n",
       "      <td>1</td>\n",
       "    </tr>\n",
       "    <tr>\n",
       "      <th>6</th>\n",
       "      <td>489434</td>\n",
       "      <td>21871</td>\n",
       "      <td>SAVE THE PLANET MUG</td>\n",
       "      <td>24</td>\n",
       "      <td>2009-12-01 07:45:00</td>\n",
       "      <td>1.25</td>\n",
       "      <td>13085</td>\n",
       "      <td>United Kingdom</td>\n",
       "      <td>30.0</td>\n",
       "      <td>2009</td>\n",
       "      <td>12</td>\n",
       "      <td>1</td>\n",
       "    </tr>\n",
       "    <tr>\n",
       "      <th>7</th>\n",
       "      <td>489434</td>\n",
       "      <td>21523</td>\n",
       "      <td>FANCY FONT HOME SWEET HOME DOORMAT</td>\n",
       "      <td>10</td>\n",
       "      <td>2009-12-01 07:45:00</td>\n",
       "      <td>5.95</td>\n",
       "      <td>13085</td>\n",
       "      <td>United Kingdom</td>\n",
       "      <td>59.5</td>\n",
       "      <td>2009</td>\n",
       "      <td>12</td>\n",
       "      <td>1</td>\n",
       "    </tr>\n",
       "    <tr>\n",
       "      <th>8</th>\n",
       "      <td>489435</td>\n",
       "      <td>22350</td>\n",
       "      <td>CAT BOWL</td>\n",
       "      <td>12</td>\n",
       "      <td>2009-12-01 07:46:00</td>\n",
       "      <td>2.55</td>\n",
       "      <td>13085</td>\n",
       "      <td>United Kingdom</td>\n",
       "      <td>30.6</td>\n",
       "      <td>2009</td>\n",
       "      <td>12</td>\n",
       "      <td>1</td>\n",
       "    </tr>\n",
       "    <tr>\n",
       "      <th>9</th>\n",
       "      <td>489435</td>\n",
       "      <td>22349</td>\n",
       "      <td>DOG BOWL , CHASING BALL DESIGN</td>\n",
       "      <td>12</td>\n",
       "      <td>2009-12-01 07:46:00</td>\n",
       "      <td>3.75</td>\n",
       "      <td>13085</td>\n",
       "      <td>United Kingdom</td>\n",
       "      <td>45.0</td>\n",
       "      <td>2009</td>\n",
       "      <td>12</td>\n",
       "      <td>1</td>\n",
       "    </tr>\n",
       "  </tbody>\n",
       "</table>\n",
       "</div>"
      ],
      "text/plain": [
       "  Invoice StockCode                          Description  Quantity  \\\n",
       "0  489434     85048  15CM CHRISTMAS GLASS BALL 20 LIGHTS        12   \n",
       "1  489434    79323P                   PINK CHERRY LIGHTS        12   \n",
       "2  489434    79323W                  WHITE CHERRY LIGHTS        12   \n",
       "3  489434     22041         RECORD FRAME 7\" SINGLE SIZE         27   \n",
       "4  489434     21232       STRAWBERRY CERAMIC TRINKET BOX        24   \n",
       "5  489434     22064           PINK DOUGHNUT TRINKET POT         24   \n",
       "6  489434     21871                  SAVE THE PLANET MUG        24   \n",
       "7  489434     21523   FANCY FONT HOME SWEET HOME DOORMAT        10   \n",
       "8  489435     22350                            CAT BOWL         12   \n",
       "9  489435     22349       DOG BOWL , CHASING BALL DESIGN        12   \n",
       "\n",
       "          InvoiceDate  Price Customer ID         Country  TotalPurchaseAmount  \\\n",
       "0 2009-12-01 07:45:00   6.95       13085  United Kingdom                 83.4   \n",
       "1 2009-12-01 07:45:00   6.75       13085  United Kingdom                 81.0   \n",
       "2 2009-12-01 07:45:00   6.75       13085  United Kingdom                 81.0   \n",
       "3 2009-12-01 07:45:00   2.10       13085  United Kingdom                 56.7   \n",
       "4 2009-12-01 07:45:00   1.25       13085  United Kingdom                 30.0   \n",
       "5 2009-12-01 07:45:00   1.65       13085  United Kingdom                 39.6   \n",
       "6 2009-12-01 07:45:00   1.25       13085  United Kingdom                 30.0   \n",
       "7 2009-12-01 07:45:00   5.95       13085  United Kingdom                 59.5   \n",
       "8 2009-12-01 07:46:00   2.55       13085  United Kingdom                 30.6   \n",
       "9 2009-12-01 07:46:00   3.75       13085  United Kingdom                 45.0   \n",
       "\n",
       "   InvoiceYear  InvoiceMonth  InvoiceDay  \n",
       "0         2009            12           1  \n",
       "1         2009            12           1  \n",
       "2         2009            12           1  \n",
       "3         2009            12           1  \n",
       "4         2009            12           1  \n",
       "5         2009            12           1  \n",
       "6         2009            12           1  \n",
       "7         2009            12           1  \n",
       "8         2009            12           1  \n",
       "9         2009            12           1  "
      ]
     },
     "execution_count": 45,
     "metadata": {},
     "output_type": "execute_result"
    }
   ],
   "source": [
    "final_dataset.head(10)"
   ]
  },
  {
   "cell_type": "markdown",
   "id": "2ab8ff89",
   "metadata": {},
   "source": [
    "Distribution of Total Purchase Amount"
   ]
  },
  {
   "cell_type": "code",
   "execution_count": 46,
   "id": "6539ca66",
   "metadata": {},
   "outputs": [
    {
     "data": {
      "image/png": "[encoded data removed]",
      "text/plain": [
       "<Figure size 800x400 with 1 Axes>"
      ]
     },
     "metadata": {},
     "output_type": "display_data"
    }
   ],
   "source": [
    "import matplotlib.pyplot as plt\n",
    "\n",
    "plt.figure(figsize=(8,4))\n",
    "plt.hist(final_dataset['TotalPurchaseAmount'], bins=50, color='skyblue', edgecolor='black')\n",
    "plt.title('Distribution of Total Purchase Amount')\n",
    "plt.xlabel('Total Purchase Amount')\n",
    "plt.ylabel('Frequency')\n",
    "plt.show()\n"
   ]
  },
  {
   "cell_type": "markdown",
   "id": "11e9f29c",
   "metadata": {},
   "source": [
    "Top 10 Countries by Number of Transactions"
   ]
  },
  {
   "cell_type": "code",
   "execution_count": 47,
   "id": "b0c4a963",
   "metadata": {},
   "outputs": [
    {
     "data": {
      "image/png": "[encoded data removed]",
      "text/plain": [
       "<Figure size 1000x400 with 1 Axes>"
      ]
     },
     "metadata": {},
     "output_type": "display_data"
    }
   ],
   "source": [
    "top_countries = final_dataset['Country'].value_counts().head(10)\n",
    "plt.figure(figsize=(10,4))\n",
    "top_countries.plot(kind='bar', color='orange')\n",
    "plt.title('Top 10 Countries by Number of Transactions')\n",
    "plt.xlabel('Country')\n",
    "plt.ylabel('Number of Transactions')\n",
    "plt.show()\n"
   ]
  },
  {
   "cell_type": "markdown",
   "id": "524b34c6",
   "metadata": {},
   "source": [
    "Monthly Sales Trend"
   ]
  },
  {
   "cell_type": "code",
   "execution_count": 48,
   "id": "079a49b1",
   "metadata": {},
   "outputs": [
    {
     "data": {
      "image/png": "[encoded data removed]",
      "text/plain": [
       "<Figure size 1000x400 with 1 Axes>"
      ]
     },
     "metadata": {},
     "output_type": "display_data"
    }
   ],
   "source": [
    "monthly_sales = final_dataset.groupby(['InvoiceYear', 'InvoiceMonth'])['TotalPurchaseAmount'].sum()\n",
    "monthly_sales.plot(kind='line', marker='o', figsize=(10,4))\n",
    "plt.title('Monthly Sales Trend')\n",
    "plt.xlabel('Year, Month')\n",
    "plt.ylabel('Total Sales')\n",
    "plt.show()\n"
   ]
  },
  {
   "cell_type": "markdown",
   "id": "1678bc64",
   "metadata": {},
   "source": [
    " Top 10 Best-Selling Products"
   ]
  },
  {
   "cell_type": "code",
   "execution_count": 49,
   "id": "f7044572",
   "metadata": {},
   "outputs": [
    {
     "data": {
      "image/png": "[encoded data removed]",
      "text/plain": [
       "<Figure size 1000x400 with 1 Axes>"
      ]
     },
     "metadata": {},
     "output_type": "display_data"
    }
   ],
   "source": [
    "top_products = final_dataset.groupby('Description')['Quantity'].sum().sort_values(ascending=False).head(10)\n",
    "top_products.plot(kind='bar', color='green', figsize=(10,4))\n",
    "plt.title('Top 10 Best-Selling Products')\n",
    "plt.xlabel('Product')\n",
    "plt.ylabel('Total Quantity Sold')\n",
    "plt.show()\n"
   ]
  },
  {
   "cell_type": "markdown",
   "id": "0110e82f",
   "metadata": {},
   "source": [
    "Customer Purchase Frequency Distribution"
   ]
  },
  {
   "cell_type": "code",
   "execution_count": 50,
   "id": "92457920",
   "metadata": {},
   "outputs": [
    {
     "data": {
      "image/png": "[encoded data removed]",
      "text/plain": [
       "<Figure size 800x400 with 1 Axes>"
      ]
     },
     "metadata": {},
     "output_type": "display_data"
    }
   ],
   "source": [
    "customer_freq = final_dataset.groupby('Customer ID')['Invoice'].nunique()\n",
    "plt.figure(figsize=(8,4))\n",
    "plt.hist(customer_freq, bins=50, color='purple', edgecolor='black')\n",
    "plt.title('Customer Purchase Frequency Distribution')\n",
    "plt.xlabel('Number of Purchases')\n",
    "plt.ylabel('Number of Customers')\n",
    "plt.show()\n"
   ]
  },
  {
   "cell_type": "markdown",
   "id": "392eaa87",
   "metadata": {},
   "source": [
    "Correlation Heatmap of Numeric Features\n"
   ]
  },
  {
   "cell_type": "code",
   "execution_count": 51,
   "id": "852fcaf9",
   "metadata": {},
   "outputs": [
    {
     "data": {
      "image/png": "[encoded data removed]",
      "text/plain": [
       "<Figure size 600x400 with 2 Axes>"
      ]
     },
     "metadata": {},
     "output_type": "display_data"
    }
   ],
   "source": [
    "import seaborn as sns\n",
    "\n",
    "plt.figure(figsize=(6,4))\n",
    "sns.heatmap(final_dataset[['Quantity', 'Price', 'TotalPurchaseAmount']].corr(), annot=True, cmap='Blues')\n",
    "plt.title('Correlation Heatmap')\n",
    "plt.show()"
   ]
  },
  {
   "cell_type": "markdown",
   "id": "80f5eaaa",
   "metadata": {},
   "source": [
    "Average Order Value by Country"
   ]
  },
  {
   "cell_type": "code",
   "execution_count": 57,
   "id": "b0e63855",
   "metadata": {},
   "outputs": [
    {
     "data": {
      "image/png": "[encoded data removed]",
      "text/plain": [
       "<Figure size 1000x400 with 1 Axes>"
      ]
     },
     "metadata": {},
     "output_type": "display_data"
    }
   ],
   "source": [
    "avg_order_value = final_dataset.groupby('Country')['TotalPurchaseAmount'].mean().sort_values(ascending=False).head(10)\n",
    "avg_order_value.plot(kind='bar', color='teal', figsize=(10,4))\n",
    "plt.title('Top 10 Countries by Average Order Value')\n",
    "plt.xlabel('Country')\n",
    "plt.ylabel('Average Order Value')\n",
    "plt.show()\n"
   ]
  },
  {
   "cell_type": "markdown",
   "id": "5afd8916",
   "metadata": {},
   "source": [
    "Sales by Day of the Week"
   ]
  },
  {
   "cell_type": "code",
   "execution_count": 58,
   "id": "7dae292f",
   "metadata": {},
   "outputs": [
    {
     "data": {
      "image/png": "[encoded data removed]",
      "text/plain": [
       "<Figure size 800x400 with 1 Axes>"
      ]
     },
     "metadata": {},
     "output_type": "display_data"
    }
   ],
   "source": [
    "final_dataset['DayOfWeek'] = final_dataset['InvoiceDate'].dt.day_name()\n",
    "sales_by_day = final_dataset.groupby('DayOfWeek')['TotalPurchaseAmount'].sum().reindex(\n",
    "    ['Monday','Tuesday','Wednesday','Thursday','Friday','Saturday','Sunday'])\n",
    "sales_by_day.plot(kind='bar', color='coral', figsize=(8,4))\n",
    "plt.title('Sales by Day of the Week')\n",
    "plt.xlabel('Day')\n",
    "plt.ylabel('Total Sales')\n",
    "plt.show()\n"
   ]
  },
  {
   "cell_type": "markdown",
   "id": "74cbb489",
   "metadata": {},
   "source": [
    "Number of Unique Products Sold Each Month\n"
   ]
  },
  {
   "cell_type": "code",
   "execution_count": 59,
   "id": "33535c83",
   "metadata": {},
   "outputs": [
    {
     "data": {
      "image/png": "[encoded data removed]",
      "text/plain": [
       "<Figure size 1000x400 with 1 Axes>"
      ]
     },
     "metadata": {},
     "output_type": "display_data"
    }
   ],
   "source": [
    "unique_products_monthly = final_dataset.groupby(['InvoiceYear', 'InvoiceMonth'])['StockCode'].nunique()\n",
    "unique_products_monthly.plot(kind='line', marker='o', figsize=(10,4))\n",
    "plt.title('Unique Products Sold Per Month')\n",
    "plt.xlabel('Year, Month')\n",
    "plt.ylabel('Number of Unique Products')\n",
    "plt.show()"
   ]
  },
  {
   "cell_type": "markdown",
   "id": "22d2a83f",
   "metadata": {},
   "source": [
    "Distribution of Order Sizes (Number of Items per Invoice)"
   ]
  },
  {
   "cell_type": "code",
   "execution_count": 60,
   "id": "3e76668c",
   "metadata": {},
   "outputs": [
    {
     "data": {
      "image/png": "[encoded data removed]",
      "text/plain": [
       "<Figure size 800x400 with 1 Axes>"
      ]
     },
     "metadata": {},
     "output_type": "display_data"
    }
   ],
   "source": [
    "order_sizes = final_dataset.groupby('Invoice')['Quantity'].sum()\n",
    "plt.figure(figsize=(8,4))\n",
    "plt.hist(order_sizes, bins=50, color='slateblue', edgecolor='black')\n",
    "plt.title('Distribution of Order Sizes')\n",
    "plt.xlabel('Number of Items per Order')\n",
    "plt.ylabel('Frequency')\n",
    "plt.show()\n"
   ]
  },
  {
   "cell_type": "markdown",
   "id": "f8625223",
   "metadata": {},
   "source": [
    "**Step 5: RFM Analysis and Segmentation**"
   ]
  },
  {
   "cell_type": "markdown",
   "id": "58fabf0b",
   "metadata": {},
   "source": [
    "- Calculate **RFM Metrics** for Each Customer\n",
    "- **Recency** : Days since the customer’s last purchase.\n",
    "\n",
    "- **Frequency**: Number of purchases (invoices) per customer.\n",
    "\n",
    "- **Monetary**: Total amount spent by each customer."
   ]
  },
  {
   "cell_type": "markdown",
   "id": "6fd72bbe",
   "metadata": {},
   "source": [
    "- This code calculates **recency**, **frequency**, and **monetary** value for each customer using your cleaned dataset.\n",
    "It prepares the foundation for RFM scoring and segmentation."
   ]
  },
  {
   "cell_type": "markdown",
   "id": "0fe64117",
   "metadata": {},
   "source": [
    "- This code calculates Recency (R), Frequency (F), and Monetary (M) for each customer.\n",
    "\n",
    "- Recency: Days since the customer’s last purchase (relative to snapshot_date).\n",
    "\n",
    "- Frequency: Number of unique invoices/purchases.\n",
    "\n",
    "- Monetary: Total money spent by the customer."
   ]
  },
  {
   "cell_type": "code",
   "execution_count": 61,
   "id": "3c3a94cf",
   "metadata": {},
   "outputs": [],
   "source": [
    "import datetime as dt\n",
    "\n",
    "# Set snapshot date as one day after the last invoice\n",
    "snapshot_date = final_dataset['InvoiceDate'].max() + dt.timedelta(days=1)\n",
    "\n",
    "rfm = final_dataset.groupby('Customer ID').agg({\n",
    "    'InvoiceDate': lambda x: (snapshot_date - x.max()).days,\n",
    "    'Invoice': 'nunique',\n",
    "    'TotalPurchaseAmount': 'sum'\n",
    "}).reset_index()\n",
    "rfm.columns = ['CustomerID', 'Recency', 'Frequency', 'Monetary']\n"
   ]
  },
  {
   "cell_type": "markdown",
   "id": "77af0972",
   "metadata": {},
   "source": [
    "- Score Each **RFM Metric**\n",
    "- Assign scores (typically 1–5) to each RFM metric, with higher scores representing more desirable customer behavior."
   ]
  },
  {
   "cell_type": "markdown",
   "id": "e4b1fa61",
   "metadata": {},
   "source": [
    "This code assigns quantile-based scores to each RFM metric, making it easy to compare customers.\n",
    "Higher scores mean more recent, frequent, or higher-spending customers."
   ]
  },
  {
   "cell_type": "markdown",
   "id": "be43dcff",
   "metadata": {},
   "source": [
    "- This code assigns a score from 1 to 5 for each RFM metric per customer, with 5 being best for Recency (most recent), Frequency, and Monetary.\n",
    "- It makes it easy to compare and segment customers based on their purchasing behavior."
   ]
  },
  {
   "cell_type": "code",
   "execution_count": 62,
   "id": "081e57fc",
   "metadata": {},
   "outputs": [],
   "source": [
    "# Score each metric from 1 (lowest) to 5 (highest)\n",
    "rfm['R_Score'] = pd.qcut(rfm['Recency'], 5, labels=[5,4,3,2,1]).astype(int)\n",
    "rfm['F_Score'] = pd.qcut(rfm['Frequency'].rank(method='first'), 5, labels=[1,2,3,4,5]).astype(int)\n",
    "rfm['M_Score'] = pd.qcut(rfm['Monetary'], 5, labels=[1,2,3,4,5]).astype(int)\n"
   ]
  },
  {
   "cell_type": "code",
   "execution_count": 70,
   "id": "e1230e2f",
   "metadata": {},
   "outputs": [
    {
     "name": "stdout",
     "output_type": "stream",
     "text": [
      "     CustomerID  Recency  Frequency  Monetary  R_Score  F_Score  M_Score  \\\n",
      "5189      17592      739          1    148.30        1        2        1   \n",
      "289       12636      739          1      7.50        1        1        1   \n",
      "1166      13526      738          2    581.45        1        2        3   \n",
      "2285      14654      738          1    233.63        1        1        2   \n",
      "4691      17087      738          1    221.53        1        2        1   \n",
      "4660      17056      738          1    127.70        1        2        1   \n",
      "5410      17818      738          1    124.78        1        2        1   \n",
      "3454      15833      738          1     80.40        1        1        1   \n",
      "1740      14106      737          1    180.00        1        1        1   \n",
      "2604      14980      737          1    143.80        1        1        1   \n",
      "3916      16301      737          1    107.33        1        1        1   \n",
      "5501      17909      737          1     99.90        1        2        1   \n",
      "585       12934      737          1     99.03        1        1        1   \n",
      "5203      17606      737          1     87.30        1        2        1   \n",
      "1978      14347      737          1     81.70        1        1        1   \n",
      "3415      15794      736          2    639.90        1        2        3   \n",
      "3808      16192      736          1    325.89        1        1        2   \n",
      "4874      17271      736          1    195.95        1        2        1   \n",
      "4256      16645      736          1    160.39        1        1        1   \n",
      "2381      14750      736          1    107.68        1        1        1   \n",
      "3617      15999      736          1     20.40        1        1        1   \n",
      "2603      14979      735          1    420.66        1        1        2   \n",
      "4154      16541      735          1    388.00        1        1        2   \n",
      "4754      17151      735          1    231.90        1        2        1   \n",
      "2099      14468      734          1    153.04        1        1        1   \n",
      "3892      16277      734          1    145.44        1        1        1   \n",
      "4025      16410      734          1     75.96        1        1        1   \n",
      "4572      16964      733          2    207.85        1        3        1   \n",
      "1756      14123      733          1    430.93        1        1        2   \n",
      "1541      13905      733          1    305.40        1        1        2   \n",
      "1638      14003      733          1    202.10        1        1        1   \n",
      "2579      14955      733          1    161.32        1        1        1   \n",
      "3101      15479      733          1    147.40        1        1        1   \n",
      "2205      14574      733          1    140.70        1        1        1   \n",
      "2348      14717      733          1     78.85        1        1        1   \n",
      "5752      18162      732          1    354.50        1        2        2   \n",
      "96        12443      732          1    352.86        1        1        2   \n",
      "5042      17441      732          1    292.09        1        2        2   \n",
      "676       13025      732          1    259.58        1        1        2   \n",
      "853       13204      731          1    911.96        1        1        3   \n",
      "4781      17178      731          1    366.76        1        2        2   \n",
      "2786      15162      731          1    290.40        1        1        2   \n",
      "763       13114      731          1    216.43        1        1        1   \n",
      "140       12487      731          1    108.00        1        1        1   \n",
      "3543      15924      731          1     90.92        1        1        1   \n",
      "2709      15085      730          1    347.54        1        1        2   \n",
      "2926      15302      730          1    294.20        1        1        2   \n",
      "4899      17296      730          1    277.17        1        2        2   \n",
      "1138      13498      730          1    268.07        1        1        2   \n",
      "2833      15209      730          1    176.08        1        1        1   \n",
      "\n",
      "     RFM_Score Segment  \n",
      "5189       121  Others  \n",
      "289        111  Others  \n",
      "1166       123  Others  \n",
      "2285       112  Others  \n",
      "4691       121  Others  \n",
      "4660       121  Others  \n",
      "5410       121  Others  \n",
      "3454       111  Others  \n",
      "1740       111  Others  \n",
      "2604       111  Others  \n",
      "3916       111  Others  \n",
      "5501       121  Others  \n",
      "585        111  Others  \n",
      "5203       121  Others  \n",
      "1978       111  Others  \n",
      "3415       123  Others  \n",
      "3808       112  Others  \n",
      "4874       121  Others  \n",
      "4256       111  Others  \n",
      "2381       111  Others  \n",
      "3617       111  Others  \n",
      "2603       112  Others  \n",
      "4154       112  Others  \n",
      "4754       121  Others  \n",
      "2099       111  Others  \n",
      "3892       111  Others  \n",
      "4025       111  Others  \n",
      "4572       131  Others  \n",
      "1756       112  Others  \n",
      "1541       112  Others  \n",
      "1638       111  Others  \n",
      "2579       111  Others  \n",
      "3101       111  Others  \n",
      "2205       111  Others  \n",
      "2348       111  Others  \n",
      "5752       122  Others  \n",
      "96         112  Others  \n",
      "5042       122  Others  \n",
      "676        112  Others  \n",
      "853        113  Others  \n",
      "4781       122  Others  \n",
      "2786       112  Others  \n",
      "763        111  Others  \n",
      "140        111  Others  \n",
      "3543       111  Others  \n",
      "2709       112  Others  \n",
      "2926       112  Others  \n",
      "4899       122  Others  \n",
      "1138       112  Others  \n",
      "2833       111  Others  \n"
     ]
    }
   ],
   "source": [
    "# Sort by Recency, Frequency, and Monetary in descending order and get top 50 customers\n",
    "rfm_top50 = rfm.sort_values(by=['Recency', 'Frequency', 'Monetary'], ascending=False).head(50)\n",
    "\n",
    "# Display the result\n",
    "print(rfm_top50)\n"
   ]
  },
  {
   "cell_type": "markdown",
   "id": "c45e11d4",
   "metadata": {},
   "source": [
    "This code combines the individual R, F, and M scores into a single RFM score string for each customer.\n",
    "It enables straightforward segmentation and identification of high-value groups."
   ]
  },
  {
   "cell_type": "markdown",
   "id": "5551d735",
   "metadata": {},
   "source": [
    "This code combines the R, F, and M scores into a single string for each customer (e.g., \"555\").\n",
    "It creates an easy-to-read RFM segment code to help with customer segmentation and analysis."
   ]
  },
  {
   "cell_type": "code",
   "execution_count": 71,
   "id": "474d13d4",
   "metadata": {},
   "outputs": [],
   "source": [
    "rfm['RFM_Score'] = rfm['R_Score'].astype(str) + rfm['F_Score'].astype(str) + rfm['M_Score'].astype(str)\n"
   ]
  },
  {
   "cell_type": "code",
   "execution_count": 72,
   "id": "66fc4a2a",
   "metadata": {},
   "outputs": [
    {
     "name": "stdout",
     "output_type": "stream",
     "text": [
      "     CustomerID  Recency  Frequency  Monetary RFM_Score\n",
      "1891      14258        9         25  19690.75       555\n",
      "2072      14441        1         11   4149.44       555\n",
      "3466      15845       18         11   4212.09       555\n",
      "2366      14735        4         56  11260.95       555\n",
      "3517      15898        1         25   4596.06       555\n",
      "1413      13777        1         61  17284.94       555\n",
      "366       12714        9         12  12877.25       555\n",
      "2922      15298        2         23   7887.98       555\n",
      "2629      15005       16         56  13328.41       555\n",
      "4312      16701        9         26   6648.30       555\n",
      "1317      13680        1         12   8845.76       555\n",
      "361       12709       15         34  22203.70       555\n",
      "4672      17068       12         47   8858.48       555\n",
      "1666      14031        7         44  27887.03       555\n",
      "358       12705       15         14  11083.66       555\n",
      "5332      17739       12         18   7207.72       555\n",
      "5331      17738       19         13   3879.65       555\n",
      "952       13305        4         16   3271.89       555\n",
      "5068      17469       16         17   4909.86       555\n",
      "3522      15903       10         12   6413.31       555\n"
     ]
    }
   ],
   "source": [
    "# Create a numeric RFM score for sorting (higher is better)\n",
    "rfm['RFM_Score_Num'] = rfm['R_Score']*100 + rfm['F_Score']*10 + rfm['M_Score']\n",
    "\n",
    "# Get top 20 customers by RFM score\n",
    "rfm_top20 = rfm.sort_values(by='RFM_Score_Num', ascending=False).head(20)\n",
    "print(rfm_top20[['CustomerID', 'Recency', 'Frequency', 'Monetary', 'RFM_Score']])\n"
   ]
  },
  {
   "cell_type": "code",
   "execution_count": 73,
   "id": "c2547f6d",
   "metadata": {},
   "outputs": [
    {
     "name": "stdout",
     "output_type": "stream",
     "text": [
      "     CustomerID  Recency  Frequency  Monetary RFM_Score\n",
      "66        12413       67          4    862.15       333\n",
      "145       12492       63          3    640.86       333\n",
      "269       12616       95          3   1027.90       333\n",
      "301       12648      155          4   1030.60       333\n",
      "356       12703       71          4    937.00       333\n",
      "374       12722       85          4    914.95       333\n",
      "566       12915      149          4    889.20       333\n",
      "574       12923       64          3    702.22       333\n",
      "593       12942      131          3    616.70       333\n",
      "651       13000      107          4    962.11       333\n",
      "656       13005      174          4    907.83       333\n",
      "667       13016       73          3    746.84       333\n",
      "689       13038       80          3    906.46       333\n",
      "696       13045       99          3    802.67       333\n",
      "818       13169       64          3    689.26       333\n",
      "948       13301      104          4    598.19       333\n",
      "1020      13376       99          3    879.31       333\n",
      "1038      13395      185          3   1015.17       333\n",
      "1094      13453      166          3    744.89       333\n",
      "1153      13513      127          3    793.34       333\n"
     ]
    }
   ],
   "source": [
    "# Get 20 customers with average RFM scores (3,3,3)\n",
    "rfm_avg = rfm[(rfm['R_Score'] == 3) & (rfm['F_Score'] == 3) & (rfm['M_Score'] == 3)].head(20)\n",
    "print(rfm_avg[['CustomerID', 'Recency', 'Frequency', 'Monetary', 'RFM_Score']])\n"
   ]
  },
  {
   "cell_type": "code",
   "execution_count": 74,
   "id": "57bbbf65",
   "metadata": {},
   "outputs": [
    {
     "name": "stdout",
     "output_type": "stream",
     "text": [
      "    CustomerID  Recency  Frequency  Monetary RFM_Score\n",
      "20       12366      634          1    136.89       111\n",
      "40       12387      415          1    125.04       111\n",
      "45       12392      591          1    226.95       111\n",
      "53       12400      414          1    205.25       111\n",
      "57       12404      682          1      7.50       111\n",
      "69       12416      657          1    202.56       111\n",
      "119      12466      682          1      7.50       111\n",
      "120      12467      423          1    132.80       111\n",
      "123      12470      690          1    198.25       111\n",
      "140      12487      731          1    108.00       111\n",
      "156      12503      584          1     50.70       111\n",
      "208      12555      682          1      7.50       111\n",
      "221      12568      645          1     53.20       111\n",
      "223      12570      682          1      7.50       111\n",
      "259      12606      682          1      7.50       111\n",
      "289      12636      739          1      7.50       111\n",
      "314      12661      436          1    162.00       111\n",
      "345      12692      637          1    110.50       111\n",
      "420      12768      451          1    160.71       111\n",
      "423      12771      486          1    229.50       111\n"
     ]
    }
   ],
   "source": [
    "# Get 20 customers with worst RFM scores (1,1,1)\n",
    "rfm_worst = rfm[(rfm['R_Score'] == 1) & (rfm['F_Score'] == 1) & (rfm['M_Score'] == 1)].head(20)\n",
    "print(rfm_worst[['CustomerID', 'Recency', 'Frequency', 'Monetary', 'RFM_Score']])\n"
   ]
  },
  {
   "cell_type": "markdown",
   "id": "49b16729",
   "metadata": {},
   "source": [
    "This code assigns each customer to a segment based on their RFM score pattern.\n",
    "It helps you target marketing strategies to specific customer groups."
   ]
  },
  {
   "cell_type": "code",
   "execution_count": 75,
   "id": "58ce4f2f",
   "metadata": {},
   "outputs": [],
   "source": [
    "def segment_customer(row):\n",
    "    if row['RFM_Score'] == '555':\n",
    "        return 'Champion'\n",
    "    elif row['R_Score'] >= 4 and row['F_Score'] >= 4:\n",
    "        return 'Loyal'\n",
    "    elif row['R_Score'] == 5:\n",
    "        return 'Recent'\n",
    "    elif row['F_Score'] == 5:\n",
    "        return 'Frequent'\n",
    "    elif row['M_Score'] == 5:\n",
    "        return 'Big Spender'\n",
    "    else:\n",
    "        return 'Others'\n",
    "\n",
    "rfm['Segment'] = rfm.apply(segment_customer, axis=1)\n"
   ]
  },
  {
   "cell_type": "markdown",
   "id": "7774af10",
   "metadata": {},
   "source": [
    "This code visualizes the number of customers in each RFM segment.\n",
    "It provides a clear overview of your customer base distribution."
   ]
  },
  {
   "cell_type": "code",
   "execution_count": 76,
   "id": "7b25cc6e",
   "metadata": {},
   "outputs": [
    {
     "data": {
      "image/png": "[encoded data removed]",
      "text/plain": [
       "<Figure size 800x400 with 1 Axes>"
      ]
     },
     "metadata": {},
     "output_type": "display_data"
    }
   ],
   "source": [
    "import seaborn as sns\n",
    "import matplotlib.pyplot as plt\n",
    "\n",
    "plt.figure(figsize=(8,4))\n",
    "sns.countplot(data=rfm, x='Segment', order=rfm['Segment'].value_counts().index)\n",
    "plt.title('Customer Segments by RFM')\n",
    "plt.xlabel('Segment')\n",
    "plt.ylabel('Number of Customers')\n",
    "plt.show()\n"
   ]
  },
  {
   "cell_type": "code",
   "execution_count": 77,
   "id": "fc4ea1a9",
   "metadata": {},
   "outputs": [
    {
     "data": {
      "text/html": [
       "<div>\n",
       "<style scoped>\n",
       "    .dataframe tbody tr th:only-of-type {\n",
       "        vertical-align: middle;\n",
       "    }\n",
       "\n",
       "    .dataframe tbody tr th {\n",
       "        vertical-align: top;\n",
       "    }\n",
       "\n",
       "    .dataframe thead th {\n",
       "        text-align: right;\n",
       "    }\n",
       "</style>\n",
       "<table border=\"1\" class=\"dataframe\">\n",
       "  <thead>\n",
       "    <tr style=\"text-align: right;\">\n",
       "      <th></th>\n",
       "      <th>Invoice</th>\n",
       "      <th>StockCode</th>\n",
       "      <th>Description</th>\n",
       "      <th>Quantity</th>\n",
       "      <th>InvoiceDate</th>\n",
       "      <th>Price</th>\n",
       "      <th>Customer ID</th>\n",
       "      <th>Country</th>\n",
       "      <th>TotalPurchaseAmount</th>\n",
       "      <th>InvoiceYear</th>\n",
       "      <th>InvoiceMonth</th>\n",
       "      <th>InvoiceDay</th>\n",
       "      <th>DayOfWeek</th>\n",
       "    </tr>\n",
       "  </thead>\n",
       "  <tbody>\n",
       "    <tr>\n",
       "      <th>0</th>\n",
       "      <td>489434</td>\n",
       "      <td>85048</td>\n",
       "      <td>15CM CHRISTMAS GLASS BALL 20 LIGHTS</td>\n",
       "      <td>12</td>\n",
       "      <td>2009-12-01 07:45:00</td>\n",
       "      <td>6.95</td>\n",
       "      <td>13085</td>\n",
       "      <td>United Kingdom</td>\n",
       "      <td>83.4</td>\n",
       "      <td>2009</td>\n",
       "      <td>12</td>\n",
       "      <td>1</td>\n",
       "      <td>Tuesday</td>\n",
       "    </tr>\n",
       "    <tr>\n",
       "      <th>1</th>\n",
       "      <td>489434</td>\n",
       "      <td>79323P</td>\n",
       "      <td>PINK CHERRY LIGHTS</td>\n",
       "      <td>12</td>\n",
       "      <td>2009-12-01 07:45:00</td>\n",
       "      <td>6.75</td>\n",
       "      <td>13085</td>\n",
       "      <td>United Kingdom</td>\n",
       "      <td>81.0</td>\n",
       "      <td>2009</td>\n",
       "      <td>12</td>\n",
       "      <td>1</td>\n",
       "      <td>Tuesday</td>\n",
       "    </tr>\n",
       "    <tr>\n",
       "      <th>2</th>\n",
       "      <td>489434</td>\n",
       "      <td>79323W</td>\n",
       "      <td>WHITE CHERRY LIGHTS</td>\n",
       "      <td>12</td>\n",
       "      <td>2009-12-01 07:45:00</td>\n",
       "      <td>6.75</td>\n",
       "      <td>13085</td>\n",
       "      <td>United Kingdom</td>\n",
       "      <td>81.0</td>\n",
       "      <td>2009</td>\n",
       "      <td>12</td>\n",
       "      <td>1</td>\n",
       "      <td>Tuesday</td>\n",
       "    </tr>\n",
       "    <tr>\n",
       "      <th>3</th>\n",
       "      <td>489434</td>\n",
       "      <td>22041</td>\n",
       "      <td>RECORD FRAME 7\" SINGLE SIZE</td>\n",
       "      <td>27</td>\n",
       "      <td>2009-12-01 07:45:00</td>\n",
       "      <td>2.10</td>\n",
       "      <td>13085</td>\n",
       "      <td>United Kingdom</td>\n",
       "      <td>56.7</td>\n",
       "      <td>2009</td>\n",
       "      <td>12</td>\n",
       "      <td>1</td>\n",
       "      <td>Tuesday</td>\n",
       "    </tr>\n",
       "    <tr>\n",
       "      <th>4</th>\n",
       "      <td>489434</td>\n",
       "      <td>21232</td>\n",
       "      <td>STRAWBERRY CERAMIC TRINKET BOX</td>\n",
       "      <td>24</td>\n",
       "      <td>2009-12-01 07:45:00</td>\n",
       "      <td>1.25</td>\n",
       "      <td>13085</td>\n",
       "      <td>United Kingdom</td>\n",
       "      <td>30.0</td>\n",
       "      <td>2009</td>\n",
       "      <td>12</td>\n",
       "      <td>1</td>\n",
       "      <td>Tuesday</td>\n",
       "    </tr>\n",
       "    <tr>\n",
       "      <th>5</th>\n",
       "      <td>489434</td>\n",
       "      <td>22064</td>\n",
       "      <td>PINK DOUGHNUT TRINKET POT</td>\n",
       "      <td>24</td>\n",
       "      <td>2009-12-01 07:45:00</td>\n",
       "      <td>1.65</td>\n",
       "      <td>13085</td>\n",
       "      <td>United Kingdom</td>\n",
       "      <td>39.6</td>\n",
       "      <td>2009</td>\n",
       "      <td>12</td>\n",
       "      <td>1</td>\n",
       "      <td>Tuesday</td>\n",
       "    </tr>\n",
       "    <tr>\n",
       "      <th>6</th>\n",
       "      <td>489434</td>\n",
       "      <td>21871</td>\n",
       "      <td>SAVE THE PLANET MUG</td>\n",
       "      <td>24</td>\n",
       "      <td>2009-12-01 07:45:00</td>\n",
       "      <td>1.25</td>\n",
       "      <td>13085</td>\n",
       "      <td>United Kingdom</td>\n",
       "      <td>30.0</td>\n",
       "      <td>2009</td>\n",
       "      <td>12</td>\n",
       "      <td>1</td>\n",
       "      <td>Tuesday</td>\n",
       "    </tr>\n",
       "    <tr>\n",
       "      <th>7</th>\n",
       "      <td>489434</td>\n",
       "      <td>21523</td>\n",
       "      <td>FANCY FONT HOME SWEET HOME DOORMAT</td>\n",
       "      <td>10</td>\n",
       "      <td>2009-12-01 07:45:00</td>\n",
       "      <td>5.95</td>\n",
       "      <td>13085</td>\n",
       "      <td>United Kingdom</td>\n",
       "      <td>59.5</td>\n",
       "      <td>2009</td>\n",
       "      <td>12</td>\n",
       "      <td>1</td>\n",
       "      <td>Tuesday</td>\n",
       "    </tr>\n",
       "    <tr>\n",
       "      <th>8</th>\n",
       "      <td>489435</td>\n",
       "      <td>22350</td>\n",
       "      <td>CAT BOWL</td>\n",
       "      <td>12</td>\n",
       "      <td>2009-12-01 07:46:00</td>\n",
       "      <td>2.55</td>\n",
       "      <td>13085</td>\n",
       "      <td>United Kingdom</td>\n",
       "      <td>30.6</td>\n",
       "      <td>2009</td>\n",
       "      <td>12</td>\n",
       "      <td>1</td>\n",
       "      <td>Tuesday</td>\n",
       "    </tr>\n",
       "    <tr>\n",
       "      <th>9</th>\n",
       "      <td>489435</td>\n",
       "      <td>22349</td>\n",
       "      <td>DOG BOWL , CHASING BALL DESIGN</td>\n",
       "      <td>12</td>\n",
       "      <td>2009-12-01 07:46:00</td>\n",
       "      <td>3.75</td>\n",
       "      <td>13085</td>\n",
       "      <td>United Kingdom</td>\n",
       "      <td>45.0</td>\n",
       "      <td>2009</td>\n",
       "      <td>12</td>\n",
       "      <td>1</td>\n",
       "      <td>Tuesday</td>\n",
       "    </tr>\n",
       "  </tbody>\n",
       "</table>\n",
       "</div>"
      ],
      "text/plain": [
       "  Invoice StockCode                          Description  Quantity  \\\n",
       "0  489434     85048  15CM CHRISTMAS GLASS BALL 20 LIGHTS        12   \n",
       "1  489434    79323P                   PINK CHERRY LIGHTS        12   \n",
       "2  489434    79323W                  WHITE CHERRY LIGHTS        12   \n",
       "3  489434     22041         RECORD FRAME 7\" SINGLE SIZE         27   \n",
       "4  489434     21232       STRAWBERRY CERAMIC TRINKET BOX        24   \n",
       "5  489434     22064           PINK DOUGHNUT TRINKET POT         24   \n",
       "6  489434     21871                  SAVE THE PLANET MUG        24   \n",
       "7  489434     21523   FANCY FONT HOME SWEET HOME DOORMAT        10   \n",
       "8  489435     22350                            CAT BOWL         12   \n",
       "9  489435     22349       DOG BOWL , CHASING BALL DESIGN        12   \n",
       "\n",
       "          InvoiceDate  Price Customer ID         Country  TotalPurchaseAmount  \\\n",
       "0 2009-12-01 07:45:00   6.95       13085  United Kingdom                 83.4   \n",
       "1 2009-12-01 07:45:00   6.75       13085  United Kingdom                 81.0   \n",
       "2 2009-12-01 07:45:00   6.75       13085  United Kingdom                 81.0   \n",
       "3 2009-12-01 07:45:00   2.10       13085  United Kingdom                 56.7   \n",
       "4 2009-12-01 07:45:00   1.25       13085  United Kingdom                 30.0   \n",
       "5 2009-12-01 07:45:00   1.65       13085  United Kingdom                 39.6   \n",
       "6 2009-12-01 07:45:00   1.25       13085  United Kingdom                 30.0   \n",
       "7 2009-12-01 07:45:00   5.95       13085  United Kingdom                 59.5   \n",
       "8 2009-12-01 07:46:00   2.55       13085  United Kingdom                 30.6   \n",
       "9 2009-12-01 07:46:00   3.75       13085  United Kingdom                 45.0   \n",
       "\n",
       "   InvoiceYear  InvoiceMonth  InvoiceDay DayOfWeek  \n",
       "0         2009            12           1   Tuesday  \n",
       "1         2009            12           1   Tuesday  \n",
       "2         2009            12           1   Tuesday  \n",
       "3         2009            12           1   Tuesday  \n",
       "4         2009            12           1   Tuesday  \n",
       "5         2009            12           1   Tuesday  \n",
       "6         2009            12           1   Tuesday  \n",
       "7         2009            12           1   Tuesday  \n",
       "8         2009            12           1   Tuesday  \n",
       "9         2009            12           1   Tuesday  "
      ]
     },
     "execution_count": 77,
     "metadata": {},
     "output_type": "execute_result"
    }
   ],
   "source": [
    "final_dataset.head(10)"
   ]
  }
 ],
 "metadata": {
  "kernelspec": {
   "display_name": "base",
   "language": "python",
   "name": "python3"
  },
  "language_info": {
   "codemirror_mode": {
    "name": "ipython",
    "version": 3
   },
   "file_extension": ".py",
   "mimetype": "text/x-python",
   "name": "python",
   "nbconvert_exporter": "python",
   "pygments_lexer": "ipython3",
   "version": "3.11.5"
  }
 },
 "nbformat": 4,
 "nbformat_minor": 5
}
