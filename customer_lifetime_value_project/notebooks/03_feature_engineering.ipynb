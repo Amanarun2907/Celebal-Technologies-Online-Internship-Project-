{
 "cells": [
  {
   "cell_type": "markdown",
   "id": "969f34e8",
   "metadata": {},
   "source": [
    "## Import Libraries"
   ]
  },
  {
   "cell_type": "code",
   "execution_count": 25,
   "id": "b61a4da2",
   "metadata": {},
   "outputs": [
    {
     "name": "stdout",
     "output_type": "stream",
     "text": [
      "Libraries imported successfully.\n"
     ]
    }
   ],
   "source": [
    "# Cell 1: Import Libraries\n",
    "import pandas as pd\n",
    "import os\n",
    "import datetime as dt\n",
    "print(\"Libraries imported successfully.\")"
   ]
  },
  {
   "cell_type": "markdown",
   "id": "c45befd1",
   "metadata": {},
   "source": [
    "## Load Cleaned Data"
   ]
  },
  {
   "cell_type": "code",
   "execution_count": 26,
   "id": "f74ef9bf",
   "metadata": {},
   "outputs": [
    {
     "name": "stdout",
     "output_type": "stream",
     "text": [
      "Loading cleaned data from: ../data\\online_retail_dataset_preprocessing.xlsx\n",
      "Cleaned data loaded. Shape: (779425, 9)\n",
      "First 5 rows of cleaned data (with correct TotalPrice):\n"
     ]
    },
    {
     "data": {
      "text/html": [
       "<div>\n",
       "<style scoped>\n",
       "    .dataframe tbody tr th:only-of-type {\n",
       "        vertical-align: middle;\n",
       "    }\n",
       "\n",
       "    .dataframe tbody tr th {\n",
       "        vertical-align: top;\n",
       "    }\n",
       "\n",
       "    .dataframe thead th {\n",
       "        text-align: right;\n",
       "    }\n",
       "</style>\n",
       "<table border=\"1\" class=\"dataframe\">\n",
       "  <thead>\n",
       "    <tr style=\"text-align: right;\">\n",
       "      <th></th>\n",
       "      <th>Invoice</th>\n",
       "      <th>StockCode</th>\n",
       "      <th>Description</th>\n",
       "      <th>Quantity</th>\n",
       "      <th>InvoiceDate</th>\n",
       "      <th>Price</th>\n",
       "      <th>Customer ID</th>\n",
       "      <th>Country</th>\n",
       "      <th>TotalPrice</th>\n",
       "    </tr>\n",
       "  </thead>\n",
       "  <tbody>\n",
       "    <tr>\n",
       "      <th>0</th>\n",
       "      <td>489434</td>\n",
       "      <td>85048</td>\n",
       "      <td>15CM CHRISTMAS GLASS BALL 20 LIGHTS</td>\n",
       "      <td>12</td>\n",
       "      <td>2009-12-01 07:45:00</td>\n",
       "      <td>6.95</td>\n",
       "      <td>13085.0</td>\n",
       "      <td>United Kingdom</td>\n",
       "      <td>83.4</td>\n",
       "    </tr>\n",
       "    <tr>\n",
       "      <th>1</th>\n",
       "      <td>489434</td>\n",
       "      <td>79323P</td>\n",
       "      <td>PINK CHERRY LIGHTS</td>\n",
       "      <td>12</td>\n",
       "      <td>2009-12-01 07:45:00</td>\n",
       "      <td>6.75</td>\n",
       "      <td>13085.0</td>\n",
       "      <td>United Kingdom</td>\n",
       "      <td>81.0</td>\n",
       "    </tr>\n",
       "    <tr>\n",
       "      <th>2</th>\n",
       "      <td>489434</td>\n",
       "      <td>79323W</td>\n",
       "      <td>WHITE CHERRY LIGHTS</td>\n",
       "      <td>12</td>\n",
       "      <td>2009-12-01 07:45:00</td>\n",
       "      <td>6.75</td>\n",
       "      <td>13085.0</td>\n",
       "      <td>United Kingdom</td>\n",
       "      <td>81.0</td>\n",
       "    </tr>\n",
       "    <tr>\n",
       "      <th>3</th>\n",
       "      <td>489434</td>\n",
       "      <td>22041</td>\n",
       "      <td>RECORD FRAME 7\" SINGLE SIZE</td>\n",
       "      <td>48</td>\n",
       "      <td>2009-12-01 07:45:00</td>\n",
       "      <td>2.10</td>\n",
       "      <td>13085.0</td>\n",
       "      <td>United Kingdom</td>\n",
       "      <td>100.8</td>\n",
       "    </tr>\n",
       "    <tr>\n",
       "      <th>4</th>\n",
       "      <td>489434</td>\n",
       "      <td>21232</td>\n",
       "      <td>STRAWBERRY CERAMIC TRINKET BOX</td>\n",
       "      <td>24</td>\n",
       "      <td>2009-12-01 07:45:00</td>\n",
       "      <td>1.25</td>\n",
       "      <td>13085.0</td>\n",
       "      <td>United Kingdom</td>\n",
       "      <td>30.0</td>\n",
       "    </tr>\n",
       "  </tbody>\n",
       "</table>\n",
       "</div>"
      ],
      "text/plain": [
       "   Invoice StockCode                          Description  Quantity  \\\n",
       "0   489434     85048  15CM CHRISTMAS GLASS BALL 20 LIGHTS        12   \n",
       "1   489434    79323P                   PINK CHERRY LIGHTS        12   \n",
       "2   489434    79323W                  WHITE CHERRY LIGHTS        12   \n",
       "3   489434     22041         RECORD FRAME 7\" SINGLE SIZE         48   \n",
       "4   489434     21232       STRAWBERRY CERAMIC TRINKET BOX        24   \n",
       "\n",
       "          InvoiceDate  Price  Customer ID         Country  TotalPrice  \n",
       "0 2009-12-01 07:45:00   6.95      13085.0  United Kingdom        83.4  \n",
       "1 2009-12-01 07:45:00   6.75      13085.0  United Kingdom        81.0  \n",
       "2 2009-12-01 07:45:00   6.75      13085.0  United Kingdom        81.0  \n",
       "3 2009-12-01 07:45:00   2.10      13085.0  United Kingdom       100.8  \n",
       "4 2009-12-01 07:45:00   1.25      13085.0  United Kingdom        30.0  "
      ]
     },
     "metadata": {},
     "output_type": "display_data"
    }
   ],
   "source": [
    "# Cell 2: Load Cleaned Data\n",
    "# Define the path to your cleaned data file in the 'data' folder\n",
    "data_folder = '../data' # Relative path from notebooks to data folder\n",
    "cleaned_file_name = 'online_retail_dataset_preprocessing.xlsx'\n",
    "cleaned_file_path = os.path.join(data_folder, cleaned_file_name)\n",
    "\n",
    "print(f\"Loading cleaned data from: {cleaned_file_path}\")\n",
    "\n",
    "# Load the cleaned DataFrame\n",
    "df_cleaned = pd.read_excel(cleaned_file_path)\n",
    "\n",
    "print(f\"Cleaned data loaded. Shape: {df_cleaned.shape}\")\n",
    "print(\"First 5 rows of cleaned data (with correct TotalPrice):\")\n",
    "display(df_cleaned.head())"
   ]
  },
  {
   "cell_type": "markdown",
   "id": "2aa2fa66",
   "metadata": {},
   "source": [
    "## Determine Snapshot Date for RFM Analysis"
   ]
  },
  {
   "cell_type": "code",
   "execution_count": 27,
   "id": "69bdac1e",
   "metadata": {},
   "outputs": [
    {
     "name": "stdout",
     "output_type": "stream",
     "text": [
      "The latest invoice date in the dataset is: 2011-12-09 12:50:00\n",
      "The RFM analysis snapshot date is: 2011-12-10 12:50:00\n"
     ]
    }
   ],
   "source": [
    "# Cell 3: Determine Snapshot Date for RFM Analysis\n",
    "# To calculate Recency, we need a \"snapshot date\" or \"analysis date\".\n",
    "# This is typically one day after the last transaction date in the dataset.\n",
    "snapshot_date = df_cleaned['InvoiceDate'].max() + dt.timedelta(days=1)\n",
    "\n",
    "print(f\"The latest invoice date in the dataset is: {df_cleaned['InvoiceDate'].max()}\")\n",
    "print(f\"The RFM analysis snapshot date is: {snapshot_date}\")"
   ]
  },
  {
   "cell_type": "markdown",
   "id": "cd045cc1",
   "metadata": {},
   "source": [
    "## Calculate Recency"
   ]
  },
  {
   "cell_type": "code",
   "execution_count": 28,
   "id": "f94c86dd",
   "metadata": {},
   "outputs": [
    {
     "name": "stdout",
     "output_type": "stream",
     "text": [
      "Recency calculation complete. First 5 rows:\n"
     ]
    },
    {
     "data": {
      "text/html": [
       "<div>\n",
       "<style scoped>\n",
       "    .dataframe tbody tr th:only-of-type {\n",
       "        vertical-align: middle;\n",
       "    }\n",
       "\n",
       "    .dataframe tbody tr th {\n",
       "        vertical-align: top;\n",
       "    }\n",
       "\n",
       "    .dataframe thead th {\n",
       "        text-align: right;\n",
       "    }\n",
       "</style>\n",
       "<table border=\"1\" class=\"dataframe\">\n",
       "  <thead>\n",
       "    <tr style=\"text-align: right;\">\n",
       "      <th></th>\n",
       "      <th>Customer ID</th>\n",
       "      <th>LastPurchaseDate</th>\n",
       "      <th>Recency</th>\n",
       "    </tr>\n",
       "  </thead>\n",
       "  <tbody>\n",
       "    <tr>\n",
       "      <th>0</th>\n",
       "      <td>12346.0</td>\n",
       "      <td>2011-01-18 10:01:00</td>\n",
       "      <td>326</td>\n",
       "    </tr>\n",
       "    <tr>\n",
       "      <th>1</th>\n",
       "      <td>12347.0</td>\n",
       "      <td>2011-12-07 15:52:00</td>\n",
       "      <td>2</td>\n",
       "    </tr>\n",
       "    <tr>\n",
       "      <th>2</th>\n",
       "      <td>12348.0</td>\n",
       "      <td>2011-09-25 13:13:00</td>\n",
       "      <td>75</td>\n",
       "    </tr>\n",
       "    <tr>\n",
       "      <th>3</th>\n",
       "      <td>12349.0</td>\n",
       "      <td>2011-11-21 09:51:00</td>\n",
       "      <td>19</td>\n",
       "    </tr>\n",
       "    <tr>\n",
       "      <th>4</th>\n",
       "      <td>12350.0</td>\n",
       "      <td>2011-02-02 16:01:00</td>\n",
       "      <td>310</td>\n",
       "    </tr>\n",
       "  </tbody>\n",
       "</table>\n",
       "</div>"
      ],
      "text/plain": [
       "   Customer ID    LastPurchaseDate  Recency\n",
       "0      12346.0 2011-01-18 10:01:00      326\n",
       "1      12347.0 2011-12-07 15:52:00        2\n",
       "2      12348.0 2011-09-25 13:13:00       75\n",
       "3      12349.0 2011-11-21 09:51:00       19\n",
       "4      12350.0 2011-02-02 16:01:00      310"
      ]
     },
     "metadata": {},
     "output_type": "display_data"
    }
   ],
   "source": [
    "# Calculate Recency\n",
    "# Recency is calculated as the number of days between the snapshot date and the customer's last purchase date.\n",
    "# A smaller Recency value indicates a more recently active customer.\n",
    "\n",
    "# Group by CustomerID and find the maximum InvoiceDate for each customer (last purchase date)\n",
    "recency_df = df_cleaned.groupby('Customer ID')['InvoiceDate'].max().reset_index()\n",
    "recency_df.columns = ['Customer ID', 'LastPurchaseDate']\n",
    "\n",
    "# Calculate Recency in days\n",
    "recency_df['Recency'] = (snapshot_date - recency_df['LastPurchaseDate']).dt.days\n",
    "\n",
    "print(\"Recency calculation complete. First 5 rows:\")\n",
    "display(recency_df.head())"
   ]
  },
  {
   "cell_type": "code",
   "execution_count": 29,
   "id": "38c487f7",
   "metadata": {},
   "outputs": [
    {
     "data": {
      "text/plain": [
       "np.int64(739)"
      ]
     },
     "execution_count": 29,
     "metadata": {},
     "output_type": "execute_result"
    }
   ],
   "source": [
    "recency_df['Recency'].max()"
   ]
  },
  {
   "cell_type": "code",
   "execution_count": 30,
   "id": "789b4558",
   "metadata": {},
   "outputs": [
    {
     "data": {
      "text/plain": [
       "np.int64(1)"
      ]
     },
     "execution_count": 30,
     "metadata": {},
     "output_type": "execute_result"
    }
   ],
   "source": [
    "recency_df['Recency'].min()"
   ]
  },
  {
   "cell_type": "code",
   "execution_count": 31,
   "id": "25166f14",
   "metadata": {},
   "outputs": [
    {
     "data": {
      "text/plain": [
       "np.float64(201.331915617557)"
      ]
     },
     "execution_count": 31,
     "metadata": {},
     "output_type": "execute_result"
    }
   ],
   "source": [
    "recency_df['Recency'].mean()"
   ]
  },
  {
   "cell_type": "code",
   "execution_count": 32,
   "id": "d0b11f52",
   "metadata": {},
   "outputs": [
    {
     "data": {
      "text/plain": [
       "(5878, 3)"
      ]
     },
     "execution_count": 32,
     "metadata": {},
     "output_type": "execute_result"
    }
   ],
   "source": [
    "recency_df.shape"
   ]
  },
  {
   "cell_type": "markdown",
   "id": "927668ef",
   "metadata": {},
   "source": [
    "## Calculate Frequency"
   ]
  },
  {
   "cell_type": "code",
   "execution_count": 33,
   "id": "88efc5c1",
   "metadata": {},
   "outputs": [
    {
     "name": "stdout",
     "output_type": "stream",
     "text": [
      "Frequency calculation complete. First 5 rows:\n"
     ]
    },
    {
     "data": {
      "text/html": [
       "<div>\n",
       "<style scoped>\n",
       "    .dataframe tbody tr th:only-of-type {\n",
       "        vertical-align: middle;\n",
       "    }\n",
       "\n",
       "    .dataframe tbody tr th {\n",
       "        vertical-align: top;\n",
       "    }\n",
       "\n",
       "    .dataframe thead th {\n",
       "        text-align: right;\n",
       "    }\n",
       "</style>\n",
       "<table border=\"1\" class=\"dataframe\">\n",
       "  <thead>\n",
       "    <tr style=\"text-align: right;\">\n",
       "      <th></th>\n",
       "      <th>Customer ID</th>\n",
       "      <th>Frequency</th>\n",
       "    </tr>\n",
       "  </thead>\n",
       "  <tbody>\n",
       "    <tr>\n",
       "      <th>0</th>\n",
       "      <td>12346.0</td>\n",
       "      <td>12</td>\n",
       "    </tr>\n",
       "    <tr>\n",
       "      <th>1</th>\n",
       "      <td>12347.0</td>\n",
       "      <td>8</td>\n",
       "    </tr>\n",
       "    <tr>\n",
       "      <th>2</th>\n",
       "      <td>12348.0</td>\n",
       "      <td>5</td>\n",
       "    </tr>\n",
       "    <tr>\n",
       "      <th>3</th>\n",
       "      <td>12349.0</td>\n",
       "      <td>4</td>\n",
       "    </tr>\n",
       "    <tr>\n",
       "      <th>4</th>\n",
       "      <td>12350.0</td>\n",
       "      <td>1</td>\n",
       "    </tr>\n",
       "  </tbody>\n",
       "</table>\n",
       "</div>"
      ],
      "text/plain": [
       "   Customer ID  Frequency\n",
       "0      12346.0         12\n",
       "1      12347.0          8\n",
       "2      12348.0          5\n",
       "3      12349.0          4\n",
       "4      12350.0          1"
      ]
     },
     "metadata": {},
     "output_type": "display_data"
    }
   ],
   "source": [
    "# Calculate Frequency\n",
    "# Frequency is the number of unique purchase instances (invoices) for each customer.\n",
    "# A higher Frequency indicates a more frequent buyer.\n",
    "# We count unique Invoice numbers for each customer.\n",
    "\n",
    "frequency_df = df_cleaned.groupby('Customer ID')['Invoice'].nunique().reset_index() # Corrected to InvoiceNo\n",
    "frequency_df.columns = ['Customer ID', 'Frequency']\n",
    "\n",
    "print(\"Frequency calculation complete. First 5 rows:\")\n",
    "display(frequency_df.head())"
   ]
  },
  {
   "cell_type": "code",
   "execution_count": 34,
   "id": "524db629",
   "metadata": {},
   "outputs": [
    {
     "data": {
      "text/plain": [
       "np.int64(1)"
      ]
     },
     "execution_count": 34,
     "metadata": {},
     "output_type": "execute_result"
    }
   ],
   "source": [
    "frequency_df['Frequency'].min()"
   ]
  },
  {
   "cell_type": "code",
   "execution_count": 37,
   "id": "e4ae753f",
   "metadata": {},
   "outputs": [
    {
     "data": {
      "text/plain": [
       "np.int64(398)"
      ]
     },
     "execution_count": 37,
     "metadata": {},
     "output_type": "execute_result"
    }
   ],
   "source": [
    "frequency_df['Frequency'].max()"
   ]
  },
  {
   "cell_type": "code",
   "execution_count": 38,
   "id": "43ef5d80",
   "metadata": {},
   "outputs": [
    {
     "data": {
      "text/plain": [
       "np.float64(6.289384144266758)"
      ]
     },
     "execution_count": 38,
     "metadata": {},
     "output_type": "execute_result"
    }
   ],
   "source": [
    "frequency_df['Frequency'].mean()"
   ]
  },
  {
   "cell_type": "code",
   "execution_count": 39,
   "id": "d0d418f5",
   "metadata": {},
   "outputs": [
    {
     "data": {
      "text/plain": [
       "(5878, 2)"
      ]
     },
     "execution_count": 39,
     "metadata": {},
     "output_type": "execute_result"
    }
   ],
   "source": [
    "frequency_df.shape"
   ]
  },
  {
   "cell_type": "markdown",
   "id": "baf50af6",
   "metadata": {},
   "source": [
    "## Calculate Monetary"
   ]
  },
  {
   "cell_type": "code",
   "execution_count": 40,
   "id": "a86a3e28",
   "metadata": {},
   "outputs": [
    {
     "name": "stdout",
     "output_type": "stream",
     "text": [
      "Monetary calculation complete. First 5 rows:\n"
     ]
    },
    {
     "data": {
      "text/html": [
       "<div>\n",
       "<style scoped>\n",
       "    .dataframe tbody tr th:only-of-type {\n",
       "        vertical-align: middle;\n",
       "    }\n",
       "\n",
       "    .dataframe tbody tr th {\n",
       "        vertical-align: top;\n",
       "    }\n",
       "\n",
       "    .dataframe thead th {\n",
       "        text-align: right;\n",
       "    }\n",
       "</style>\n",
       "<table border=\"1\" class=\"dataframe\">\n",
       "  <thead>\n",
       "    <tr style=\"text-align: right;\">\n",
       "      <th></th>\n",
       "      <th>Customer ID</th>\n",
       "      <th>Monetary</th>\n",
       "    </tr>\n",
       "  </thead>\n",
       "  <tbody>\n",
       "    <tr>\n",
       "      <th>0</th>\n",
       "      <td>12346.0</td>\n",
       "      <td>77556.46</td>\n",
       "    </tr>\n",
       "    <tr>\n",
       "      <th>1</th>\n",
       "      <td>12347.0</td>\n",
       "      <td>4921.53</td>\n",
       "    </tr>\n",
       "    <tr>\n",
       "      <th>2</th>\n",
       "      <td>12348.0</td>\n",
       "      <td>2019.40</td>\n",
       "    </tr>\n",
       "    <tr>\n",
       "      <th>3</th>\n",
       "      <td>12349.0</td>\n",
       "      <td>4428.69</td>\n",
       "    </tr>\n",
       "    <tr>\n",
       "      <th>4</th>\n",
       "      <td>12350.0</td>\n",
       "      <td>334.40</td>\n",
       "    </tr>\n",
       "  </tbody>\n",
       "</table>\n",
       "</div>"
      ],
      "text/plain": [
       "   Customer ID  Monetary\n",
       "0      12346.0  77556.46\n",
       "1      12347.0   4921.53\n",
       "2      12348.0   2019.40\n",
       "3      12349.0   4428.69\n",
       "4      12350.0    334.40"
      ]
     },
     "metadata": {},
     "output_type": "display_data"
    }
   ],
   "source": [
    "# Cell 6: Calculate Monetary\n",
    "# Monetary is the total amount of money spent by each customer.\n",
    "# A higher Monetary value indicates a customer who spends more.\n",
    "# We sum the 'TotalPrice' for each customer, which is derived from Quantity * UnitPrice.\n",
    "\n",
    "monetary_df = df_cleaned.groupby('Customer ID')['TotalPrice'].sum().reset_index()\n",
    "monetary_df.columns = ['Customer ID', 'Monetary']\n",
    "\n",
    "print(\"Monetary calculation complete. First 5 rows:\")\n",
    "display(monetary_df.head())"
   ]
  },
  {
   "cell_type": "code",
   "execution_count": 41,
   "id": "f06ef9d1",
   "metadata": {},
   "outputs": [
    {
     "data": {
      "text/plain": [
       "(5878, 2)"
      ]
     },
     "execution_count": 41,
     "metadata": {},
     "output_type": "execute_result"
    }
   ],
   "source": [
    "monetary_df.shape"
   ]
  },
  {
   "cell_type": "code",
   "execution_count": 42,
   "id": "6a93fbee",
   "metadata": {},
   "outputs": [
    {
     "data": {
      "text/plain": [
       "np.float64(580987.04)"
      ]
     },
     "execution_count": 42,
     "metadata": {},
     "output_type": "execute_result"
    }
   ],
   "source": [
    "monetary_df['Monetary'].max()"
   ]
  },
  {
   "cell_type": "code",
   "execution_count": 43,
   "id": "f3c9e193",
   "metadata": {},
   "outputs": [
    {
     "data": {
      "text/plain": [
       "np.float64(2.95)"
      ]
     },
     "execution_count": 43,
     "metadata": {},
     "output_type": "execute_result"
    }
   ],
   "source": [
    "monetary_df['Monetary'].min()"
   ]
  },
  {
   "cell_type": "code",
   "execution_count": 44,
   "id": "210787ec",
   "metadata": {},
   "outputs": [
    {
     "data": {
      "text/plain": [
       "np.float64(2955.9040945899965)"
      ]
     },
     "execution_count": 44,
     "metadata": {},
     "output_type": "execute_result"
    }
   ],
   "source": [
    "monetary_df['Monetary'].mean()"
   ]
  },
  {
   "cell_type": "markdown",
   "id": "8bbba08c",
   "metadata": {},
   "source": [
    "## Calculate Average Order Value (AOV)"
   ]
  },
  {
   "cell_type": "code",
   "execution_count": 47,
   "id": "788a0359",
   "metadata": {},
   "outputs": [
    {
     "name": "stdout",
     "output_type": "stream",
     "text": [
      "Average Order Value (AOV) calculation complete. First 5 rows:\n"
     ]
    },
    {
     "data": {
      "text/html": [
       "<div>\n",
       "<style scoped>\n",
       "    .dataframe tbody tr th:only-of-type {\n",
       "        vertical-align: middle;\n",
       "    }\n",
       "\n",
       "    .dataframe tbody tr th {\n",
       "        vertical-align: top;\n",
       "    }\n",
       "\n",
       "    .dataframe thead th {\n",
       "        text-align: right;\n",
       "    }\n",
       "</style>\n",
       "<table border=\"1\" class=\"dataframe\">\n",
       "  <thead>\n",
       "    <tr style=\"text-align: right;\">\n",
       "      <th></th>\n",
       "      <th>Customer ID</th>\n",
       "      <th>AOV</th>\n",
       "    </tr>\n",
       "  </thead>\n",
       "  <tbody>\n",
       "    <tr>\n",
       "      <th>0</th>\n",
       "      <td>12346.0</td>\n",
       "      <td>6463.038333</td>\n",
       "    </tr>\n",
       "    <tr>\n",
       "      <th>1</th>\n",
       "      <td>12347.0</td>\n",
       "      <td>615.191250</td>\n",
       "    </tr>\n",
       "    <tr>\n",
       "      <th>2</th>\n",
       "      <td>12348.0</td>\n",
       "      <td>403.880000</td>\n",
       "    </tr>\n",
       "    <tr>\n",
       "      <th>3</th>\n",
       "      <td>12349.0</td>\n",
       "      <td>1107.172500</td>\n",
       "    </tr>\n",
       "    <tr>\n",
       "      <th>4</th>\n",
       "      <td>12350.0</td>\n",
       "      <td>334.400000</td>\n",
       "    </tr>\n",
       "  </tbody>\n",
       "</table>\n",
       "</div>"
      ],
      "text/plain": [
       "   Customer ID          AOV\n",
       "0      12346.0  6463.038333\n",
       "1      12347.0   615.191250\n",
       "2      12348.0   403.880000\n",
       "3      12349.0  1107.172500\n",
       "4      12350.0   334.400000"
      ]
     },
     "metadata": {},
     "output_type": "display_data"
    }
   ],
   "source": [
    "#  Calculate Average Order Value (AOV)\n",
    "import numpy as np\n",
    "# AOV = Total Monetary / Total Frequency (Number of Invoices)\n",
    "# We can use the already calculated Monetary and Frequency\n",
    "aov_df = pd.merge(monetary_df, frequency_df, on='Customer ID', how='left')\n",
    "aov_df['AOV'] = aov_df['Monetary'] / aov_df['Frequency']\n",
    "\n",
    "# Handle potential division by zero if Frequency is 0 (though it shouldn't be with unique InvoiceNo)\n",
    "aov_df['AOV'] = aov_df['AOV'].replace([np.inf, -np.inf], np.nan).fillna(0) # Replace inf with nan, then nan with 0\n",
    "\n",
    "aov_df = aov_df[['Customer ID', 'AOV']] # Keep only CustomerID and AOV\n",
    "\n",
    "print(\"Average Order Value (AOV) calculation complete. First 5 rows:\")\n",
    "display(aov_df.head())"
   ]
  },
  {
   "cell_type": "markdown",
   "id": "aa2743fe",
   "metadata": {},
   "source": [
    "## Number of Unique Products"
   ]
  },
  {
   "cell_type": "code",
   "execution_count": 48,
   "id": "b3fe6b12",
   "metadata": {},
   "outputs": [
    {
     "name": "stdout",
     "output_type": "stream",
     "text": [
      "Unique Products purchased calculation complete. First 5 rows:\n"
     ]
    },
    {
     "data": {
      "text/html": [
       "<div>\n",
       "<style scoped>\n",
       "    .dataframe tbody tr th:only-of-type {\n",
       "        vertical-align: middle;\n",
       "    }\n",
       "\n",
       "    .dataframe tbody tr th {\n",
       "        vertical-align: top;\n",
       "    }\n",
       "\n",
       "    .dataframe thead th {\n",
       "        text-align: right;\n",
       "    }\n",
       "</style>\n",
       "<table border=\"1\" class=\"dataframe\">\n",
       "  <thead>\n",
       "    <tr style=\"text-align: right;\">\n",
       "      <th></th>\n",
       "      <th>Customer ID</th>\n",
       "      <th>UniqueProducts</th>\n",
       "    </tr>\n",
       "  </thead>\n",
       "  <tbody>\n",
       "    <tr>\n",
       "      <th>0</th>\n",
       "      <td>12346.0</td>\n",
       "      <td>27</td>\n",
       "    </tr>\n",
       "    <tr>\n",
       "      <th>1</th>\n",
       "      <td>12347.0</td>\n",
       "      <td>126</td>\n",
       "    </tr>\n",
       "    <tr>\n",
       "      <th>2</th>\n",
       "      <td>12348.0</td>\n",
       "      <td>25</td>\n",
       "    </tr>\n",
       "    <tr>\n",
       "      <th>3</th>\n",
       "      <td>12349.0</td>\n",
       "      <td>138</td>\n",
       "    </tr>\n",
       "    <tr>\n",
       "      <th>4</th>\n",
       "      <td>12350.0</td>\n",
       "      <td>17</td>\n",
       "    </tr>\n",
       "  </tbody>\n",
       "</table>\n",
       "</div>"
      ],
      "text/plain": [
       "   Customer ID  UniqueProducts\n",
       "0      12346.0              27\n",
       "1      12347.0             126\n",
       "2      12348.0              25\n",
       "3      12349.0             138\n",
       "4      12350.0              17"
      ]
     },
     "metadata": {},
     "output_type": "display_data"
    }
   ],
   "source": [
    "# Calculate Number of Unique Products\n",
    "# Number of distinct StockCodes purchased by each customer.\n",
    "unique_products_df = df_cleaned.groupby('Customer ID')['StockCode'].nunique().reset_index()\n",
    "unique_products_df.columns = ['Customer ID', 'UniqueProducts']\n",
    "\n",
    "print(\"Unique Products purchased calculation complete. First 5 rows:\")\n",
    "display(unique_products_df.head())"
   ]
  },
  {
   "cell_type": "markdown",
   "id": "7aaae8f5",
   "metadata": {},
   "source": [
    "## Calculate Customer Tenure"
   ]
  },
  {
   "cell_type": "code",
   "execution_count": 49,
   "id": "0ed48277",
   "metadata": {},
   "outputs": [
    {
     "name": "stdout",
     "output_type": "stream",
     "text": [
      "Customer Tenure calculation complete. First 5 rows:\n"
     ]
    },
    {
     "data": {
      "text/html": [
       "<div>\n",
       "<style scoped>\n",
       "    .dataframe tbody tr th:only-of-type {\n",
       "        vertical-align: middle;\n",
       "    }\n",
       "\n",
       "    .dataframe tbody tr th {\n",
       "        vertical-align: top;\n",
       "    }\n",
       "\n",
       "    .dataframe thead th {\n",
       "        text-align: right;\n",
       "    }\n",
       "</style>\n",
       "<table border=\"1\" class=\"dataframe\">\n",
       "  <thead>\n",
       "    <tr style=\"text-align: right;\">\n",
       "      <th></th>\n",
       "      <th>Customer ID</th>\n",
       "      <th>Tenure</th>\n",
       "    </tr>\n",
       "  </thead>\n",
       "  <tbody>\n",
       "    <tr>\n",
       "      <th>0</th>\n",
       "      <td>12346.0</td>\n",
       "      <td>726</td>\n",
       "    </tr>\n",
       "    <tr>\n",
       "      <th>1</th>\n",
       "      <td>12347.0</td>\n",
       "      <td>404</td>\n",
       "    </tr>\n",
       "    <tr>\n",
       "      <th>2</th>\n",
       "      <td>12348.0</td>\n",
       "      <td>438</td>\n",
       "    </tr>\n",
       "    <tr>\n",
       "      <th>3</th>\n",
       "      <td>12349.0</td>\n",
       "      <td>589</td>\n",
       "    </tr>\n",
       "    <tr>\n",
       "      <th>4</th>\n",
       "      <td>12350.0</td>\n",
       "      <td>310</td>\n",
       "    </tr>\n",
       "  </tbody>\n",
       "</table>\n",
       "</div>"
      ],
      "text/plain": [
       "   Customer ID  Tenure\n",
       "0      12346.0     726\n",
       "1      12347.0     404\n",
       "2      12348.0     438\n",
       "3      12349.0     589\n",
       "4      12350.0     310"
      ]
     },
     "metadata": {},
     "output_type": "display_data"
    }
   ],
   "source": [
    "# Calculate Customer Tenure\n",
    "# Tenure is the number of days between the snapshot date and the customer's *first* purchase date.\n",
    "# A longer tenure suggests a more established customer.\n",
    "\n",
    "first_purchase_df = df_cleaned.groupby('Customer ID')['InvoiceDate'].min().reset_index()\n",
    "first_purchase_df.columns = ['Customer ID', 'FirstPurchaseDate']\n",
    "\n",
    "first_purchase_df['Tenure'] = (snapshot_date - first_purchase_df['FirstPurchaseDate']).dt.days\n",
    "\n",
    "first_purchase_df = first_purchase_df[['Customer ID', 'Tenure']]\n",
    "\n",
    "print(\"Customer Tenure calculation complete. First 5 rows:\")\n",
    "display(first_purchase_df.head())"
   ]
  },
  {
   "cell_type": "markdown",
   "id": "fe30b4a8",
   "metadata": {},
   "source": [
    "## Process Country Feature (One-Hot Encoding)"
   ]
  },
  {
   "cell_type": "code",
   "execution_count": 51,
   "id": "2d6ef2f8",
   "metadata": {},
   "outputs": [
    {
     "name": "stdout",
     "output_type": "stream",
     "text": [
      "Country One-Hot Encoding complete. First 5 rows (sample of columns):\n"
     ]
    },
    {
     "data": {
      "text/html": [
       "<div>\n",
       "<style scoped>\n",
       "    .dataframe tbody tr th:only-of-type {\n",
       "        vertical-align: middle;\n",
       "    }\n",
       "\n",
       "    .dataframe tbody tr th {\n",
       "        vertical-align: top;\n",
       "    }\n",
       "\n",
       "    .dataframe thead th {\n",
       "        text-align: right;\n",
       "    }\n",
       "</style>\n",
       "<table border=\"1\" class=\"dataframe\">\n",
       "  <thead>\n",
       "    <tr style=\"text-align: right;\">\n",
       "      <th></th>\n",
       "      <th>Country_Australia</th>\n",
       "      <th>Country_Austria</th>\n",
       "      <th>Country_Bahrain</th>\n",
       "      <th>Country_Belgium</th>\n",
       "      <th>Country_Brazil</th>\n",
       "      <th>Country_Canada</th>\n",
       "      <th>Country_Channel Islands</th>\n",
       "      <th>Country_Cyprus</th>\n",
       "      <th>Country_Czech Republic</th>\n",
       "      <th>Country_Denmark</th>\n",
       "      <th>...</th>\n",
       "      <th>Country_Spain</th>\n",
       "      <th>Country_Sweden</th>\n",
       "      <th>Country_Switzerland</th>\n",
       "      <th>Country_Thailand</th>\n",
       "      <th>Country_USA</th>\n",
       "      <th>Country_United Arab Emirates</th>\n",
       "      <th>Country_United Kingdom</th>\n",
       "      <th>Country_Unspecified</th>\n",
       "      <th>Country_West Indies</th>\n",
       "      <th>Customer ID</th>\n",
       "    </tr>\n",
       "  </thead>\n",
       "  <tbody>\n",
       "    <tr>\n",
       "      <th>0</th>\n",
       "      <td>0.0</td>\n",
       "      <td>0.0</td>\n",
       "      <td>0.0</td>\n",
       "      <td>0.0</td>\n",
       "      <td>0.0</td>\n",
       "      <td>0.0</td>\n",
       "      <td>0.0</td>\n",
       "      <td>0.0</td>\n",
       "      <td>0.0</td>\n",
       "      <td>0.0</td>\n",
       "      <td>...</td>\n",
       "      <td>0.0</td>\n",
       "      <td>0.0</td>\n",
       "      <td>0.0</td>\n",
       "      <td>0.0</td>\n",
       "      <td>0.0</td>\n",
       "      <td>0.0</td>\n",
       "      <td>1.0</td>\n",
       "      <td>0.0</td>\n",
       "      <td>0.0</td>\n",
       "      <td>12346.0</td>\n",
       "    </tr>\n",
       "    <tr>\n",
       "      <th>1</th>\n",
       "      <td>0.0</td>\n",
       "      <td>0.0</td>\n",
       "      <td>0.0</td>\n",
       "      <td>0.0</td>\n",
       "      <td>0.0</td>\n",
       "      <td>0.0</td>\n",
       "      <td>0.0</td>\n",
       "      <td>0.0</td>\n",
       "      <td>0.0</td>\n",
       "      <td>0.0</td>\n",
       "      <td>...</td>\n",
       "      <td>0.0</td>\n",
       "      <td>0.0</td>\n",
       "      <td>0.0</td>\n",
       "      <td>0.0</td>\n",
       "      <td>0.0</td>\n",
       "      <td>0.0</td>\n",
       "      <td>0.0</td>\n",
       "      <td>0.0</td>\n",
       "      <td>0.0</td>\n",
       "      <td>12347.0</td>\n",
       "    </tr>\n",
       "    <tr>\n",
       "      <th>2</th>\n",
       "      <td>0.0</td>\n",
       "      <td>0.0</td>\n",
       "      <td>0.0</td>\n",
       "      <td>0.0</td>\n",
       "      <td>0.0</td>\n",
       "      <td>0.0</td>\n",
       "      <td>0.0</td>\n",
       "      <td>0.0</td>\n",
       "      <td>0.0</td>\n",
       "      <td>0.0</td>\n",
       "      <td>...</td>\n",
       "      <td>0.0</td>\n",
       "      <td>0.0</td>\n",
       "      <td>0.0</td>\n",
       "      <td>0.0</td>\n",
       "      <td>0.0</td>\n",
       "      <td>0.0</td>\n",
       "      <td>0.0</td>\n",
       "      <td>0.0</td>\n",
       "      <td>0.0</td>\n",
       "      <td>12348.0</td>\n",
       "    </tr>\n",
       "    <tr>\n",
       "      <th>3</th>\n",
       "      <td>0.0</td>\n",
       "      <td>0.0</td>\n",
       "      <td>0.0</td>\n",
       "      <td>0.0</td>\n",
       "      <td>0.0</td>\n",
       "      <td>0.0</td>\n",
       "      <td>0.0</td>\n",
       "      <td>0.0</td>\n",
       "      <td>0.0</td>\n",
       "      <td>0.0</td>\n",
       "      <td>...</td>\n",
       "      <td>0.0</td>\n",
       "      <td>0.0</td>\n",
       "      <td>0.0</td>\n",
       "      <td>0.0</td>\n",
       "      <td>0.0</td>\n",
       "      <td>0.0</td>\n",
       "      <td>0.0</td>\n",
       "      <td>0.0</td>\n",
       "      <td>0.0</td>\n",
       "      <td>12349.0</td>\n",
       "    </tr>\n",
       "    <tr>\n",
       "      <th>4</th>\n",
       "      <td>0.0</td>\n",
       "      <td>0.0</td>\n",
       "      <td>0.0</td>\n",
       "      <td>0.0</td>\n",
       "      <td>0.0</td>\n",
       "      <td>0.0</td>\n",
       "      <td>0.0</td>\n",
       "      <td>0.0</td>\n",
       "      <td>0.0</td>\n",
       "      <td>0.0</td>\n",
       "      <td>...</td>\n",
       "      <td>0.0</td>\n",
       "      <td>0.0</td>\n",
       "      <td>0.0</td>\n",
       "      <td>0.0</td>\n",
       "      <td>0.0</td>\n",
       "      <td>0.0</td>\n",
       "      <td>0.0</td>\n",
       "      <td>0.0</td>\n",
       "      <td>0.0</td>\n",
       "      <td>12350.0</td>\n",
       "    </tr>\n",
       "  </tbody>\n",
       "</table>\n",
       "<p>5 rows × 42 columns</p>\n",
       "</div>"
      ],
      "text/plain": [
       "   Country_Australia  Country_Austria  Country_Bahrain  Country_Belgium  \\\n",
       "0                0.0              0.0              0.0              0.0   \n",
       "1                0.0              0.0              0.0              0.0   \n",
       "2                0.0              0.0              0.0              0.0   \n",
       "3                0.0              0.0              0.0              0.0   \n",
       "4                0.0              0.0              0.0              0.0   \n",
       "\n",
       "   Country_Brazil  Country_Canada  Country_Channel Islands  Country_Cyprus  \\\n",
       "0             0.0             0.0                      0.0             0.0   \n",
       "1             0.0             0.0                      0.0             0.0   \n",
       "2             0.0             0.0                      0.0             0.0   \n",
       "3             0.0             0.0                      0.0             0.0   \n",
       "4             0.0             0.0                      0.0             0.0   \n",
       "\n",
       "   Country_Czech Republic  Country_Denmark  ...  Country_Spain  \\\n",
       "0                     0.0              0.0  ...            0.0   \n",
       "1                     0.0              0.0  ...            0.0   \n",
       "2                     0.0              0.0  ...            0.0   \n",
       "3                     0.0              0.0  ...            0.0   \n",
       "4                     0.0              0.0  ...            0.0   \n",
       "\n",
       "   Country_Sweden  Country_Switzerland  Country_Thailand  Country_USA  \\\n",
       "0             0.0                  0.0               0.0          0.0   \n",
       "1             0.0                  0.0               0.0          0.0   \n",
       "2             0.0                  0.0               0.0          0.0   \n",
       "3             0.0                  0.0               0.0          0.0   \n",
       "4             0.0                  0.0               0.0          0.0   \n",
       "\n",
       "   Country_United Arab Emirates  Country_United Kingdom  Country_Unspecified  \\\n",
       "0                           0.0                     1.0                  0.0   \n",
       "1                           0.0                     0.0                  0.0   \n",
       "2                           0.0                     0.0                  0.0   \n",
       "3                           0.0                     0.0                  0.0   \n",
       "4                           0.0                     0.0                  0.0   \n",
       "\n",
       "   Country_West Indies  Customer ID  \n",
       "0                  0.0      12346.0  \n",
       "1                  0.0      12347.0  \n",
       "2                  0.0      12348.0  \n",
       "3                  0.0      12349.0  \n",
       "4                  0.0      12350.0  \n",
       "\n",
       "[5 rows x 42 columns]"
      ]
     },
     "metadata": {},
     "output_type": "display_data"
    },
    {
     "name": "stdout",
     "output_type": "stream",
     "text": [
      "Total number of country columns created: 41\n"
     ]
    }
   ],
   "source": [
    "# Process Country Feature (One-Hot Encoding)\n",
    "# We need to get unique countries per customer and then one-hot encode them.\n",
    "# A customer might only have purchases from one country.\n",
    "\n",
    "# Get the country for each customer (assuming a customer predominantly buys from one country)\n",
    "# If a customer bought from multiple countries, this will pick the country of their last transaction.\n",
    "# For simplicity, let's assume each customer has a primary country associated with their transactions.\n",
    "# A more robust approach might be to associate the most frequent country or create flags for multi-country buyers.\n",
    "# For now, let's take the country from their last transaction as their \"primary\" country.\n",
    "from sklearn.preprocessing import OneHotEncoder # This is the crucial line\n",
    "customer_country_df = df_cleaned.groupby('Customer ID')['Country'].last().reset_index()\n",
    "\n",
    "# Perform One-Hot Encoding on the 'Country' column\n",
    "# Drop the original 'Country' column after encoding\n",
    "encoder = OneHotEncoder(handle_unknown='ignore', sparse_output=False)\n",
    "encoded_countries = encoder.fit_transform(customer_country_df[['Country']])\n",
    "\n",
    "# Create a DataFrame from the encoded features\n",
    "country_names = encoder.get_feature_names_out(['Country'])\n",
    "country_encoded_df = pd.DataFrame(encoded_countries, columns=country_names, index=customer_country_df.index)\n",
    "\n",
    "# Add CustomerID back to the encoded DataFrame\n",
    "country_encoded_df['Customer ID'] = customer_country_df['Customer ID']\n",
    "\n",
    "print(\"Country One-Hot Encoding complete. First 5 rows (sample of columns):\")\n",
    "display(country_encoded_df.head())\n",
    "print(f\"Total number of country columns created: {len(country_names)}\")"
   ]
  },
  {
   "cell_type": "markdown",
   "id": "03bad978",
   "metadata": {},
   "source": [
    "## Combine RFM Features"
   ]
  },
  {
   "cell_type": "code",
   "execution_count": 52,
   "id": "6fbb81c9",
   "metadata": {},
   "outputs": [
    {
     "name": "stdout",
     "output_type": "stream",
     "text": [
      "All features combined into RFM DataFrame:\n"
     ]
    },
    {
     "data": {
      "text/html": [
       "<div>\n",
       "<style scoped>\n",
       "    .dataframe tbody tr th:only-of-type {\n",
       "        vertical-align: middle;\n",
       "    }\n",
       "\n",
       "    .dataframe tbody tr th {\n",
       "        vertical-align: top;\n",
       "    }\n",
       "\n",
       "    .dataframe thead th {\n",
       "        text-align: right;\n",
       "    }\n",
       "</style>\n",
       "<table border=\"1\" class=\"dataframe\">\n",
       "  <thead>\n",
       "    <tr style=\"text-align: right;\">\n",
       "      <th></th>\n",
       "      <th>Customer ID</th>\n",
       "      <th>Recency</th>\n",
       "      <th>Frequency</th>\n",
       "      <th>Monetary</th>\n",
       "      <th>AOV</th>\n",
       "      <th>Tenure</th>\n",
       "      <th>UniqueProducts</th>\n",
       "      <th>Country_Australia</th>\n",
       "      <th>Country_Austria</th>\n",
       "      <th>Country_Bahrain</th>\n",
       "      <th>...</th>\n",
       "      <th>Country_Singapore</th>\n",
       "      <th>Country_Spain</th>\n",
       "      <th>Country_Sweden</th>\n",
       "      <th>Country_Switzerland</th>\n",
       "      <th>Country_Thailand</th>\n",
       "      <th>Country_USA</th>\n",
       "      <th>Country_United Arab Emirates</th>\n",
       "      <th>Country_United Kingdom</th>\n",
       "      <th>Country_Unspecified</th>\n",
       "      <th>Country_West Indies</th>\n",
       "    </tr>\n",
       "  </thead>\n",
       "  <tbody>\n",
       "    <tr>\n",
       "      <th>0</th>\n",
       "      <td>12346.0</td>\n",
       "      <td>326</td>\n",
       "      <td>12</td>\n",
       "      <td>77556.46</td>\n",
       "      <td>6463.038333</td>\n",
       "      <td>726</td>\n",
       "      <td>27</td>\n",
       "      <td>0.0</td>\n",
       "      <td>0.0</td>\n",
       "      <td>0.0</td>\n",
       "      <td>...</td>\n",
       "      <td>0.0</td>\n",
       "      <td>0.0</td>\n",
       "      <td>0.0</td>\n",
       "      <td>0.0</td>\n",
       "      <td>0.0</td>\n",
       "      <td>0.0</td>\n",
       "      <td>0.0</td>\n",
       "      <td>1.0</td>\n",
       "      <td>0.0</td>\n",
       "      <td>0.0</td>\n",
       "    </tr>\n",
       "    <tr>\n",
       "      <th>1</th>\n",
       "      <td>12347.0</td>\n",
       "      <td>2</td>\n",
       "      <td>8</td>\n",
       "      <td>4921.53</td>\n",
       "      <td>615.191250</td>\n",
       "      <td>404</td>\n",
       "      <td>126</td>\n",
       "      <td>0.0</td>\n",
       "      <td>0.0</td>\n",
       "      <td>0.0</td>\n",
       "      <td>...</td>\n",
       "      <td>0.0</td>\n",
       "      <td>0.0</td>\n",
       "      <td>0.0</td>\n",
       "      <td>0.0</td>\n",
       "      <td>0.0</td>\n",
       "      <td>0.0</td>\n",
       "      <td>0.0</td>\n",
       "      <td>0.0</td>\n",
       "      <td>0.0</td>\n",
       "      <td>0.0</td>\n",
       "    </tr>\n",
       "    <tr>\n",
       "      <th>2</th>\n",
       "      <td>12348.0</td>\n",
       "      <td>75</td>\n",
       "      <td>5</td>\n",
       "      <td>2019.40</td>\n",
       "      <td>403.880000</td>\n",
       "      <td>438</td>\n",
       "      <td>25</td>\n",
       "      <td>0.0</td>\n",
       "      <td>0.0</td>\n",
       "      <td>0.0</td>\n",
       "      <td>...</td>\n",
       "      <td>0.0</td>\n",
       "      <td>0.0</td>\n",
       "      <td>0.0</td>\n",
       "      <td>0.0</td>\n",
       "      <td>0.0</td>\n",
       "      <td>0.0</td>\n",
       "      <td>0.0</td>\n",
       "      <td>0.0</td>\n",
       "      <td>0.0</td>\n",
       "      <td>0.0</td>\n",
       "    </tr>\n",
       "    <tr>\n",
       "      <th>3</th>\n",
       "      <td>12349.0</td>\n",
       "      <td>19</td>\n",
       "      <td>4</td>\n",
       "      <td>4428.69</td>\n",
       "      <td>1107.172500</td>\n",
       "      <td>589</td>\n",
       "      <td>138</td>\n",
       "      <td>0.0</td>\n",
       "      <td>0.0</td>\n",
       "      <td>0.0</td>\n",
       "      <td>...</td>\n",
       "      <td>0.0</td>\n",
       "      <td>0.0</td>\n",
       "      <td>0.0</td>\n",
       "      <td>0.0</td>\n",
       "      <td>0.0</td>\n",
       "      <td>0.0</td>\n",
       "      <td>0.0</td>\n",
       "      <td>0.0</td>\n",
       "      <td>0.0</td>\n",
       "      <td>0.0</td>\n",
       "    </tr>\n",
       "    <tr>\n",
       "      <th>4</th>\n",
       "      <td>12350.0</td>\n",
       "      <td>310</td>\n",
       "      <td>1</td>\n",
       "      <td>334.40</td>\n",
       "      <td>334.400000</td>\n",
       "      <td>310</td>\n",
       "      <td>17</td>\n",
       "      <td>0.0</td>\n",
       "      <td>0.0</td>\n",
       "      <td>0.0</td>\n",
       "      <td>...</td>\n",
       "      <td>0.0</td>\n",
       "      <td>0.0</td>\n",
       "      <td>0.0</td>\n",
       "      <td>0.0</td>\n",
       "      <td>0.0</td>\n",
       "      <td>0.0</td>\n",
       "      <td>0.0</td>\n",
       "      <td>0.0</td>\n",
       "      <td>0.0</td>\n",
       "      <td>0.0</td>\n",
       "    </tr>\n",
       "  </tbody>\n",
       "</table>\n",
       "<p>5 rows × 48 columns</p>\n",
       "</div>"
      ],
      "text/plain": [
       "   Customer ID  Recency  Frequency  Monetary          AOV  Tenure  \\\n",
       "0      12346.0      326         12  77556.46  6463.038333     726   \n",
       "1      12347.0        2          8   4921.53   615.191250     404   \n",
       "2      12348.0       75          5   2019.40   403.880000     438   \n",
       "3      12349.0       19          4   4428.69  1107.172500     589   \n",
       "4      12350.0      310          1    334.40   334.400000     310   \n",
       "\n",
       "   UniqueProducts  Country_Australia  Country_Austria  Country_Bahrain  ...  \\\n",
       "0              27                0.0              0.0              0.0  ...   \n",
       "1             126                0.0              0.0              0.0  ...   \n",
       "2              25                0.0              0.0              0.0  ...   \n",
       "3             138                0.0              0.0              0.0  ...   \n",
       "4              17                0.0              0.0              0.0  ...   \n",
       "\n",
       "   Country_Singapore  Country_Spain  Country_Sweden  Country_Switzerland  \\\n",
       "0                0.0            0.0             0.0                  0.0   \n",
       "1                0.0            0.0             0.0                  0.0   \n",
       "2                0.0            0.0             0.0                  0.0   \n",
       "3                0.0            0.0             0.0                  0.0   \n",
       "4                0.0            0.0             0.0                  0.0   \n",
       "\n",
       "   Country_Thailand  Country_USA  Country_United Arab Emirates  \\\n",
       "0               0.0          0.0                           0.0   \n",
       "1               0.0          0.0                           0.0   \n",
       "2               0.0          0.0                           0.0   \n",
       "3               0.0          0.0                           0.0   \n",
       "4               0.0          0.0                           0.0   \n",
       "\n",
       "   Country_United Kingdom  Country_Unspecified  Country_West Indies  \n",
       "0                     1.0                  0.0                  0.0  \n",
       "1                     0.0                  0.0                  0.0  \n",
       "2                     0.0                  0.0                  0.0  \n",
       "3                     0.0                  0.0                  0.0  \n",
       "4                     0.0                  0.0                  0.0  \n",
       "\n",
       "[5 rows x 48 columns]"
      ]
     },
     "metadata": {},
     "output_type": "display_data"
    },
    {
     "name": "stdout",
     "output_type": "stream",
     "text": [
      "Shape of RFM DataFrame with new features: (5878, 48)\n",
      "RFM DataFrame Info (showing new columns):\n",
      "<class 'pandas.core.frame.DataFrame'>\n",
      "RangeIndex: 5878 entries, 0 to 5877\n",
      "Data columns (total 48 columns):\n",
      " #   Column                        Non-Null Count  Dtype  \n",
      "---  ------                        --------------  -----  \n",
      " 0   Customer ID                   5878 non-null   float64\n",
      " 1   Recency                       5878 non-null   int64  \n",
      " 2   Frequency                     5878 non-null   int64  \n",
      " 3   Monetary                      5878 non-null   float64\n",
      " 4   AOV                           5878 non-null   float64\n",
      " 5   Tenure                        5878 non-null   int64  \n",
      " 6   UniqueProducts                5878 non-null   int64  \n",
      " 7   Country_Australia             5878 non-null   float64\n",
      " 8   Country_Austria               5878 non-null   float64\n",
      " 9   Country_Bahrain               5878 non-null   float64\n",
      " 10  Country_Belgium               5878 non-null   float64\n",
      " 11  Country_Brazil                5878 non-null   float64\n",
      " 12  Country_Canada                5878 non-null   float64\n",
      " 13  Country_Channel Islands       5878 non-null   float64\n",
      " 14  Country_Cyprus                5878 non-null   float64\n",
      " 15  Country_Czech Republic        5878 non-null   float64\n",
      " 16  Country_Denmark               5878 non-null   float64\n",
      " 17  Country_EIRE                  5878 non-null   float64\n",
      " 18  Country_European Community    5878 non-null   float64\n",
      " 19  Country_Finland               5878 non-null   float64\n",
      " 20  Country_France                5878 non-null   float64\n",
      " 21  Country_Germany               5878 non-null   float64\n",
      " 22  Country_Greece                5878 non-null   float64\n",
      " 23  Country_Iceland               5878 non-null   float64\n",
      " 24  Country_Israel                5878 non-null   float64\n",
      " 25  Country_Italy                 5878 non-null   float64\n",
      " 26  Country_Japan                 5878 non-null   float64\n",
      " 27  Country_Korea                 5878 non-null   float64\n",
      " 28  Country_Lebanon               5878 non-null   float64\n",
      " 29  Country_Lithuania             5878 non-null   float64\n",
      " 30  Country_Malta                 5878 non-null   float64\n",
      " 31  Country_Netherlands           5878 non-null   float64\n",
      " 32  Country_Nigeria               5878 non-null   float64\n",
      " 33  Country_Norway                5878 non-null   float64\n",
      " 34  Country_Poland                5878 non-null   float64\n",
      " 35  Country_Portugal              5878 non-null   float64\n",
      " 36  Country_RSA                   5878 non-null   float64\n",
      " 37  Country_Saudi Arabia          5878 non-null   float64\n",
      " 38  Country_Singapore             5878 non-null   float64\n",
      " 39  Country_Spain                 5878 non-null   float64\n",
      " 40  Country_Sweden                5878 non-null   float64\n",
      " 41  Country_Switzerland           5878 non-null   float64\n",
      " 42  Country_Thailand              5878 non-null   float64\n",
      " 43  Country_USA                   5878 non-null   float64\n",
      " 44  Country_United Arab Emirates  5878 non-null   float64\n",
      " 45  Country_United Kingdom        5878 non-null   float64\n",
      " 46  Country_Unspecified           5878 non-null   float64\n",
      " 47  Country_West Indies           5878 non-null   float64\n",
      "dtypes: float64(44), int64(4)\n",
      "memory usage: 2.2 MB\n",
      "\n",
      "Descriptive statistics of RFM features (including new ones):\n"
     ]
    },
    {
     "data": {
      "text/html": [
       "<div>\n",
       "<style scoped>\n",
       "    .dataframe tbody tr th:only-of-type {\n",
       "        vertical-align: middle;\n",
       "    }\n",
       "\n",
       "    .dataframe tbody tr th {\n",
       "        vertical-align: top;\n",
       "    }\n",
       "\n",
       "    .dataframe thead th {\n",
       "        text-align: right;\n",
       "    }\n",
       "</style>\n",
       "<table border=\"1\" class=\"dataframe\">\n",
       "  <thead>\n",
       "    <tr style=\"text-align: right;\">\n",
       "      <th></th>\n",
       "      <th>Customer ID</th>\n",
       "      <th>Recency</th>\n",
       "      <th>Frequency</th>\n",
       "      <th>Monetary</th>\n",
       "      <th>AOV</th>\n",
       "      <th>Tenure</th>\n",
       "      <th>UniqueProducts</th>\n",
       "      <th>Country_Australia</th>\n",
       "      <th>Country_Austria</th>\n",
       "      <th>Country_Bahrain</th>\n",
       "      <th>...</th>\n",
       "      <th>Country_Singapore</th>\n",
       "      <th>Country_Spain</th>\n",
       "      <th>Country_Sweden</th>\n",
       "      <th>Country_Switzerland</th>\n",
       "      <th>Country_Thailand</th>\n",
       "      <th>Country_USA</th>\n",
       "      <th>Country_United Arab Emirates</th>\n",
       "      <th>Country_United Kingdom</th>\n",
       "      <th>Country_Unspecified</th>\n",
       "      <th>Country_West Indies</th>\n",
       "    </tr>\n",
       "  </thead>\n",
       "  <tbody>\n",
       "    <tr>\n",
       "      <th>count</th>\n",
       "      <td>5878.000000</td>\n",
       "      <td>5878.000000</td>\n",
       "      <td>5878.000000</td>\n",
       "      <td>5878.000000</td>\n",
       "      <td>5878.000000</td>\n",
       "      <td>5878.000000</td>\n",
       "      <td>5878.000000</td>\n",
       "      <td>5878.000000</td>\n",
       "      <td>5878.000000</td>\n",
       "      <td>5878.000000</td>\n",
       "      <td>...</td>\n",
       "      <td>5878.000000</td>\n",
       "      <td>5878.000000</td>\n",
       "      <td>5878.000000</td>\n",
       "      <td>5878.000000</td>\n",
       "      <td>5878.000000</td>\n",
       "      <td>5878.000000</td>\n",
       "      <td>5878.000000</td>\n",
       "      <td>5878.000000</td>\n",
       "      <td>5878.000000</td>\n",
       "      <td>5878.000000</td>\n",
       "    </tr>\n",
       "    <tr>\n",
       "      <th>mean</th>\n",
       "      <td>15315.313542</td>\n",
       "      <td>201.331916</td>\n",
       "      <td>6.289384</td>\n",
       "      <td>2955.904095</td>\n",
       "      <td>385.180841</td>\n",
       "      <td>474.711637</td>\n",
       "      <td>81.989112</td>\n",
       "      <td>0.002552</td>\n",
       "      <td>0.001871</td>\n",
       "      <td>0.000340</td>\n",
       "      <td>...</td>\n",
       "      <td>0.000170</td>\n",
       "      <td>0.006635</td>\n",
       "      <td>0.003232</td>\n",
       "      <td>0.003403</td>\n",
       "      <td>0.000170</td>\n",
       "      <td>0.001531</td>\n",
       "      <td>0.000681</td>\n",
       "      <td>0.910174</td>\n",
       "      <td>0.001021</td>\n",
       "      <td>0.000170</td>\n",
       "    </tr>\n",
       "    <tr>\n",
       "      <th>std</th>\n",
       "      <td>1715.572666</td>\n",
       "      <td>209.338707</td>\n",
       "      <td>13.009406</td>\n",
       "      <td>14440.852688</td>\n",
       "      <td>1214.286459</td>\n",
       "      <td>223.098342</td>\n",
       "      <td>116.484552</td>\n",
       "      <td>0.050456</td>\n",
       "      <td>0.043223</td>\n",
       "      <td>0.018444</td>\n",
       "      <td>...</td>\n",
       "      <td>0.013043</td>\n",
       "      <td>0.081191</td>\n",
       "      <td>0.056767</td>\n",
       "      <td>0.058237</td>\n",
       "      <td>0.013043</td>\n",
       "      <td>0.039103</td>\n",
       "      <td>0.026080</td>\n",
       "      <td>0.285957</td>\n",
       "      <td>0.031936</td>\n",
       "      <td>0.013043</td>\n",
       "    </tr>\n",
       "    <tr>\n",
       "      <th>min</th>\n",
       "      <td>12346.000000</td>\n",
       "      <td>1.000000</td>\n",
       "      <td>1.000000</td>\n",
       "      <td>2.950000</td>\n",
       "      <td>2.950000</td>\n",
       "      <td>1.000000</td>\n",
       "      <td>1.000000</td>\n",
       "      <td>0.000000</td>\n",
       "      <td>0.000000</td>\n",
       "      <td>0.000000</td>\n",
       "      <td>...</td>\n",
       "      <td>0.000000</td>\n",
       "      <td>0.000000</td>\n",
       "      <td>0.000000</td>\n",
       "      <td>0.000000</td>\n",
       "      <td>0.000000</td>\n",
       "      <td>0.000000</td>\n",
       "      <td>0.000000</td>\n",
       "      <td>0.000000</td>\n",
       "      <td>0.000000</td>\n",
       "      <td>0.000000</td>\n",
       "    </tr>\n",
       "    <tr>\n",
       "      <th>25%</th>\n",
       "      <td>13833.250000</td>\n",
       "      <td>26.000000</td>\n",
       "      <td>1.000000</td>\n",
       "      <td>342.280000</td>\n",
       "      <td>176.682500</td>\n",
       "      <td>313.000000</td>\n",
       "      <td>19.000000</td>\n",
       "      <td>0.000000</td>\n",
       "      <td>0.000000</td>\n",
       "      <td>0.000000</td>\n",
       "      <td>...</td>\n",
       "      <td>0.000000</td>\n",
       "      <td>0.000000</td>\n",
       "      <td>0.000000</td>\n",
       "      <td>0.000000</td>\n",
       "      <td>0.000000</td>\n",
       "      <td>0.000000</td>\n",
       "      <td>0.000000</td>\n",
       "      <td>1.000000</td>\n",
       "      <td>0.000000</td>\n",
       "      <td>0.000000</td>\n",
       "    </tr>\n",
       "    <tr>\n",
       "      <th>50%</th>\n",
       "      <td>15314.500000</td>\n",
       "      <td>96.000000</td>\n",
       "      <td>3.000000</td>\n",
       "      <td>867.740000</td>\n",
       "      <td>279.242679</td>\n",
       "      <td>530.000000</td>\n",
       "      <td>45.000000</td>\n",
       "      <td>0.000000</td>\n",
       "      <td>0.000000</td>\n",
       "      <td>0.000000</td>\n",
       "      <td>...</td>\n",
       "      <td>0.000000</td>\n",
       "      <td>0.000000</td>\n",
       "      <td>0.000000</td>\n",
       "      <td>0.000000</td>\n",
       "      <td>0.000000</td>\n",
       "      <td>0.000000</td>\n",
       "      <td>0.000000</td>\n",
       "      <td>1.000000</td>\n",
       "      <td>0.000000</td>\n",
       "      <td>0.000000</td>\n",
       "    </tr>\n",
       "    <tr>\n",
       "      <th>75%</th>\n",
       "      <td>16797.750000</td>\n",
       "      <td>380.000000</td>\n",
       "      <td>7.000000</td>\n",
       "      <td>2248.305000</td>\n",
       "      <td>414.902458</td>\n",
       "      <td>668.000000</td>\n",
       "      <td>103.000000</td>\n",
       "      <td>0.000000</td>\n",
       "      <td>0.000000</td>\n",
       "      <td>0.000000</td>\n",
       "      <td>...</td>\n",
       "      <td>0.000000</td>\n",
       "      <td>0.000000</td>\n",
       "      <td>0.000000</td>\n",
       "      <td>0.000000</td>\n",
       "      <td>0.000000</td>\n",
       "      <td>0.000000</td>\n",
       "      <td>0.000000</td>\n",
       "      <td>1.000000</td>\n",
       "      <td>0.000000</td>\n",
       "      <td>0.000000</td>\n",
       "    </tr>\n",
       "    <tr>\n",
       "      <th>max</th>\n",
       "      <td>18287.000000</td>\n",
       "      <td>739.000000</td>\n",
       "      <td>398.000000</td>\n",
       "      <td>580987.040000</td>\n",
       "      <td>84236.250000</td>\n",
       "      <td>739.000000</td>\n",
       "      <td>2550.000000</td>\n",
       "      <td>1.000000</td>\n",
       "      <td>1.000000</td>\n",
       "      <td>1.000000</td>\n",
       "      <td>...</td>\n",
       "      <td>1.000000</td>\n",
       "      <td>1.000000</td>\n",
       "      <td>1.000000</td>\n",
       "      <td>1.000000</td>\n",
       "      <td>1.000000</td>\n",
       "      <td>1.000000</td>\n",
       "      <td>1.000000</td>\n",
       "      <td>1.000000</td>\n",
       "      <td>1.000000</td>\n",
       "      <td>1.000000</td>\n",
       "    </tr>\n",
       "  </tbody>\n",
       "</table>\n",
       "<p>8 rows × 48 columns</p>\n",
       "</div>"
      ],
      "text/plain": [
       "        Customer ID      Recency    Frequency       Monetary           AOV  \\\n",
       "count   5878.000000  5878.000000  5878.000000    5878.000000   5878.000000   \n",
       "mean   15315.313542   201.331916     6.289384    2955.904095    385.180841   \n",
       "std     1715.572666   209.338707    13.009406   14440.852688   1214.286459   \n",
       "min    12346.000000     1.000000     1.000000       2.950000      2.950000   \n",
       "25%    13833.250000    26.000000     1.000000     342.280000    176.682500   \n",
       "50%    15314.500000    96.000000     3.000000     867.740000    279.242679   \n",
       "75%    16797.750000   380.000000     7.000000    2248.305000    414.902458   \n",
       "max    18287.000000   739.000000   398.000000  580987.040000  84236.250000   \n",
       "\n",
       "            Tenure  UniqueProducts  Country_Australia  Country_Austria  \\\n",
       "count  5878.000000     5878.000000        5878.000000      5878.000000   \n",
       "mean    474.711637       81.989112           0.002552         0.001871   \n",
       "std     223.098342      116.484552           0.050456         0.043223   \n",
       "min       1.000000        1.000000           0.000000         0.000000   \n",
       "25%     313.000000       19.000000           0.000000         0.000000   \n",
       "50%     530.000000       45.000000           0.000000         0.000000   \n",
       "75%     668.000000      103.000000           0.000000         0.000000   \n",
       "max     739.000000     2550.000000           1.000000         1.000000   \n",
       "\n",
       "       Country_Bahrain  ...  Country_Singapore  Country_Spain  Country_Sweden  \\\n",
       "count      5878.000000  ...        5878.000000    5878.000000     5878.000000   \n",
       "mean          0.000340  ...           0.000170       0.006635        0.003232   \n",
       "std           0.018444  ...           0.013043       0.081191        0.056767   \n",
       "min           0.000000  ...           0.000000       0.000000        0.000000   \n",
       "25%           0.000000  ...           0.000000       0.000000        0.000000   \n",
       "50%           0.000000  ...           0.000000       0.000000        0.000000   \n",
       "75%           0.000000  ...           0.000000       0.000000        0.000000   \n",
       "max           1.000000  ...           1.000000       1.000000        1.000000   \n",
       "\n",
       "       Country_Switzerland  Country_Thailand  Country_USA  \\\n",
       "count          5878.000000       5878.000000  5878.000000   \n",
       "mean              0.003403          0.000170     0.001531   \n",
       "std               0.058237          0.013043     0.039103   \n",
       "min               0.000000          0.000000     0.000000   \n",
       "25%               0.000000          0.000000     0.000000   \n",
       "50%               0.000000          0.000000     0.000000   \n",
       "75%               0.000000          0.000000     0.000000   \n",
       "max               1.000000          1.000000     1.000000   \n",
       "\n",
       "       Country_United Arab Emirates  Country_United Kingdom  \\\n",
       "count                   5878.000000             5878.000000   \n",
       "mean                       0.000681                0.910174   \n",
       "std                        0.026080                0.285957   \n",
       "min                        0.000000                0.000000   \n",
       "25%                        0.000000                1.000000   \n",
       "50%                        0.000000                1.000000   \n",
       "75%                        0.000000                1.000000   \n",
       "max                        1.000000                1.000000   \n",
       "\n",
       "       Country_Unspecified  Country_West Indies  \n",
       "count          5878.000000          5878.000000  \n",
       "mean              0.001021             0.000170  \n",
       "std               0.031936             0.013043  \n",
       "min               0.000000             0.000000  \n",
       "25%               0.000000             0.000000  \n",
       "50%               0.000000             0.000000  \n",
       "75%               0.000000             0.000000  \n",
       "max               1.000000             1.000000  \n",
       "\n",
       "[8 rows x 48 columns]"
      ]
     },
     "metadata": {},
     "output_type": "display_data"
    }
   ],
   "source": [
    "# Cell 11: Combine All Features into RFM DataFrame\n",
    "# Start with Recency DataFrame\n",
    "rfm_df = recency_df[['Customer ID', 'Recency']]\n",
    "\n",
    "# Merge with Frequency DataFrame\n",
    "rfm_df = pd.merge(rfm_df, frequency_df, on='Customer ID', how='left')\n",
    "\n",
    "# Merge with Monetary DataFrame\n",
    "rfm_df = pd.merge(rfm_df, monetary_df, on='Customer ID', how='left')\n",
    "\n",
    "# Merge with Average Order Value (AOV) DataFrame\n",
    "rfm_df = pd.merge(rfm_df, aov_df, on='Customer ID', how='left')\n",
    "\n",
    "# Merge with Customer Tenure DataFrame\n",
    "rfm_df = pd.merge(rfm_df, first_purchase_df, on='Customer ID', how='left')\n",
    "\n",
    "# Merge with Unique Products DataFrame\n",
    "rfm_df = pd.merge(rfm_df, unique_products_df, on='Customer ID', how='left')\n",
    "\n",
    "# Merge with One-Hot Encoded Country features\n",
    "rfm_df = pd.merge(rfm_df, country_encoded_df, on='Customer ID', how='left')\n",
    "\n",
    "print(\"All features combined into RFM DataFrame:\")\n",
    "display(rfm_df.head())\n",
    "print(f\"Shape of RFM DataFrame with new features: {rfm_df.shape}\")\n",
    "print(\"RFM DataFrame Info (showing new columns):\")\n",
    "rfm_df.info()\n",
    "print(\"\\nDescriptive statistics of RFM features (including new ones):\")\n",
    "display(rfm_df.describe())"
   ]
  },
  {
   "cell_type": "code",
   "execution_count": 53,
   "id": "76a480dd",
   "metadata": {},
   "outputs": [
    {
     "data": {
      "text/plain": [
       "((5878, 48),\n",
       " 282144,\n",
       " Index(['Customer ID', 'Recency', 'Frequency', 'Monetary', 'AOV', 'Tenure',\n",
       "        'UniqueProducts', 'Country_Australia', 'Country_Austria',\n",
       "        'Country_Bahrain', 'Country_Belgium', 'Country_Brazil',\n",
       "        'Country_Canada', 'Country_Channel Islands', 'Country_Cyprus',\n",
       "        'Country_Czech Republic', 'Country_Denmark', 'Country_EIRE',\n",
       "        'Country_European Community', 'Country_Finland', 'Country_France',\n",
       "        'Country_Germany', 'Country_Greece', 'Country_Iceland',\n",
       "        'Country_Israel', 'Country_Italy', 'Country_Japan', 'Country_Korea',\n",
       "        'Country_Lebanon', 'Country_Lithuania', 'Country_Malta',\n",
       "        'Country_Netherlands', 'Country_Nigeria', 'Country_Norway',\n",
       "        'Country_Poland', 'Country_Portugal', 'Country_RSA',\n",
       "        'Country_Saudi Arabia', 'Country_Singapore', 'Country_Spain',\n",
       "        'Country_Sweden', 'Country_Switzerland', 'Country_Thailand',\n",
       "        'Country_USA', 'Country_United Arab Emirates', 'Country_United Kingdom',\n",
       "        'Country_Unspecified', 'Country_West Indies'],\n",
       "       dtype='object'))"
      ]
     },
     "execution_count": 53,
     "metadata": {},
     "output_type": "execute_result"
    }
   ],
   "source": [
    "rfm_df.shape,rfm_df.size,rfm_df.columns"
   ]
  },
  {
   "cell_type": "code",
   "execution_count": 55,
   "id": "3d1d9817",
   "metadata": {},
   "outputs": [
    {
     "name": "stdout",
     "output_type": "stream",
     "text": [
      "Attempting to save enhanced RFM features to: ../data\\rfm_features_enhanced.xlsx\n",
      "Enhanced RFM features successfully saved to '../data\\rfm_features_enhanced.xlsx'.\n"
     ]
    }
   ],
   "source": [
    "# Cell 12: Save RFM Features\n",
    "# Define the path to save the final RFM features file\n",
    "# Since this notebook might be in 'models' folder, output to '../data'\n",
    "output_data_folder = '../data'\n",
    "output_file_name = 'rfm_features_enhanced.xlsx' # Changed filename to indicate enhanced features\n",
    "output_file_path = os.path.join(output_data_folder, output_file_name)\n",
    "\n",
    "print(f\"Attempting to save enhanced RFM features to: {output_file_path}\")\n",
    "\n",
    "rfm_df.to_excel(output_file_path, index=False)\n",
    "\n",
    "print(f\"Enhanced RFM features successfully saved to '{output_file_path}'.\")"
   ]
  },
  {
   "cell_type": "code",
   "execution_count": null,
   "id": "f1e29979",
   "metadata": {},
   "outputs": [],
   "source": []
  }
 ],
 "metadata": {
  "kernelspec": {
   "display_name": "Python 3",
   "language": "python",
   "name": "python3"
  },
  "language_info": {
   "codemirror_mode": {
    "name": "ipython",
    "version": 3
   },
   "file_extension": ".py",
   "mimetype": "text/x-python",
   "name": "python",
   "nbconvert_exporter": "python",
   "pygments_lexer": "ipython3",
   "version": "3.11.8"
  }
 },
 "nbformat": 4,
 "nbformat_minor": 5
}
