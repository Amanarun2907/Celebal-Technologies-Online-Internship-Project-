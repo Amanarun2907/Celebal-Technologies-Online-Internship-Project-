{
 "cells": [
  {
   "cell_type": "markdown",
   "id": "969f34e8",
   "metadata": {},
   "source": [
    "## Import Libraries"
   ]
  },
  {
   "cell_type": "code",
   "execution_count": 1,
   "id": "b61a4da2",
   "metadata": {},
   "outputs": [
    {
     "name": "stdout",
     "output_type": "stream",
     "text": [
      "Libraries imported successfully.\n"
     ]
    }
   ],
   "source": [
    "# Cell 1: Import Libraries\n",
    "import pandas as pd\n",
    "import os\n",
    "import datetime as dt\n",
    "print(\"Libraries imported successfully.\")"
   ]
  },
  {
   "cell_type": "markdown",
   "id": "c45befd1",
   "metadata": {},
   "source": [
    "## Load Cleaned Data"
   ]
  },
  {
   "cell_type": "code",
   "execution_count": 2,
   "id": "f74ef9bf",
   "metadata": {},
   "outputs": [
    {
     "name": "stdout",
     "output_type": "stream",
     "text": [
      "Loading cleaned data from: ../data\\online_retail_dataset_preprocessing.xlsx\n",
      "Cleaned data loaded. Shape: (779425, 9)\n",
      "First 5 rows of cleaned data (with correct TotalPrice):\n"
     ]
    },
    {
     "data": {
      "text/html": [
       "<div>\n",
       "<style scoped>\n",
       "    .dataframe tbody tr th:only-of-type {\n",
       "        vertical-align: middle;\n",
       "    }\n",
       "\n",
       "    .dataframe tbody tr th {\n",
       "        vertical-align: top;\n",
       "    }\n",
       "\n",
       "    .dataframe thead th {\n",
       "        text-align: right;\n",
       "    }\n",
       "</style>\n",
       "<table border=\"1\" class=\"dataframe\">\n",
       "  <thead>\n",
       "    <tr style=\"text-align: right;\">\n",
       "      <th></th>\n",
       "      <th>Invoice</th>\n",
       "      <th>StockCode</th>\n",
       "      <th>Description</th>\n",
       "      <th>Quantity</th>\n",
       "      <th>InvoiceDate</th>\n",
       "      <th>Price</th>\n",
       "      <th>Customer ID</th>\n",
       "      <th>Country</th>\n",
       "      <th>TotalPrice</th>\n",
       "    </tr>\n",
       "  </thead>\n",
       "  <tbody>\n",
       "    <tr>\n",
       "      <th>0</th>\n",
       "      <td>489434</td>\n",
       "      <td>85048</td>\n",
       "      <td>15CM CHRISTMAS GLASS BALL 20 LIGHTS</td>\n",
       "      <td>12</td>\n",
       "      <td>2009-12-01 07:45:00</td>\n",
       "      <td>6.95</td>\n",
       "      <td>13085.0</td>\n",
       "      <td>United Kingdom</td>\n",
       "      <td>83.4</td>\n",
       "    </tr>\n",
       "    <tr>\n",
       "      <th>1</th>\n",
       "      <td>489434</td>\n",
       "      <td>79323P</td>\n",
       "      <td>PINK CHERRY LIGHTS</td>\n",
       "      <td>12</td>\n",
       "      <td>2009-12-01 07:45:00</td>\n",
       "      <td>6.75</td>\n",
       "      <td>13085.0</td>\n",
       "      <td>United Kingdom</td>\n",
       "      <td>81.0</td>\n",
       "    </tr>\n",
       "    <tr>\n",
       "      <th>2</th>\n",
       "      <td>489434</td>\n",
       "      <td>79323W</td>\n",
       "      <td>WHITE CHERRY LIGHTS</td>\n",
       "      <td>12</td>\n",
       "      <td>2009-12-01 07:45:00</td>\n",
       "      <td>6.75</td>\n",
       "      <td>13085.0</td>\n",
       "      <td>United Kingdom</td>\n",
       "      <td>81.0</td>\n",
       "    </tr>\n",
       "    <tr>\n",
       "      <th>3</th>\n",
       "      <td>489434</td>\n",
       "      <td>22041</td>\n",
       "      <td>RECORD FRAME 7\" SINGLE SIZE</td>\n",
       "      <td>48</td>\n",
       "      <td>2009-12-01 07:45:00</td>\n",
       "      <td>2.10</td>\n",
       "      <td>13085.0</td>\n",
       "      <td>United Kingdom</td>\n",
       "      <td>100.8</td>\n",
       "    </tr>\n",
       "    <tr>\n",
       "      <th>4</th>\n",
       "      <td>489434</td>\n",
       "      <td>21232</td>\n",
       "      <td>STRAWBERRY CERAMIC TRINKET BOX</td>\n",
       "      <td>24</td>\n",
       "      <td>2009-12-01 07:45:00</td>\n",
       "      <td>1.25</td>\n",
       "      <td>13085.0</td>\n",
       "      <td>United Kingdom</td>\n",
       "      <td>30.0</td>\n",
       "    </tr>\n",
       "  </tbody>\n",
       "</table>\n",
       "</div>"
      ],
      "text/plain": [
       "   Invoice StockCode                          Description  Quantity  \\\n",
       "0   489434     85048  15CM CHRISTMAS GLASS BALL 20 LIGHTS        12   \n",
       "1   489434    79323P                   PINK CHERRY LIGHTS        12   \n",
       "2   489434    79323W                  WHITE CHERRY LIGHTS        12   \n",
       "3   489434     22041         RECORD FRAME 7\" SINGLE SIZE         48   \n",
       "4   489434     21232       STRAWBERRY CERAMIC TRINKET BOX        24   \n",
       "\n",
       "          InvoiceDate  Price  Customer ID         Country  TotalPrice  \n",
       "0 2009-12-01 07:45:00   6.95      13085.0  United Kingdom        83.4  \n",
       "1 2009-12-01 07:45:00   6.75      13085.0  United Kingdom        81.0  \n",
       "2 2009-12-01 07:45:00   6.75      13085.0  United Kingdom        81.0  \n",
       "3 2009-12-01 07:45:00   2.10      13085.0  United Kingdom       100.8  \n",
       "4 2009-12-01 07:45:00   1.25      13085.0  United Kingdom        30.0  "
      ]
     },
     "metadata": {},
     "output_type": "display_data"
    }
   ],
   "source": [
    "# Cell 2: Load Cleaned Data\n",
    "# Define the path to your cleaned data file in the 'data' folder\n",
    "data_folder = '../data' # Relative path from notebooks to data folder\n",
    "cleaned_file_name = 'online_retail_dataset_preprocessing.xlsx'\n",
    "cleaned_file_path = os.path.join(data_folder, cleaned_file_name)\n",
    "\n",
    "print(f\"Loading cleaned data from: {cleaned_file_path}\")\n",
    "\n",
    "# Load the cleaned DataFrame\n",
    "df_cleaned = pd.read_excel(cleaned_file_path)\n",
    "\n",
    "print(f\"Cleaned data loaded. Shape: {df_cleaned.shape}\")\n",
    "print(\"First 5 rows of cleaned data (with correct TotalPrice):\")\n",
    "display(df_cleaned.head())"
   ]
  },
  {
   "cell_type": "markdown",
   "id": "2aa2fa66",
   "metadata": {},
   "source": [
    "## Determine Snapshot Date for RFM Analysis"
   ]
  },
  {
   "cell_type": "code",
   "execution_count": 3,
   "id": "69bdac1e",
   "metadata": {},
   "outputs": [
    {
     "name": "stdout",
     "output_type": "stream",
     "text": [
      "The latest invoice date in the dataset is: 2011-12-09 12:50:00\n",
      "The RFM analysis snapshot date is: 2011-12-10 12:50:00\n"
     ]
    }
   ],
   "source": [
    "# Cell 3: Determine Snapshot Date for RFM Analysis\n",
    "# To calculate Recency, we need a \"snapshot date\" or \"analysis date\".\n",
    "# This is typically one day after the last transaction date in the dataset.\n",
    "snapshot_date = df_cleaned['InvoiceDate'].max() + dt.timedelta(days=1)\n",
    "\n",
    "print(f\"The latest invoice date in the dataset is: {df_cleaned['InvoiceDate'].max()}\")\n",
    "print(f\"The RFM analysis snapshot date is: {snapshot_date}\")"
   ]
  },
  {
   "cell_type": "markdown",
   "id": "cd045cc1",
   "metadata": {},
   "source": [
    "## Calculate Recency"
   ]
  },
  {
   "cell_type": "code",
   "execution_count": 5,
   "id": "f94c86dd",
   "metadata": {},
   "outputs": [
    {
     "name": "stdout",
     "output_type": "stream",
     "text": [
      "Recency calculation complete. First 5 rows:\n"
     ]
    },
    {
     "data": {
      "text/html": [
       "<div>\n",
       "<style scoped>\n",
       "    .dataframe tbody tr th:only-of-type {\n",
       "        vertical-align: middle;\n",
       "    }\n",
       "\n",
       "    .dataframe tbody tr th {\n",
       "        vertical-align: top;\n",
       "    }\n",
       "\n",
       "    .dataframe thead th {\n",
       "        text-align: right;\n",
       "    }\n",
       "</style>\n",
       "<table border=\"1\" class=\"dataframe\">\n",
       "  <thead>\n",
       "    <tr style=\"text-align: right;\">\n",
       "      <th></th>\n",
       "      <th>Customer ID</th>\n",
       "      <th>LastPurchaseDate</th>\n",
       "      <th>Recency</th>\n",
       "    </tr>\n",
       "  </thead>\n",
       "  <tbody>\n",
       "    <tr>\n",
       "      <th>0</th>\n",
       "      <td>12346.0</td>\n",
       "      <td>2011-01-18 10:01:00</td>\n",
       "      <td>326</td>\n",
       "    </tr>\n",
       "    <tr>\n",
       "      <th>1</th>\n",
       "      <td>12347.0</td>\n",
       "      <td>2011-12-07 15:52:00</td>\n",
       "      <td>2</td>\n",
       "    </tr>\n",
       "    <tr>\n",
       "      <th>2</th>\n",
       "      <td>12348.0</td>\n",
       "      <td>2011-09-25 13:13:00</td>\n",
       "      <td>75</td>\n",
       "    </tr>\n",
       "    <tr>\n",
       "      <th>3</th>\n",
       "      <td>12349.0</td>\n",
       "      <td>2011-11-21 09:51:00</td>\n",
       "      <td>19</td>\n",
       "    </tr>\n",
       "    <tr>\n",
       "      <th>4</th>\n",
       "      <td>12350.0</td>\n",
       "      <td>2011-02-02 16:01:00</td>\n",
       "      <td>310</td>\n",
       "    </tr>\n",
       "  </tbody>\n",
       "</table>\n",
       "</div>"
      ],
      "text/plain": [
       "   Customer ID    LastPurchaseDate  Recency\n",
       "0      12346.0 2011-01-18 10:01:00      326\n",
       "1      12347.0 2011-12-07 15:52:00        2\n",
       "2      12348.0 2011-09-25 13:13:00       75\n",
       "3      12349.0 2011-11-21 09:51:00       19\n",
       "4      12350.0 2011-02-02 16:01:00      310"
      ]
     },
     "metadata": {},
     "output_type": "display_data"
    }
   ],
   "source": [
    "# Calculate Recency\n",
    "# Recency is calculated as the number of days between the snapshot date and the customer's last purchase date.\n",
    "# A smaller Recency value indicates a more recently active customer.\n",
    "\n",
    "# Group by CustomerID and find the maximum InvoiceDate for each customer (last purchase date)\n",
    "recency_df = df_cleaned.groupby('Customer ID')['InvoiceDate'].max().reset_index()\n",
    "recency_df.columns = ['Customer ID', 'LastPurchaseDate']\n",
    "\n",
    "# Calculate Recency in days\n",
    "recency_df['Recency'] = (snapshot_date - recency_df['LastPurchaseDate']).dt.days\n",
    "\n",
    "print(\"Recency calculation complete. First 5 rows:\")\n",
    "display(recency_df.head())"
   ]
  },
  {
   "cell_type": "code",
   "execution_count": 9,
   "id": "38c487f7",
   "metadata": {},
   "outputs": [
    {
     "data": {
      "text/plain": [
       "np.int64(739)"
      ]
     },
     "execution_count": 9,
     "metadata": {},
     "output_type": "execute_result"
    }
   ],
   "source": [
    "recency_df['Recency'].max()"
   ]
  },
  {
   "cell_type": "code",
   "execution_count": 10,
   "id": "789b4558",
   "metadata": {},
   "outputs": [
    {
     "data": {
      "text/plain": [
       "np.int64(1)"
      ]
     },
     "execution_count": 10,
     "metadata": {},
     "output_type": "execute_result"
    }
   ],
   "source": [
    "recency_df['Recency'].min()"
   ]
  },
  {
   "cell_type": "code",
   "execution_count": 11,
   "id": "25166f14",
   "metadata": {},
   "outputs": [
    {
     "data": {
      "text/plain": [
       "np.float64(201.331915617557)"
      ]
     },
     "execution_count": 11,
     "metadata": {},
     "output_type": "execute_result"
    }
   ],
   "source": [
    "recency_df['Recency'].mean()"
   ]
  },
  {
   "cell_type": "code",
   "execution_count": 20,
   "id": "d0b11f52",
   "metadata": {},
   "outputs": [
    {
     "data": {
      "text/plain": [
       "(5878, 3)"
      ]
     },
     "execution_count": 20,
     "metadata": {},
     "output_type": "execute_result"
    }
   ],
   "source": [
    "recency_df.shape"
   ]
  },
  {
   "cell_type": "markdown",
   "id": "927668ef",
   "metadata": {},
   "source": [
    "## Calculate Frequency"
   ]
  },
  {
   "cell_type": "code",
   "execution_count": 6,
   "id": "88efc5c1",
   "metadata": {},
   "outputs": [
    {
     "name": "stdout",
     "output_type": "stream",
     "text": [
      "Frequency calculation complete. First 5 rows:\n"
     ]
    },
    {
     "data": {
      "text/html": [
       "<div>\n",
       "<style scoped>\n",
       "    .dataframe tbody tr th:only-of-type {\n",
       "        vertical-align: middle;\n",
       "    }\n",
       "\n",
       "    .dataframe tbody tr th {\n",
       "        vertical-align: top;\n",
       "    }\n",
       "\n",
       "    .dataframe thead th {\n",
       "        text-align: right;\n",
       "    }\n",
       "</style>\n",
       "<table border=\"1\" class=\"dataframe\">\n",
       "  <thead>\n",
       "    <tr style=\"text-align: right;\">\n",
       "      <th></th>\n",
       "      <th>Customer ID</th>\n",
       "      <th>Frequency</th>\n",
       "    </tr>\n",
       "  </thead>\n",
       "  <tbody>\n",
       "    <tr>\n",
       "      <th>0</th>\n",
       "      <td>12346.0</td>\n",
       "      <td>12</td>\n",
       "    </tr>\n",
       "    <tr>\n",
       "      <th>1</th>\n",
       "      <td>12347.0</td>\n",
       "      <td>8</td>\n",
       "    </tr>\n",
       "    <tr>\n",
       "      <th>2</th>\n",
       "      <td>12348.0</td>\n",
       "      <td>5</td>\n",
       "    </tr>\n",
       "    <tr>\n",
       "      <th>3</th>\n",
       "      <td>12349.0</td>\n",
       "      <td>4</td>\n",
       "    </tr>\n",
       "    <tr>\n",
       "      <th>4</th>\n",
       "      <td>12350.0</td>\n",
       "      <td>1</td>\n",
       "    </tr>\n",
       "  </tbody>\n",
       "</table>\n",
       "</div>"
      ],
      "text/plain": [
       "   Customer ID  Frequency\n",
       "0      12346.0         12\n",
       "1      12347.0          8\n",
       "2      12348.0          5\n",
       "3      12349.0          4\n",
       "4      12350.0          1"
      ]
     },
     "metadata": {},
     "output_type": "display_data"
    }
   ],
   "source": [
    "# Calculate Frequency\n",
    "# Frequency is the number of unique purchase instances (invoices) for each customer.\n",
    "# A higher Frequency indicates a more frequent buyer.\n",
    "# We count unique Invoice numbers for each customer.\n",
    "\n",
    "frequency_df = df_cleaned.groupby('Customer ID')['Invoice'].nunique().reset_index() # Corrected to InvoiceNo\n",
    "frequency_df.columns = ['Customer ID', 'Frequency']\n",
    "\n",
    "print(\"Frequency calculation complete. First 5 rows:\")\n",
    "display(frequency_df.head())"
   ]
  },
  {
   "cell_type": "code",
   "execution_count": 8,
   "id": "524db629",
   "metadata": {},
   "outputs": [
    {
     "data": {
      "text/plain": [
       "np.int64(1)"
      ]
     },
     "execution_count": 8,
     "metadata": {},
     "output_type": "execute_result"
    }
   ],
   "source": [
    "frequency_df['Frequency'].min()"
   ]
  },
  {
   "cell_type": "code",
   "execution_count": 7,
   "id": "e4ae753f",
   "metadata": {},
   "outputs": [
    {
     "data": {
      "text/plain": [
       "np.int64(398)"
      ]
     },
     "execution_count": 7,
     "metadata": {},
     "output_type": "execute_result"
    }
   ],
   "source": [
    "frequency_df['Frequency'].max()"
   ]
  },
  {
   "cell_type": "code",
   "execution_count": 12,
   "id": "43ef5d80",
   "metadata": {},
   "outputs": [
    {
     "data": {
      "text/plain": [
       "np.float64(6.289384144266758)"
      ]
     },
     "execution_count": 12,
     "metadata": {},
     "output_type": "execute_result"
    }
   ],
   "source": [
    "frequency_df['Frequency'].mean()"
   ]
  },
  {
   "cell_type": "code",
   "execution_count": 19,
   "id": "d0d418f5",
   "metadata": {},
   "outputs": [
    {
     "data": {
      "text/plain": [
       "(5878, 2)"
      ]
     },
     "execution_count": 19,
     "metadata": {},
     "output_type": "execute_result"
    }
   ],
   "source": [
    "frequency_df.shape"
   ]
  },
  {
   "cell_type": "markdown",
   "id": "baf50af6",
   "metadata": {},
   "source": [
    "## Calculate Monetary"
   ]
  },
  {
   "cell_type": "code",
   "execution_count": 13,
   "id": "a86a3e28",
   "metadata": {},
   "outputs": [
    {
     "name": "stdout",
     "output_type": "stream",
     "text": [
      "Monetary calculation complete. First 5 rows:\n"
     ]
    },
    {
     "data": {
      "text/html": [
       "<div>\n",
       "<style scoped>\n",
       "    .dataframe tbody tr th:only-of-type {\n",
       "        vertical-align: middle;\n",
       "    }\n",
       "\n",
       "    .dataframe tbody tr th {\n",
       "        vertical-align: top;\n",
       "    }\n",
       "\n",
       "    .dataframe thead th {\n",
       "        text-align: right;\n",
       "    }\n",
       "</style>\n",
       "<table border=\"1\" class=\"dataframe\">\n",
       "  <thead>\n",
       "    <tr style=\"text-align: right;\">\n",
       "      <th></th>\n",
       "      <th>Customer ID</th>\n",
       "      <th>Monetary</th>\n",
       "    </tr>\n",
       "  </thead>\n",
       "  <tbody>\n",
       "    <tr>\n",
       "      <th>0</th>\n",
       "      <td>12346.0</td>\n",
       "      <td>77556.46</td>\n",
       "    </tr>\n",
       "    <tr>\n",
       "      <th>1</th>\n",
       "      <td>12347.0</td>\n",
       "      <td>4921.53</td>\n",
       "    </tr>\n",
       "    <tr>\n",
       "      <th>2</th>\n",
       "      <td>12348.0</td>\n",
       "      <td>2019.40</td>\n",
       "    </tr>\n",
       "    <tr>\n",
       "      <th>3</th>\n",
       "      <td>12349.0</td>\n",
       "      <td>4428.69</td>\n",
       "    </tr>\n",
       "    <tr>\n",
       "      <th>4</th>\n",
       "      <td>12350.0</td>\n",
       "      <td>334.40</td>\n",
       "    </tr>\n",
       "  </tbody>\n",
       "</table>\n",
       "</div>"
      ],
      "text/plain": [
       "   Customer ID  Monetary\n",
       "0      12346.0  77556.46\n",
       "1      12347.0   4921.53\n",
       "2      12348.0   2019.40\n",
       "3      12349.0   4428.69\n",
       "4      12350.0    334.40"
      ]
     },
     "metadata": {},
     "output_type": "display_data"
    }
   ],
   "source": [
    "# Cell 6: Calculate Monetary\n",
    "# Monetary is the total amount of money spent by each customer.\n",
    "# A higher Monetary value indicates a customer who spends more.\n",
    "# We sum the 'TotalPrice' for each customer, which is derived from Quantity * UnitPrice.\n",
    "\n",
    "monetary_df = df_cleaned.groupby('Customer ID')['TotalPrice'].sum().reset_index()\n",
    "monetary_df.columns = ['Customer ID', 'Monetary']\n",
    "\n",
    "print(\"Monetary calculation complete. First 5 rows:\")\n",
    "display(monetary_df.head())"
   ]
  },
  {
   "cell_type": "code",
   "execution_count": 18,
   "id": "f06ef9d1",
   "metadata": {},
   "outputs": [
    {
     "data": {
      "text/plain": [
       "(5878, 2)"
      ]
     },
     "execution_count": 18,
     "metadata": {},
     "output_type": "execute_result"
    }
   ],
   "source": [
    "monetary_df.shape"
   ]
  },
  {
   "cell_type": "code",
   "execution_count": 14,
   "id": "6a93fbee",
   "metadata": {},
   "outputs": [
    {
     "data": {
      "text/plain": [
       "np.float64(580987.04)"
      ]
     },
     "execution_count": 14,
     "metadata": {},
     "output_type": "execute_result"
    }
   ],
   "source": [
    "monetary_df['Monetary'].max()"
   ]
  },
  {
   "cell_type": "code",
   "execution_count": 15,
   "id": "f3c9e193",
   "metadata": {},
   "outputs": [
    {
     "data": {
      "text/plain": [
       "np.float64(2.95)"
      ]
     },
     "execution_count": 15,
     "metadata": {},
     "output_type": "execute_result"
    }
   ],
   "source": [
    "monetary_df['Monetary'].min()"
   ]
  },
  {
   "cell_type": "code",
   "execution_count": 16,
   "id": "210787ec",
   "metadata": {},
   "outputs": [
    {
     "data": {
      "text/plain": [
       "np.float64(2955.9040945899965)"
      ]
     },
     "execution_count": 16,
     "metadata": {},
     "output_type": "execute_result"
    }
   ],
   "source": [
    "monetary_df['Monetary'].mean()"
   ]
  },
  {
   "cell_type": "markdown",
   "id": "03bad978",
   "metadata": {},
   "source": [
    "## Combine RFM Features"
   ]
  },
  {
   "cell_type": "code",
   "execution_count": 22,
   "id": "6fbb81c9",
   "metadata": {},
   "outputs": [
    {
     "name": "stdout",
     "output_type": "stream",
     "text": [
      "Combined RFM features:\n"
     ]
    },
    {
     "data": {
      "text/html": [
       "<div>\n",
       "<style scoped>\n",
       "    .dataframe tbody tr th:only-of-type {\n",
       "        vertical-align: middle;\n",
       "    }\n",
       "\n",
       "    .dataframe tbody tr th {\n",
       "        vertical-align: top;\n",
       "    }\n",
       "\n",
       "    .dataframe thead th {\n",
       "        text-align: right;\n",
       "    }\n",
       "</style>\n",
       "<table border=\"1\" class=\"dataframe\">\n",
       "  <thead>\n",
       "    <tr style=\"text-align: right;\">\n",
       "      <th></th>\n",
       "      <th>Customer ID</th>\n",
       "      <th>Recency</th>\n",
       "      <th>Frequency</th>\n",
       "      <th>Monetary</th>\n",
       "    </tr>\n",
       "  </thead>\n",
       "  <tbody>\n",
       "    <tr>\n",
       "      <th>0</th>\n",
       "      <td>12346.0</td>\n",
       "      <td>326</td>\n",
       "      <td>12</td>\n",
       "      <td>77556.46</td>\n",
       "    </tr>\n",
       "    <tr>\n",
       "      <th>1</th>\n",
       "      <td>12347.0</td>\n",
       "      <td>2</td>\n",
       "      <td>8</td>\n",
       "      <td>4921.53</td>\n",
       "    </tr>\n",
       "    <tr>\n",
       "      <th>2</th>\n",
       "      <td>12348.0</td>\n",
       "      <td>75</td>\n",
       "      <td>5</td>\n",
       "      <td>2019.40</td>\n",
       "    </tr>\n",
       "    <tr>\n",
       "      <th>3</th>\n",
       "      <td>12349.0</td>\n",
       "      <td>19</td>\n",
       "      <td>4</td>\n",
       "      <td>4428.69</td>\n",
       "    </tr>\n",
       "    <tr>\n",
       "      <th>4</th>\n",
       "      <td>12350.0</td>\n",
       "      <td>310</td>\n",
       "      <td>1</td>\n",
       "      <td>334.40</td>\n",
       "    </tr>\n",
       "  </tbody>\n",
       "</table>\n",
       "</div>"
      ],
      "text/plain": [
       "   Customer ID  Recency  Frequency  Monetary\n",
       "0      12346.0      326         12  77556.46\n",
       "1      12347.0        2          8   4921.53\n",
       "2      12348.0       75          5   2019.40\n",
       "3      12349.0       19          4   4428.69\n",
       "4      12350.0      310          1    334.40"
      ]
     },
     "metadata": {},
     "output_type": "display_data"
    },
    {
     "name": "stdout",
     "output_type": "stream",
     "text": [
      "Shape of RFM DataFrame: (5878, 4)\n",
      "RFM DataFrame Info:\n",
      "<class 'pandas.core.frame.DataFrame'>\n",
      "RangeIndex: 5878 entries, 0 to 5877\n",
      "Data columns (total 4 columns):\n",
      " #   Column       Non-Null Count  Dtype  \n",
      "---  ------       --------------  -----  \n",
      " 0   Customer ID  5878 non-null   float64\n",
      " 1   Recency      5878 non-null   int64  \n",
      " 2   Frequency    5878 non-null   int64  \n",
      " 3   Monetary     5878 non-null   float64\n",
      "dtypes: float64(2), int64(2)\n",
      "memory usage: 183.8 KB\n",
      "\n",
      "Descriptive statistics of RFM features:\n"
     ]
    },
    {
     "data": {
      "text/html": [
       "<div>\n",
       "<style scoped>\n",
       "    .dataframe tbody tr th:only-of-type {\n",
       "        vertical-align: middle;\n",
       "    }\n",
       "\n",
       "    .dataframe tbody tr th {\n",
       "        vertical-align: top;\n",
       "    }\n",
       "\n",
       "    .dataframe thead th {\n",
       "        text-align: right;\n",
       "    }\n",
       "</style>\n",
       "<table border=\"1\" class=\"dataframe\">\n",
       "  <thead>\n",
       "    <tr style=\"text-align: right;\">\n",
       "      <th></th>\n",
       "      <th>Customer ID</th>\n",
       "      <th>Recency</th>\n",
       "      <th>Frequency</th>\n",
       "      <th>Monetary</th>\n",
       "    </tr>\n",
       "  </thead>\n",
       "  <tbody>\n",
       "    <tr>\n",
       "      <th>count</th>\n",
       "      <td>5878.000000</td>\n",
       "      <td>5878.000000</td>\n",
       "      <td>5878.000000</td>\n",
       "      <td>5878.000000</td>\n",
       "    </tr>\n",
       "    <tr>\n",
       "      <th>mean</th>\n",
       "      <td>15315.313542</td>\n",
       "      <td>201.331916</td>\n",
       "      <td>6.289384</td>\n",
       "      <td>2955.904095</td>\n",
       "    </tr>\n",
       "    <tr>\n",
       "      <th>std</th>\n",
       "      <td>1715.572666</td>\n",
       "      <td>209.338707</td>\n",
       "      <td>13.009406</td>\n",
       "      <td>14440.852688</td>\n",
       "    </tr>\n",
       "    <tr>\n",
       "      <th>min</th>\n",
       "      <td>12346.000000</td>\n",
       "      <td>1.000000</td>\n",
       "      <td>1.000000</td>\n",
       "      <td>2.950000</td>\n",
       "    </tr>\n",
       "    <tr>\n",
       "      <th>25%</th>\n",
       "      <td>13833.250000</td>\n",
       "      <td>26.000000</td>\n",
       "      <td>1.000000</td>\n",
       "      <td>342.280000</td>\n",
       "    </tr>\n",
       "    <tr>\n",
       "      <th>50%</th>\n",
       "      <td>15314.500000</td>\n",
       "      <td>96.000000</td>\n",
       "      <td>3.000000</td>\n",
       "      <td>867.740000</td>\n",
       "    </tr>\n",
       "    <tr>\n",
       "      <th>75%</th>\n",
       "      <td>16797.750000</td>\n",
       "      <td>380.000000</td>\n",
       "      <td>7.000000</td>\n",
       "      <td>2248.305000</td>\n",
       "    </tr>\n",
       "    <tr>\n",
       "      <th>max</th>\n",
       "      <td>18287.000000</td>\n",
       "      <td>739.000000</td>\n",
       "      <td>398.000000</td>\n",
       "      <td>580987.040000</td>\n",
       "    </tr>\n",
       "  </tbody>\n",
       "</table>\n",
       "</div>"
      ],
      "text/plain": [
       "        Customer ID      Recency    Frequency       Monetary\n",
       "count   5878.000000  5878.000000  5878.000000    5878.000000\n",
       "mean   15315.313542   201.331916     6.289384    2955.904095\n",
       "std     1715.572666   209.338707    13.009406   14440.852688\n",
       "min    12346.000000     1.000000     1.000000       2.950000\n",
       "25%    13833.250000    26.000000     1.000000     342.280000\n",
       "50%    15314.500000    96.000000     3.000000     867.740000\n",
       "75%    16797.750000   380.000000     7.000000    2248.305000\n",
       "max    18287.000000   739.000000   398.000000  580987.040000"
      ]
     },
     "metadata": {},
     "output_type": "display_data"
    }
   ],
   "source": [
    "# Combine RFM Features\n",
    "# Merge Recency, Frequency, and Monetary DataFrames into a single RFM DataFrame.\n",
    "\n",
    "# Start with Recency DataFrame\n",
    "rfm_df = recency_df[['Customer ID', 'Recency']]\n",
    "\n",
    "# Merge with Frequency DataFrame\n",
    "rfm_df = pd.merge(rfm_df, frequency_df, on='Customer ID', how='left')\n",
    "\n",
    "# Merge with Monetary DataFrame\n",
    "rfm_df = pd.merge(rfm_df, monetary_df, on='Customer ID', how='left')\n",
    "\n",
    "print(\"Combined RFM features:\")\n",
    "display(rfm_df.head())\n",
    "print(f\"Shape of RFM DataFrame: {rfm_df.shape}\")\n",
    "print(\"RFM DataFrame Info:\")\n",
    "rfm_df.info()\n",
    "print(\"\\nDescriptive statistics of RFM features:\")\n",
    "display(rfm_df.describe())"
   ]
  },
  {
   "cell_type": "code",
   "execution_count": 23,
   "id": "76a480dd",
   "metadata": {},
   "outputs": [
    {
     "data": {
      "text/plain": [
       "((5878, 4),\n",
       " 23512,\n",
       " Index(['Customer ID', 'Recency', 'Frequency', 'Monetary'], dtype='object'))"
      ]
     },
     "execution_count": 23,
     "metadata": {},
     "output_type": "execute_result"
    }
   ],
   "source": [
    "rfm_df.shape,rfm_df.size,rfm_df.columns"
   ]
  },
  {
   "cell_type": "code",
   "execution_count": 24,
   "id": "3d1d9817",
   "metadata": {},
   "outputs": [
    {
     "name": "stdout",
     "output_type": "stream",
     "text": [
      "Attempting to save RFM features to: ../data\\rfm_features.xlsx\n",
      "RFM features successfully saved to '../data\\rfm_features.xlsx'.\n"
     ]
    }
   ],
   "source": [
    "# Cell 8: Save RFM Features\n",
    "# Save the final RFM DataFrame for future use in model training.\n",
    "output_data_folder = '../data' # Relative path from notebooks to data folder\n",
    "output_file_name = 'rfm_features.xlsx'\n",
    "output_file_path = os.path.join(output_data_folder, output_file_name)\n",
    "\n",
    "print(f\"Attempting to save RFM features to: {output_file_path}\")\n",
    "\n",
    "rfm_df.to_excel(output_file_path, index=False)\n",
    "\n",
    "print(f\"RFM features successfully saved to '{output_file_path}'.\")"
   ]
  },
  {
   "cell_type": "code",
   "execution_count": null,
   "id": "f1e29979",
   "metadata": {},
   "outputs": [],
   "source": []
  }
 ],
 "metadata": {
  "kernelspec": {
   "display_name": "Python 3",
   "language": "python",
   "name": "python3"
  },
  "language_info": {
   "codemirror_mode": {
    "name": "ipython",
    "version": 3
   },
   "file_extension": ".py",
   "mimetype": "text/x-python",
   "name": "python",
   "nbconvert_exporter": "python",
   "pygments_lexer": "ipython3",
   "version": "3.11.8"
  }
 },
 "nbformat": 4,
 "nbformat_minor": 5
}
